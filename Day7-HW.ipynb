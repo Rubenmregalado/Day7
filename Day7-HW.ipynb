{
 "cells": [
  {
   "cell_type": "markdown",
   "id": "a9215f5c-525b-4508-8b0d-700f55cbd252",
   "metadata": {},
   "source": [
    "## Introduction to Data Science\n",
    "\n",
    "#### University of Redlands - DATA 101\n",
    "#### Prof: Joanna Bieri [joanna_bieri@redlands.edu](mailto:joanna_bieri@redlands.edu)\n",
    "#### [Class Website: data101.joannabieri.com](https://joannabieri.com/data101.html)\n",
    "\n",
    "---------------------------------------\n",
    "# Homework Day 7\n",
    "---------------------------------------\n",
    "\n",
    "GOALS:\n",
    "\n",
    "1. Answer all the questions from the lecture - we will use the scientists data and the grocery data.\n",
    "2. Analyze data about College majors - your first EDA! (Think of this as a practice exam.)\n",
    "\n",
    "----------------------------------------------------------\n",
    "\n",
    "This homework has **9 Questions** and **A Practice Exam**\n",
    "\n",
    "NOTE:\n",
    "The practice exam is intended to give you an idea of what an exam in this class might feel like. Remember you will be expected to work on the exam **independently** and submit your work before we get together to work on the exam in class. **15\\% of your Exam grade will come from what you can do independently** so start practicing now and get help if you need it!."
   ]
  },
  {
   "cell_type": "code",
   "execution_count": 2,
   "id": "049c24b6-a6c1-4ccc-b2de-5ea0366d09f8",
   "metadata": {},
   "outputs": [],
   "source": [
    "import numpy as np\n",
    "import pandas as pd\n",
    "\n",
    "import matplotlib.pyplot as plt\n",
    "import plotly.express as px\n",
    "from plotly.subplots import make_subplots\n",
    "import plotly.io as pio\n",
    "pio.renderers.defaule = 'colab'\n",
    "\n",
    "from itables import show"
   ]
  },
  {
   "cell_type": "markdown",
   "id": "23773272-c059-4148-a5a8-91e9da594c46",
   "metadata": {},
   "source": [
    "## Lecture Questions\n",
    "\n",
    "First we will import the data about female scientists."
   ]
  },
  {
   "cell_type": "code",
   "execution_count": 4,
   "id": "e90fdd5f-bd17-4c94-b3f4-7ddc998bd001",
   "metadata": {},
   "outputs": [
    {
     "data": {
      "text/html": [
       "<table id=\"itables_c5dda216_17d9_4257_9348_ab723e55b594\" class=\"display nowrap\" data-quarto-disable-processing=\"true\" style=\"table-layout:auto;width:auto;margin:auto;caption-side:bottom\">\n",
       "<thead>\n",
       "    <tr style=\"text-align: right;\">\n",
       "      \n",
       "      <th>name</th>\n",
       "      <th>birth_year</th>\n",
       "      <th>death_year</th>\n",
       "    </tr>\n",
       "  </thead><tbody><tr>\n",
       "<td style=\"vertical-align:middle; text-align:left\">\n",
       "<div style=\"float:left; margin-right: 10px;\">\n",
       "<a href=https://mwouts.github.io/itables/><svg class=\"main-svg\" xmlns=\"http://www.w3.org/2000/svg\" xmlns:xlink=\"http://www.w3.org/1999/xlink\"\n",
       "width=\"64\" viewBox=\"0 0 500 400\" style=\"font-family: 'Droid Sans', sans-serif;\">\n",
       "    <g style=\"fill:#d9d7fc\">\n",
       "        <path d=\"M100,400H500V357H100Z\" />\n",
       "        <path d=\"M100,300H400V257H100Z\" />\n",
       "        <path d=\"M0,200H400V157H0Z\" />\n",
       "        <path d=\"M100,100H500V57H100Z\" />\n",
       "        <path d=\"M100,350H500V307H100Z\" />\n",
       "        <path d=\"M100,250H400V207H100Z\" />\n",
       "        <path d=\"M0,150H400V107H0Z\" />\n",
       "        <path d=\"M100,50H500V7H100Z\" />\n",
       "    </g>\n",
       "    <g style=\"fill:#1a1366;stroke:#1a1366;\">\n",
       "   <rect x=\"100\" y=\"7\" width=\"400\" height=\"43\">\n",
       "    <animate\n",
       "      attributeName=\"width\"\n",
       "      values=\"0;400;0\"\n",
       "      dur=\"5s\"\n",
       "      repeatCount=\"indefinite\" />\n",
       "      <animate\n",
       "      attributeName=\"x\"\n",
       "      values=\"100;100;500\"\n",
       "      dur=\"5s\"\n",
       "      repeatCount=\"indefinite\" />\n",
       "  </rect>\n",
       "        <rect x=\"0\" y=\"107\" width=\"400\" height=\"43\">\n",
       "    <animate\n",
       "      attributeName=\"width\"\n",
       "      values=\"0;400;0\"\n",
       "      dur=\"3.5s\"\n",
       "      repeatCount=\"indefinite\" />\n",
       "    <animate\n",
       "      attributeName=\"x\"\n",
       "      values=\"0;0;400\"\n",
       "      dur=\"3.5s\"\n",
       "      repeatCount=\"indefinite\" />\n",
       "  </rect>\n",
       "        <rect x=\"100\" y=\"207\" width=\"300\" height=\"43\">\n",
       "    <animate\n",
       "      attributeName=\"width\"\n",
       "      values=\"0;300;0\"\n",
       "      dur=\"3s\"\n",
       "      repeatCount=\"indefinite\" />\n",
       "    <animate\n",
       "      attributeName=\"x\"\n",
       "      values=\"100;100;400\"\n",
       "      dur=\"3s\"\n",
       "      repeatCount=\"indefinite\" />\n",
       "  </rect>\n",
       "        <rect x=\"100\" y=\"307\" width=\"400\" height=\"43\">\n",
       "    <animate\n",
       "      attributeName=\"width\"\n",
       "      values=\"0;400;0\"\n",
       "      dur=\"4s\"\n",
       "      repeatCount=\"indefinite\" />\n",
       "      <animate\n",
       "      attributeName=\"x\"\n",
       "      values=\"100;100;500\"\n",
       "      dur=\"4s\"\n",
       "      repeatCount=\"indefinite\" />\n",
       "  </rect>\n",
       "        <g style=\"fill:transparent;stroke-width:8; stroke-linejoin:round\" rx=\"5\">\n",
       "            <g transform=\"translate(45 50) rotate(-45)\">\n",
       "                <circle r=\"33\" cx=\"0\" cy=\"0\" />\n",
       "                <rect x=\"-8\" y=\"32\" width=\"16\" height=\"30\" />\n",
       "            </g>\n",
       "\n",
       "            <g transform=\"translate(450 152)\">\n",
       "                <polyline points=\"-15,-20 -35,-20 -35,40 25,40 25,20\" />\n",
       "                <rect x=\"-15\" y=\"-40\" width=\"60\" height=\"60\" />\n",
       "            </g>\n",
       "\n",
       "            <g transform=\"translate(50 352)\">\n",
       "                <polygon points=\"-35,-5 0,-40 35,-5\" />\n",
       "                <polygon points=\"-35,10 0,45 35,10\" />\n",
       "            </g>\n",
       "\n",
       "            <g transform=\"translate(75 250)\">\n",
       "                <polyline points=\"-30,30 -60,0 -30,-30\" />\n",
       "                <polyline points=\"0,30 -30,0 0,-30\" />\n",
       "            </g>\n",
       "\n",
       "            <g transform=\"translate(425 250) rotate(180)\">\n",
       "                <polyline points=\"-30,30 -60,0 -30,-30\" />\n",
       "                <polyline points=\"0,30 -30,0 0,-30\" />\n",
       "            </g>\n",
       "        </g>\n",
       "    </g>\n",
       "</svg>\n",
       "</a>\n",
       "</div>\n",
       "<div>\n",
       "Loading ITables v2.1.4 from the internet...\n",
       "(need <a href=https://mwouts.github.io/itables/troubleshooting.html>help</a>?)</td>\n",
       "</div>\n",
       "</tr></tbody>\n",
       "\n",
       "</table>\n",
       "<link href=\"https://www.unpkg.com/dt_for_itables@2.0.11/dt_bundle.css\" rel=\"stylesheet\">\n",
       "<script type=\"module\">\n",
       "    import {DataTable, jQuery as $} from 'https://www.unpkg.com/dt_for_itables@2.0.11/dt_bundle.js';\n",
       "\n",
       "    document.querySelectorAll(\"#itables_c5dda216_17d9_4257_9348_ab723e55b594:not(.dataTable)\").forEach(table => {\n",
       "        // Define the table data\n",
       "        const data = [[\"Janaki Ammal\", 1897, 1984.0], [\"Chien-Shiung Wu\", 1912, 1997.0], [\"Katherine Johnson\", 1918, 2020.0], [\"Rosalind Franklin\", 1920, 1958.0], [\"Vera Rubin\", 1928, 2016.0], [\"Gladys West\", 1930, NaN], [\"Flossie Wong-Staal\", 1947, NaN], [\"Jennifer Doudna\", 1964, NaN]];\n",
       "\n",
       "        // Define the dt_args\n",
       "        let dt_args = {\"layout\": {\"topStart\": null, \"topEnd\": null, \"bottomStart\": null, \"bottomEnd\": null}, \"order\": []};\n",
       "        dt_args[\"data\"] = data;\n",
       "\n",
       "        \n",
       "        new DataTable(table, dt_args);\n",
       "    });\n",
       "</script>\n"
      ],
      "text/plain": [
       "<IPython.core.display.HTML object>"
      ]
     },
     "metadata": {},
     "output_type": "display_data"
    },
    {
     "data": {
      "text/html": [
       "<table id=\"itables_83eab1a0_0376_4851_b023_6ed1aa924ff4\" class=\"display nowrap\" data-quarto-disable-processing=\"true\" style=\"table-layout:auto;width:auto;margin:auto;caption-side:bottom\">\n",
       "<thead>\n",
       "    <tr style=\"text-align: right;\">\n",
       "      \n",
       "      <th>name</th>\n",
       "      <th>profession</th>\n",
       "    </tr>\n",
       "  </thead><tbody><tr>\n",
       "<td style=\"vertical-align:middle; text-align:left\">\n",
       "<div style=\"float:left; margin-right: 10px;\">\n",
       "<a href=https://mwouts.github.io/itables/><svg class=\"main-svg\" xmlns=\"http://www.w3.org/2000/svg\" xmlns:xlink=\"http://www.w3.org/1999/xlink\"\n",
       "width=\"64\" viewBox=\"0 0 500 400\" style=\"font-family: 'Droid Sans', sans-serif;\">\n",
       "    <g style=\"fill:#d9d7fc\">\n",
       "        <path d=\"M100,400H500V357H100Z\" />\n",
       "        <path d=\"M100,300H400V257H100Z\" />\n",
       "        <path d=\"M0,200H400V157H0Z\" />\n",
       "        <path d=\"M100,100H500V57H100Z\" />\n",
       "        <path d=\"M100,350H500V307H100Z\" />\n",
       "        <path d=\"M100,250H400V207H100Z\" />\n",
       "        <path d=\"M0,150H400V107H0Z\" />\n",
       "        <path d=\"M100,50H500V7H100Z\" />\n",
       "    </g>\n",
       "    <g style=\"fill:#1a1366;stroke:#1a1366;\">\n",
       "   <rect x=\"100\" y=\"7\" width=\"400\" height=\"43\">\n",
       "    <animate\n",
       "      attributeName=\"width\"\n",
       "      values=\"0;400;0\"\n",
       "      dur=\"5s\"\n",
       "      repeatCount=\"indefinite\" />\n",
       "      <animate\n",
       "      attributeName=\"x\"\n",
       "      values=\"100;100;500\"\n",
       "      dur=\"5s\"\n",
       "      repeatCount=\"indefinite\" />\n",
       "  </rect>\n",
       "        <rect x=\"0\" y=\"107\" width=\"400\" height=\"43\">\n",
       "    <animate\n",
       "      attributeName=\"width\"\n",
       "      values=\"0;400;0\"\n",
       "      dur=\"3.5s\"\n",
       "      repeatCount=\"indefinite\" />\n",
       "    <animate\n",
       "      attributeName=\"x\"\n",
       "      values=\"0;0;400\"\n",
       "      dur=\"3.5s\"\n",
       "      repeatCount=\"indefinite\" />\n",
       "  </rect>\n",
       "        <rect x=\"100\" y=\"207\" width=\"300\" height=\"43\">\n",
       "    <animate\n",
       "      attributeName=\"width\"\n",
       "      values=\"0;300;0\"\n",
       "      dur=\"3s\"\n",
       "      repeatCount=\"indefinite\" />\n",
       "    <animate\n",
       "      attributeName=\"x\"\n",
       "      values=\"100;100;400\"\n",
       "      dur=\"3s\"\n",
       "      repeatCount=\"indefinite\" />\n",
       "  </rect>\n",
       "        <rect x=\"100\" y=\"307\" width=\"400\" height=\"43\">\n",
       "    <animate\n",
       "      attributeName=\"width\"\n",
       "      values=\"0;400;0\"\n",
       "      dur=\"4s\"\n",
       "      repeatCount=\"indefinite\" />\n",
       "      <animate\n",
       "      attributeName=\"x\"\n",
       "      values=\"100;100;500\"\n",
       "      dur=\"4s\"\n",
       "      repeatCount=\"indefinite\" />\n",
       "  </rect>\n",
       "        <g style=\"fill:transparent;stroke-width:8; stroke-linejoin:round\" rx=\"5\">\n",
       "            <g transform=\"translate(45 50) rotate(-45)\">\n",
       "                <circle r=\"33\" cx=\"0\" cy=\"0\" />\n",
       "                <rect x=\"-8\" y=\"32\" width=\"16\" height=\"30\" />\n",
       "            </g>\n",
       "\n",
       "            <g transform=\"translate(450 152)\">\n",
       "                <polyline points=\"-15,-20 -35,-20 -35,40 25,40 25,20\" />\n",
       "                <rect x=\"-15\" y=\"-40\" width=\"60\" height=\"60\" />\n",
       "            </g>\n",
       "\n",
       "            <g transform=\"translate(50 352)\">\n",
       "                <polygon points=\"-35,-5 0,-40 35,-5\" />\n",
       "                <polygon points=\"-35,10 0,45 35,10\" />\n",
       "            </g>\n",
       "\n",
       "            <g transform=\"translate(75 250)\">\n",
       "                <polyline points=\"-30,30 -60,0 -30,-30\" />\n",
       "                <polyline points=\"0,30 -30,0 0,-30\" />\n",
       "            </g>\n",
       "\n",
       "            <g transform=\"translate(425 250) rotate(180)\">\n",
       "                <polyline points=\"-30,30 -60,0 -30,-30\" />\n",
       "                <polyline points=\"0,30 -30,0 0,-30\" />\n",
       "            </g>\n",
       "        </g>\n",
       "    </g>\n",
       "</svg>\n",
       "</a>\n",
       "</div>\n",
       "<div>\n",
       "Loading ITables v2.1.4 from the internet...\n",
       "(need <a href=https://mwouts.github.io/itables/troubleshooting.html>help</a>?)</td>\n",
       "</div>\n",
       "</tr></tbody>\n",
       "\n",
       "</table>\n",
       "<link href=\"https://www.unpkg.com/dt_for_itables@2.0.11/dt_bundle.css\" rel=\"stylesheet\">\n",
       "<script type=\"module\">\n",
       "    import {DataTable, jQuery as $} from 'https://www.unpkg.com/dt_for_itables@2.0.11/dt_bundle.js';\n",
       "\n",
       "    document.querySelectorAll(\"#itables_83eab1a0_0376_4851_b023_6ed1aa924ff4:not(.dataTable)\").forEach(table => {\n",
       "        // Define the table data\n",
       "        const data = [[\"Ada Lovelace\", \"Mathematician\"], [\"Marie Curie\", \"Physicist and Chemist\"], [\"Janaki Ammal\", \"Botanist\"], [\"Chien-Shiung Wu\", \"Physicist\"], [\"Katherine Johnson\", \"Mathematician\"], [\"Rosalind Franklin\", \"Chemist\"], [\"Vera Rubin\", \"Astronomer\"], [\"Gladys West\", \"Mathematician\"], [\"Flossie Wong-Staal\", \"Virologist and Molecular Biologist\"], [\"Jennifer Doudna\", \"Biochemist\"]];\n",
       "\n",
       "        // Define the dt_args\n",
       "        let dt_args = {\"layout\": {\"topStart\": null, \"topEnd\": null, \"bottomStart\": null, \"bottomEnd\": null}, \"order\": []};\n",
       "        dt_args[\"data\"] = data;\n",
       "\n",
       "        \n",
       "        new DataTable(table, dt_args);\n",
       "    });\n",
       "</script>\n"
      ],
      "text/plain": [
       "<IPython.core.display.HTML object>"
      ]
     },
     "metadata": {},
     "output_type": "display_data"
    },
    {
     "data": {
      "text/html": [
       "<table id=\"itables_499c7537_0cab_4463_bca6_8ce366fe897a\" class=\"display nowrap\" data-quarto-disable-processing=\"true\" style=\"table-layout:auto;width:auto;margin:auto;caption-side:bottom\">\n",
       "<thead>\n",
       "    <tr style=\"text-align: right;\">\n",
       "      \n",
       "      <th>name</th>\n",
       "      <th>known_for</th>\n",
       "    </tr>\n",
       "  </thead><tbody><tr>\n",
       "<td style=\"vertical-align:middle; text-align:left\">\n",
       "<div style=\"float:left; margin-right: 10px;\">\n",
       "<a href=https://mwouts.github.io/itables/><svg class=\"main-svg\" xmlns=\"http://www.w3.org/2000/svg\" xmlns:xlink=\"http://www.w3.org/1999/xlink\"\n",
       "width=\"64\" viewBox=\"0 0 500 400\" style=\"font-family: 'Droid Sans', sans-serif;\">\n",
       "    <g style=\"fill:#d9d7fc\">\n",
       "        <path d=\"M100,400H500V357H100Z\" />\n",
       "        <path d=\"M100,300H400V257H100Z\" />\n",
       "        <path d=\"M0,200H400V157H0Z\" />\n",
       "        <path d=\"M100,100H500V57H100Z\" />\n",
       "        <path d=\"M100,350H500V307H100Z\" />\n",
       "        <path d=\"M100,250H400V207H100Z\" />\n",
       "        <path d=\"M0,150H400V107H0Z\" />\n",
       "        <path d=\"M100,50H500V7H100Z\" />\n",
       "    </g>\n",
       "    <g style=\"fill:#1a1366;stroke:#1a1366;\">\n",
       "   <rect x=\"100\" y=\"7\" width=\"400\" height=\"43\">\n",
       "    <animate\n",
       "      attributeName=\"width\"\n",
       "      values=\"0;400;0\"\n",
       "      dur=\"5s\"\n",
       "      repeatCount=\"indefinite\" />\n",
       "      <animate\n",
       "      attributeName=\"x\"\n",
       "      values=\"100;100;500\"\n",
       "      dur=\"5s\"\n",
       "      repeatCount=\"indefinite\" />\n",
       "  </rect>\n",
       "        <rect x=\"0\" y=\"107\" width=\"400\" height=\"43\">\n",
       "    <animate\n",
       "      attributeName=\"width\"\n",
       "      values=\"0;400;0\"\n",
       "      dur=\"3.5s\"\n",
       "      repeatCount=\"indefinite\" />\n",
       "    <animate\n",
       "      attributeName=\"x\"\n",
       "      values=\"0;0;400\"\n",
       "      dur=\"3.5s\"\n",
       "      repeatCount=\"indefinite\" />\n",
       "  </rect>\n",
       "        <rect x=\"100\" y=\"207\" width=\"300\" height=\"43\">\n",
       "    <animate\n",
       "      attributeName=\"width\"\n",
       "      values=\"0;300;0\"\n",
       "      dur=\"3s\"\n",
       "      repeatCount=\"indefinite\" />\n",
       "    <animate\n",
       "      attributeName=\"x\"\n",
       "      values=\"100;100;400\"\n",
       "      dur=\"3s\"\n",
       "      repeatCount=\"indefinite\" />\n",
       "  </rect>\n",
       "        <rect x=\"100\" y=\"307\" width=\"400\" height=\"43\">\n",
       "    <animate\n",
       "      attributeName=\"width\"\n",
       "      values=\"0;400;0\"\n",
       "      dur=\"4s\"\n",
       "      repeatCount=\"indefinite\" />\n",
       "      <animate\n",
       "      attributeName=\"x\"\n",
       "      values=\"100;100;500\"\n",
       "      dur=\"4s\"\n",
       "      repeatCount=\"indefinite\" />\n",
       "  </rect>\n",
       "        <g style=\"fill:transparent;stroke-width:8; stroke-linejoin:round\" rx=\"5\">\n",
       "            <g transform=\"translate(45 50) rotate(-45)\">\n",
       "                <circle r=\"33\" cx=\"0\" cy=\"0\" />\n",
       "                <rect x=\"-8\" y=\"32\" width=\"16\" height=\"30\" />\n",
       "            </g>\n",
       "\n",
       "            <g transform=\"translate(450 152)\">\n",
       "                <polyline points=\"-15,-20 -35,-20 -35,40 25,40 25,20\" />\n",
       "                <rect x=\"-15\" y=\"-40\" width=\"60\" height=\"60\" />\n",
       "            </g>\n",
       "\n",
       "            <g transform=\"translate(50 352)\">\n",
       "                <polygon points=\"-35,-5 0,-40 35,-5\" />\n",
       "                <polygon points=\"-35,10 0,45 35,10\" />\n",
       "            </g>\n",
       "\n",
       "            <g transform=\"translate(75 250)\">\n",
       "                <polyline points=\"-30,30 -60,0 -30,-30\" />\n",
       "                <polyline points=\"0,30 -30,0 0,-30\" />\n",
       "            </g>\n",
       "\n",
       "            <g transform=\"translate(425 250) rotate(180)\">\n",
       "                <polyline points=\"-30,30 -60,0 -30,-30\" />\n",
       "                <polyline points=\"0,30 -30,0 0,-30\" />\n",
       "            </g>\n",
       "        </g>\n",
       "    </g>\n",
       "</svg>\n",
       "</a>\n",
       "</div>\n",
       "<div>\n",
       "Loading ITables v2.1.4 from the internet...\n",
       "(need <a href=https://mwouts.github.io/itables/troubleshooting.html>help</a>?)</td>\n",
       "</div>\n",
       "</tr></tbody>\n",
       "\n",
       "</table>\n",
       "<link href=\"https://www.unpkg.com/dt_for_itables@2.0.11/dt_bundle.css\" rel=\"stylesheet\">\n",
       "<script type=\"module\">\n",
       "    import {DataTable, jQuery as $} from 'https://www.unpkg.com/dt_for_itables@2.0.11/dt_bundle.js';\n",
       "\n",
       "    document.querySelectorAll(\"#itables_499c7537_0cab_4463_bca6_8ce366fe897a:not(.dataTable)\").forEach(table => {\n",
       "        // Define the table data\n",
       "        const data = [[\"Ada Lovelace\", \"first computer algorithm\"], [\"Marie Curie\", \"theory of radioactivity,  discovery of elements polonium and radium, first woman to win a Nobel Prize\"], [\"Janaki Ammal\", \"hybrid species, biodiversity protection\"], [\"Chien-Shiung Wu\", \"confim and refine theory of radioactive beta decy, Wu experiment overturning theory of parity\"], [\"Katherine Johnson\", \"calculations of orbital mechanics critical to sending the first Americans into space\"], [\"Vera Rubin\", \"existence of dark matter\"], [\"Gladys West\", \"mathematical modeling of the shape of the Earth which served as the foundation of GPS technology\"], [\"Flossie Wong-Staal\", \"first scientist to clone HIV and create a map of its genes which led to a test for the virus\"], [\"Jennifer Doudna\", \"one of the primary developers of CRISPR, a ground-breaking technology for editing genomes\"]];\n",
       "\n",
       "        // Define the dt_args\n",
       "        let dt_args = {\"layout\": {\"topStart\": null, \"topEnd\": null, \"bottomStart\": null, \"bottomEnd\": null}, \"order\": []};\n",
       "        dt_args[\"data\"] = data;\n",
       "\n",
       "        \n",
       "        new DataTable(table, dt_args);\n",
       "    });\n",
       "</script>\n"
      ],
      "text/plain": [
       "<IPython.core.display.HTML object>"
      ]
     },
     "metadata": {},
     "output_type": "display_data"
    }
   ],
   "source": [
    "file1 = 'https://joannabieri.com/introdatascience/data/dates.csv'\n",
    "DF_dates = pd.read_csv(file1)\n",
    "file2 = 'https://joannabieri.com/introdatascience/data/professions.csv'\n",
    "DF_professions = pd.read_csv(file2)\n",
    "file3 = 'https://joannabieri.com/introdatascience/data/works.csv'\n",
    "DF_works = pd.read_csv(file3)\n",
    "show(DF_dates)\n",
    "show(DF_professions)\n",
    "show(DF_works)"
   ]
  },
  {
   "cell_type": "markdown",
   "id": "941e4499-edd1-4210-b3ff-292dd2eb4df7",
   "metadata": {},
   "source": [
    "**Q1** Are each of these data sets Tidy?\n",
    "\n",
    "yes\n",
    "\n",
    "**Q2** Do they all contain the same number of observations?\n",
    "\n",
    "(rows)\n",
    "no\n",
    "\n",
    "**Q3** What are the five variables?\n",
    "\n",
    "name, brith year, death year, profression, and what theyre known for\n",
    "\n",
    "**Q4** What variable do they have in common - what can we join **on**\n",
    "\n",
    "name"
   ]
  },
  {
   "cell_type": "markdown",
   "id": "0e1f769b-d87d-429a-9de8-c35af020525d",
   "metadata": {},
   "source": [
    "**(Click Here)**\n",
    "\n"
   ]
  },
  {
   "cell_type": "markdown",
   "id": "fa09683e-ac6a-4cb5-a47d-6cbf580524d2",
   "metadata": {},
   "source": [
    "## Combining Three Data Sets\n",
    "\n",
    "You need to think about the order and whether or not you want to keep the maximum number of names or only keep names that are in all the data frames.\n",
    "\n",
    "In this case we will try to keep the maximal amount of data - the maximum number of names.\n",
    "\n",
    "1. Combine the professions and works data\n",
    "2. Then add the dates data"
   ]
  },
  {
   "cell_type": "code",
   "execution_count": 10,
   "id": "1e06d293-4d62-49f6-86c5-568b22cee865",
   "metadata": {},
   "outputs": [
    {
     "data": {
      "text/html": [
       "<div>\n",
       "<style scoped>\n",
       "    .dataframe tbody tr th:only-of-type {\n",
       "        vertical-align: middle;\n",
       "    }\n",
       "\n",
       "    .dataframe tbody tr th {\n",
       "        vertical-align: top;\n",
       "    }\n",
       "\n",
       "    .dataframe thead th {\n",
       "        text-align: right;\n",
       "    }\n",
       "</style>\n",
       "<table border=\"1\" class=\"dataframe\">\n",
       "  <thead>\n",
       "    <tr style=\"text-align: right;\">\n",
       "      <th></th>\n",
       "      <th>name</th>\n",
       "      <th>profession</th>\n",
       "      <th>known_for</th>\n",
       "      <th>birth_year</th>\n",
       "      <th>death_year</th>\n",
       "    </tr>\n",
       "  </thead>\n",
       "  <tbody>\n",
       "    <tr>\n",
       "      <th>0</th>\n",
       "      <td>Ada Lovelace</td>\n",
       "      <td>Mathematician</td>\n",
       "      <td>first computer algorithm</td>\n",
       "      <td>NaN</td>\n",
       "      <td>NaN</td>\n",
       "    </tr>\n",
       "    <tr>\n",
       "      <th>1</th>\n",
       "      <td>Marie Curie</td>\n",
       "      <td>Physicist and Chemist</td>\n",
       "      <td>theory of radioactivity,  discovery of element...</td>\n",
       "      <td>NaN</td>\n",
       "      <td>NaN</td>\n",
       "    </tr>\n",
       "    <tr>\n",
       "      <th>2</th>\n",
       "      <td>Janaki Ammal</td>\n",
       "      <td>Botanist</td>\n",
       "      <td>hybrid species, biodiversity protection</td>\n",
       "      <td>1897.0</td>\n",
       "      <td>1984.0</td>\n",
       "    </tr>\n",
       "    <tr>\n",
       "      <th>3</th>\n",
       "      <td>Chien-Shiung Wu</td>\n",
       "      <td>Physicist</td>\n",
       "      <td>confim and refine theory of radioactive beta d...</td>\n",
       "      <td>1912.0</td>\n",
       "      <td>1997.0</td>\n",
       "    </tr>\n",
       "    <tr>\n",
       "      <th>4</th>\n",
       "      <td>Katherine Johnson</td>\n",
       "      <td>Mathematician</td>\n",
       "      <td>calculations of orbital mechanics critical to ...</td>\n",
       "      <td>1918.0</td>\n",
       "      <td>2020.0</td>\n",
       "    </tr>\n",
       "    <tr>\n",
       "      <th>5</th>\n",
       "      <td>Rosalind Franklin</td>\n",
       "      <td>Chemist</td>\n",
       "      <td>NaN</td>\n",
       "      <td>1920.0</td>\n",
       "      <td>1958.0</td>\n",
       "    </tr>\n",
       "    <tr>\n",
       "      <th>6</th>\n",
       "      <td>Vera Rubin</td>\n",
       "      <td>Astronomer</td>\n",
       "      <td>existence of dark matter</td>\n",
       "      <td>1928.0</td>\n",
       "      <td>2016.0</td>\n",
       "    </tr>\n",
       "    <tr>\n",
       "      <th>7</th>\n",
       "      <td>Gladys West</td>\n",
       "      <td>Mathematician</td>\n",
       "      <td>mathematical modeling of the shape of the Eart...</td>\n",
       "      <td>1930.0</td>\n",
       "      <td>NaN</td>\n",
       "    </tr>\n",
       "    <tr>\n",
       "      <th>8</th>\n",
       "      <td>Flossie Wong-Staal</td>\n",
       "      <td>Virologist and Molecular Biologist</td>\n",
       "      <td>first scientist to clone HIV and create a map ...</td>\n",
       "      <td>1947.0</td>\n",
       "      <td>NaN</td>\n",
       "    </tr>\n",
       "    <tr>\n",
       "      <th>9</th>\n",
       "      <td>Jennifer Doudna</td>\n",
       "      <td>Biochemist</td>\n",
       "      <td>one of the primary developers of CRISPR, a gro...</td>\n",
       "      <td>1964.0</td>\n",
       "      <td>NaN</td>\n",
       "    </tr>\n",
       "  </tbody>\n",
       "</table>\n",
       "</div>"
      ],
      "text/plain": [
       "                 name                          profession  \\\n",
       "0        Ada Lovelace                       Mathematician   \n",
       "1         Marie Curie               Physicist and Chemist   \n",
       "2        Janaki Ammal                            Botanist   \n",
       "3     Chien-Shiung Wu                           Physicist   \n",
       "4   Katherine Johnson                       Mathematician   \n",
       "5   Rosalind Franklin                             Chemist   \n",
       "6          Vera Rubin                          Astronomer   \n",
       "7         Gladys West                       Mathematician   \n",
       "8  Flossie Wong-Staal  Virologist and Molecular Biologist   \n",
       "9     Jennifer Doudna                          Biochemist   \n",
       "\n",
       "                                           known_for  birth_year  death_year  \n",
       "0                           first computer algorithm         NaN         NaN  \n",
       "1  theory of radioactivity,  discovery of element...         NaN         NaN  \n",
       "2            hybrid species, biodiversity protection      1897.0      1984.0  \n",
       "3  confim and refine theory of radioactive beta d...      1912.0      1997.0  \n",
       "4  calculations of orbital mechanics critical to ...      1918.0      2020.0  \n",
       "5                                                NaN      1920.0      1958.0  \n",
       "6                           existence of dark matter      1928.0      2016.0  \n",
       "7  mathematical modeling of the shape of the Eart...      1930.0         NaN  \n",
       "8  first scientist to clone HIV and create a map ...      1947.0         NaN  \n",
       "9  one of the primary developers of CRISPR, a gro...      1964.0         NaN  "
      ]
     },
     "execution_count": 10,
     "metadata": {},
     "output_type": "execute_result"
    }
   ],
   "source": [
    "# 1. Combine the professions and works data\n",
    "DF_scientists = pd.merge(DF_professions,DF_works,on='name',how='left')\n",
    "DF_scientists\n",
    "# 2. Then add the dates data\n",
    "DF_scientists = pd.merge(DF_scientists,DF_dates,on='name',how='left')\n",
    "DF_scientists"
   ]
  },
  {
   "cell_type": "markdown",
   "id": "e2bbc33c-6c0e-4ca8-ad72-de5018bddce8",
   "metadata": {},
   "source": [
    "**Q5** What, if anything, would change if you switched to how='right'?"
   ]
  },
  {
   "cell_type": "markdown",
   "id": "def3bc37-ca8a-4782-a154-6b51e084b944",
   "metadata": {},
   "source": [
    "**(Click Here)**\n",
    "if the data was switched to the right we would lose 2 people from the data set."
   ]
  },
  {
   "cell_type": "markdown",
   "id": "26a9dee0-e533-4439-8972-f2e69b544ec9",
   "metadata": {},
   "source": [
    "## Combining Two Data Sets - You Try\n",
    "\n",
    "**Q6** Write code that would combine the professions data and the dates data, but drop any names that don't appear in both."
   ]
  },
  {
   "cell_type": "code",
   "execution_count": 12,
   "id": "18d09352-c2dc-4c21-887d-7e54387c55a9",
   "metadata": {},
   "outputs": [
    {
     "data": {
      "text/html": [
       "<div>\n",
       "<style scoped>\n",
       "    .dataframe tbody tr th:only-of-type {\n",
       "        vertical-align: middle;\n",
       "    }\n",
       "\n",
       "    .dataframe tbody tr th {\n",
       "        vertical-align: top;\n",
       "    }\n",
       "\n",
       "    .dataframe thead th {\n",
       "        text-align: right;\n",
       "    }\n",
       "</style>\n",
       "<table border=\"1\" class=\"dataframe\">\n",
       "  <thead>\n",
       "    <tr style=\"text-align: right;\">\n",
       "      <th></th>\n",
       "      <th>name</th>\n",
       "      <th>profession</th>\n",
       "      <th>birth_year</th>\n",
       "      <th>death_year</th>\n",
       "    </tr>\n",
       "  </thead>\n",
       "  <tbody>\n",
       "    <tr>\n",
       "      <th>0</th>\n",
       "      <td>Janaki Ammal</td>\n",
       "      <td>Botanist</td>\n",
       "      <td>1897</td>\n",
       "      <td>1984.0</td>\n",
       "    </tr>\n",
       "    <tr>\n",
       "      <th>1</th>\n",
       "      <td>Chien-Shiung Wu</td>\n",
       "      <td>Physicist</td>\n",
       "      <td>1912</td>\n",
       "      <td>1997.0</td>\n",
       "    </tr>\n",
       "    <tr>\n",
       "      <th>2</th>\n",
       "      <td>Katherine Johnson</td>\n",
       "      <td>Mathematician</td>\n",
       "      <td>1918</td>\n",
       "      <td>2020.0</td>\n",
       "    </tr>\n",
       "    <tr>\n",
       "      <th>3</th>\n",
       "      <td>Rosalind Franklin</td>\n",
       "      <td>Chemist</td>\n",
       "      <td>1920</td>\n",
       "      <td>1958.0</td>\n",
       "    </tr>\n",
       "    <tr>\n",
       "      <th>4</th>\n",
       "      <td>Vera Rubin</td>\n",
       "      <td>Astronomer</td>\n",
       "      <td>1928</td>\n",
       "      <td>2016.0</td>\n",
       "    </tr>\n",
       "    <tr>\n",
       "      <th>5</th>\n",
       "      <td>Gladys West</td>\n",
       "      <td>Mathematician</td>\n",
       "      <td>1930</td>\n",
       "      <td>NaN</td>\n",
       "    </tr>\n",
       "    <tr>\n",
       "      <th>6</th>\n",
       "      <td>Flossie Wong-Staal</td>\n",
       "      <td>Virologist and Molecular Biologist</td>\n",
       "      <td>1947</td>\n",
       "      <td>NaN</td>\n",
       "    </tr>\n",
       "    <tr>\n",
       "      <th>7</th>\n",
       "      <td>Jennifer Doudna</td>\n",
       "      <td>Biochemist</td>\n",
       "      <td>1964</td>\n",
       "      <td>NaN</td>\n",
       "    </tr>\n",
       "  </tbody>\n",
       "</table>\n",
       "</div>"
      ],
      "text/plain": [
       "                 name                          profession  birth_year  \\\n",
       "0        Janaki Ammal                            Botanist        1897   \n",
       "1     Chien-Shiung Wu                           Physicist        1912   \n",
       "2   Katherine Johnson                       Mathematician        1918   \n",
       "3   Rosalind Franklin                             Chemist        1920   \n",
       "4          Vera Rubin                          Astronomer        1928   \n",
       "5         Gladys West                       Mathematician        1930   \n",
       "6  Flossie Wong-Staal  Virologist and Molecular Biologist        1947   \n",
       "7     Jennifer Doudna                          Biochemist        1964   \n",
       "\n",
       "   death_year  \n",
       "0      1984.0  \n",
       "1      1997.0  \n",
       "2      2020.0  \n",
       "3      1958.0  \n",
       "4      2016.0  \n",
       "5         NaN  \n",
       "6         NaN  \n",
       "7         NaN  "
      ]
     },
     "execution_count": 12,
     "metadata": {},
     "output_type": "execute_result"
    }
   ],
   "source": [
    "# Your code here\n",
    "DF_scientists = pd.merge(DF_professions,DF_dates,on='name',how='inner')\n",
    "DF_scientists\n"
   ]
  },
  {
   "cell_type": "markdown",
   "id": "81aaba84-81ab-4fc7-95cb-e6df13157e2c",
   "metadata": {},
   "source": [
    "## Combining Three Data Sets - You Try\n",
    "\n",
    "**Q7** Try to combine the three data sets together (professions, works, and dates) but instead of doing what we did above, see if you can keep only the names that appeared in all three data sets."
   ]
  },
  {
   "cell_type": "code",
   "execution_count": 14,
   "id": "c2766e8b-f125-4bd6-9937-13cd92c8ba62",
   "metadata": {},
   "outputs": [
    {
     "data": {
      "text/html": [
       "<div>\n",
       "<style scoped>\n",
       "    .dataframe tbody tr th:only-of-type {\n",
       "        vertical-align: middle;\n",
       "    }\n",
       "\n",
       "    .dataframe tbody tr th {\n",
       "        vertical-align: top;\n",
       "    }\n",
       "\n",
       "    .dataframe thead th {\n",
       "        text-align: right;\n",
       "    }\n",
       "</style>\n",
       "<table border=\"1\" class=\"dataframe\">\n",
       "  <thead>\n",
       "    <tr style=\"text-align: right;\">\n",
       "      <th></th>\n",
       "      <th>name</th>\n",
       "      <th>profession</th>\n",
       "      <th>known_for</th>\n",
       "      <th>birth_year</th>\n",
       "      <th>death_year</th>\n",
       "    </tr>\n",
       "  </thead>\n",
       "  <tbody>\n",
       "    <tr>\n",
       "      <th>0</th>\n",
       "      <td>Janaki Ammal</td>\n",
       "      <td>Botanist</td>\n",
       "      <td>hybrid species, biodiversity protection</td>\n",
       "      <td>1897</td>\n",
       "      <td>1984.0</td>\n",
       "    </tr>\n",
       "    <tr>\n",
       "      <th>1</th>\n",
       "      <td>Chien-Shiung Wu</td>\n",
       "      <td>Physicist</td>\n",
       "      <td>confim and refine theory of radioactive beta d...</td>\n",
       "      <td>1912</td>\n",
       "      <td>1997.0</td>\n",
       "    </tr>\n",
       "    <tr>\n",
       "      <th>2</th>\n",
       "      <td>Katherine Johnson</td>\n",
       "      <td>Mathematician</td>\n",
       "      <td>calculations of orbital mechanics critical to ...</td>\n",
       "      <td>1918</td>\n",
       "      <td>2020.0</td>\n",
       "    </tr>\n",
       "    <tr>\n",
       "      <th>3</th>\n",
       "      <td>Vera Rubin</td>\n",
       "      <td>Astronomer</td>\n",
       "      <td>existence of dark matter</td>\n",
       "      <td>1928</td>\n",
       "      <td>2016.0</td>\n",
       "    </tr>\n",
       "    <tr>\n",
       "      <th>4</th>\n",
       "      <td>Gladys West</td>\n",
       "      <td>Mathematician</td>\n",
       "      <td>mathematical modeling of the shape of the Eart...</td>\n",
       "      <td>1930</td>\n",
       "      <td>NaN</td>\n",
       "    </tr>\n",
       "    <tr>\n",
       "      <th>5</th>\n",
       "      <td>Flossie Wong-Staal</td>\n",
       "      <td>Virologist and Molecular Biologist</td>\n",
       "      <td>first scientist to clone HIV and create a map ...</td>\n",
       "      <td>1947</td>\n",
       "      <td>NaN</td>\n",
       "    </tr>\n",
       "    <tr>\n",
       "      <th>6</th>\n",
       "      <td>Jennifer Doudna</td>\n",
       "      <td>Biochemist</td>\n",
       "      <td>one of the primary developers of CRISPR, a gro...</td>\n",
       "      <td>1964</td>\n",
       "      <td>NaN</td>\n",
       "    </tr>\n",
       "  </tbody>\n",
       "</table>\n",
       "</div>"
      ],
      "text/plain": [
       "                 name                          profession  \\\n",
       "0        Janaki Ammal                            Botanist   \n",
       "1     Chien-Shiung Wu                           Physicist   \n",
       "2   Katherine Johnson                       Mathematician   \n",
       "3          Vera Rubin                          Astronomer   \n",
       "4         Gladys West                       Mathematician   \n",
       "5  Flossie Wong-Staal  Virologist and Molecular Biologist   \n",
       "6     Jennifer Doudna                          Biochemist   \n",
       "\n",
       "                                           known_for  birth_year  death_year  \n",
       "0            hybrid species, biodiversity protection        1897      1984.0  \n",
       "1  confim and refine theory of radioactive beta d...        1912      1997.0  \n",
       "2  calculations of orbital mechanics critical to ...        1918      2020.0  \n",
       "3                           existence of dark matter        1928      2016.0  \n",
       "4  mathematical modeling of the shape of the Eart...        1930         NaN  \n",
       "5  first scientist to clone HIV and create a map ...        1947         NaN  \n",
       "6  one of the primary developers of CRISPR, a gro...        1964         NaN  "
      ]
     },
     "execution_count": 14,
     "metadata": {},
     "output_type": "execute_result"
    }
   ],
   "source": [
    "# Your code here\n",
    "\n",
    "DF_scientists = pd.merge(DF_professions,DF_works,on='name',how='inner')\n",
    "DF_scientists\n",
    "\n",
    "DF_scientists = pd.merge(DF_scientists,DF_dates,on='name',how='inner')\n",
    "DF_scientists"
   ]
  },
  {
   "cell_type": "markdown",
   "id": "e2a3bd38-8875-4133-9fb5-2080542349b6",
   "metadata": {},
   "source": [
    "## Case study - Grocery Sales\n",
    "\n",
    "Below you will load some data about grocery sales and see how joining or merging data can help us answer questions."
   ]
  },
  {
   "cell_type": "code",
   "execution_count": 18,
   "id": "e73afe67-db9b-49da-b8db-fe0e8d7b4bde",
   "metadata": {},
   "outputs": [
    {
     "data": {
      "text/html": [
       "<table id=\"itables_b72cf34f_f9cc_4594_b159_55c9119a5b6f\" class=\"display nowrap\" data-quarto-disable-processing=\"true\" style=\"table-layout:auto;width:auto;margin:auto;caption-side:bottom\">\n",
       "<thead>\n",
       "    <tr style=\"text-align: right;\">\n",
       "      \n",
       "      <th>customer_id</th>\n",
       "      <th>item</th>\n",
       "    </tr>\n",
       "  </thead><tbody><tr>\n",
       "<td style=\"vertical-align:middle; text-align:left\">\n",
       "<div style=\"float:left; margin-right: 10px;\">\n",
       "<a href=https://mwouts.github.io/itables/><svg class=\"main-svg\" xmlns=\"http://www.w3.org/2000/svg\" xmlns:xlink=\"http://www.w3.org/1999/xlink\"\n",
       "width=\"64\" viewBox=\"0 0 500 400\" style=\"font-family: 'Droid Sans', sans-serif;\">\n",
       "    <g style=\"fill:#d9d7fc\">\n",
       "        <path d=\"M100,400H500V357H100Z\" />\n",
       "        <path d=\"M100,300H400V257H100Z\" />\n",
       "        <path d=\"M0,200H400V157H0Z\" />\n",
       "        <path d=\"M100,100H500V57H100Z\" />\n",
       "        <path d=\"M100,350H500V307H100Z\" />\n",
       "        <path d=\"M100,250H400V207H100Z\" />\n",
       "        <path d=\"M0,150H400V107H0Z\" />\n",
       "        <path d=\"M100,50H500V7H100Z\" />\n",
       "    </g>\n",
       "    <g style=\"fill:#1a1366;stroke:#1a1366;\">\n",
       "   <rect x=\"100\" y=\"7\" width=\"400\" height=\"43\">\n",
       "    <animate\n",
       "      attributeName=\"width\"\n",
       "      values=\"0;400;0\"\n",
       "      dur=\"5s\"\n",
       "      repeatCount=\"indefinite\" />\n",
       "      <animate\n",
       "      attributeName=\"x\"\n",
       "      values=\"100;100;500\"\n",
       "      dur=\"5s\"\n",
       "      repeatCount=\"indefinite\" />\n",
       "  </rect>\n",
       "        <rect x=\"0\" y=\"107\" width=\"400\" height=\"43\">\n",
       "    <animate\n",
       "      attributeName=\"width\"\n",
       "      values=\"0;400;0\"\n",
       "      dur=\"3.5s\"\n",
       "      repeatCount=\"indefinite\" />\n",
       "    <animate\n",
       "      attributeName=\"x\"\n",
       "      values=\"0;0;400\"\n",
       "      dur=\"3.5s\"\n",
       "      repeatCount=\"indefinite\" />\n",
       "  </rect>\n",
       "        <rect x=\"100\" y=\"207\" width=\"300\" height=\"43\">\n",
       "    <animate\n",
       "      attributeName=\"width\"\n",
       "      values=\"0;300;0\"\n",
       "      dur=\"3s\"\n",
       "      repeatCount=\"indefinite\" />\n",
       "    <animate\n",
       "      attributeName=\"x\"\n",
       "      values=\"100;100;400\"\n",
       "      dur=\"3s\"\n",
       "      repeatCount=\"indefinite\" />\n",
       "  </rect>\n",
       "        <rect x=\"100\" y=\"307\" width=\"400\" height=\"43\">\n",
       "    <animate\n",
       "      attributeName=\"width\"\n",
       "      values=\"0;400;0\"\n",
       "      dur=\"4s\"\n",
       "      repeatCount=\"indefinite\" />\n",
       "      <animate\n",
       "      attributeName=\"x\"\n",
       "      values=\"100;100;500\"\n",
       "      dur=\"4s\"\n",
       "      repeatCount=\"indefinite\" />\n",
       "  </rect>\n",
       "        <g style=\"fill:transparent;stroke-width:8; stroke-linejoin:round\" rx=\"5\">\n",
       "            <g transform=\"translate(45 50) rotate(-45)\">\n",
       "                <circle r=\"33\" cx=\"0\" cy=\"0\" />\n",
       "                <rect x=\"-8\" y=\"32\" width=\"16\" height=\"30\" />\n",
       "            </g>\n",
       "\n",
       "            <g transform=\"translate(450 152)\">\n",
       "                <polyline points=\"-15,-20 -35,-20 -35,40 25,40 25,20\" />\n",
       "                <rect x=\"-15\" y=\"-40\" width=\"60\" height=\"60\" />\n",
       "            </g>\n",
       "\n",
       "            <g transform=\"translate(50 352)\">\n",
       "                <polygon points=\"-35,-5 0,-40 35,-5\" />\n",
       "                <polygon points=\"-35,10 0,45 35,10\" />\n",
       "            </g>\n",
       "\n",
       "            <g transform=\"translate(75 250)\">\n",
       "                <polyline points=\"-30,30 -60,0 -30,-30\" />\n",
       "                <polyline points=\"0,30 -30,0 0,-30\" />\n",
       "            </g>\n",
       "\n",
       "            <g transform=\"translate(425 250) rotate(180)\">\n",
       "                <polyline points=\"-30,30 -60,0 -30,-30\" />\n",
       "                <polyline points=\"0,30 -30,0 0,-30\" />\n",
       "            </g>\n",
       "        </g>\n",
       "    </g>\n",
       "</svg>\n",
       "</a>\n",
       "</div>\n",
       "<div>\n",
       "Loading ITables v2.1.4 from the internet...\n",
       "(need <a href=https://mwouts.github.io/itables/troubleshooting.html>help</a>?)</td>\n",
       "</div>\n",
       "</tr></tbody>\n",
       "\n",
       "</table>\n",
       "<link href=\"https://www.unpkg.com/dt_for_itables@2.0.11/dt_bundle.css\" rel=\"stylesheet\">\n",
       "<script type=\"module\">\n",
       "    import {DataTable, jQuery as $} from 'https://www.unpkg.com/dt_for_itables@2.0.11/dt_bundle.js';\n",
       "\n",
       "    document.querySelectorAll(\"#itables_b72cf34f_f9cc_4594_b159_55c9119a5b6f:not(.dataTable)\").forEach(table => {\n",
       "        // Define the table data\n",
       "        const data = [[1, \"bread\"], [1, \"milk\"], [1, \"banana\"], [2, \"milk\"], [2, \"toilet paper\"]];\n",
       "\n",
       "        // Define the dt_args\n",
       "        let dt_args = {\"layout\": {\"topStart\": null, \"topEnd\": null, \"bottomStart\": null, \"bottomEnd\": null}, \"order\": []};\n",
       "        dt_args[\"data\"] = data;\n",
       "\n",
       "        \n",
       "        new DataTable(table, dt_args);\n",
       "    });\n",
       "</script>\n"
      ],
      "text/plain": [
       "<IPython.core.display.HTML object>"
      ]
     },
     "metadata": {},
     "output_type": "display_data"
    },
    {
     "data": {
      "text/html": [
       "<table id=\"itables_4426b365_736e_4ef9_bff0_ea742fcfe2ce\" class=\"display nowrap\" data-quarto-disable-processing=\"true\" style=\"table-layout:auto;width:auto;margin:auto;caption-side:bottom\">\n",
       "<thead>\n",
       "    <tr style=\"text-align: right;\">\n",
       "      \n",
       "      <th>item</th>\n",
       "      <th>price</th>\n",
       "    </tr>\n",
       "  </thead><tbody><tr>\n",
       "<td style=\"vertical-align:middle; text-align:left\">\n",
       "<div style=\"float:left; margin-right: 10px;\">\n",
       "<a href=https://mwouts.github.io/itables/><svg class=\"main-svg\" xmlns=\"http://www.w3.org/2000/svg\" xmlns:xlink=\"http://www.w3.org/1999/xlink\"\n",
       "width=\"64\" viewBox=\"0 0 500 400\" style=\"font-family: 'Droid Sans', sans-serif;\">\n",
       "    <g style=\"fill:#d9d7fc\">\n",
       "        <path d=\"M100,400H500V357H100Z\" />\n",
       "        <path d=\"M100,300H400V257H100Z\" />\n",
       "        <path d=\"M0,200H400V157H0Z\" />\n",
       "        <path d=\"M100,100H500V57H100Z\" />\n",
       "        <path d=\"M100,350H500V307H100Z\" />\n",
       "        <path d=\"M100,250H400V207H100Z\" />\n",
       "        <path d=\"M0,150H400V107H0Z\" />\n",
       "        <path d=\"M100,50H500V7H100Z\" />\n",
       "    </g>\n",
       "    <g style=\"fill:#1a1366;stroke:#1a1366;\">\n",
       "   <rect x=\"100\" y=\"7\" width=\"400\" height=\"43\">\n",
       "    <animate\n",
       "      attributeName=\"width\"\n",
       "      values=\"0;400;0\"\n",
       "      dur=\"5s\"\n",
       "      repeatCount=\"indefinite\" />\n",
       "      <animate\n",
       "      attributeName=\"x\"\n",
       "      values=\"100;100;500\"\n",
       "      dur=\"5s\"\n",
       "      repeatCount=\"indefinite\" />\n",
       "  </rect>\n",
       "        <rect x=\"0\" y=\"107\" width=\"400\" height=\"43\">\n",
       "    <animate\n",
       "      attributeName=\"width\"\n",
       "      values=\"0;400;0\"\n",
       "      dur=\"3.5s\"\n",
       "      repeatCount=\"indefinite\" />\n",
       "    <animate\n",
       "      attributeName=\"x\"\n",
       "      values=\"0;0;400\"\n",
       "      dur=\"3.5s\"\n",
       "      repeatCount=\"indefinite\" />\n",
       "  </rect>\n",
       "        <rect x=\"100\" y=\"207\" width=\"300\" height=\"43\">\n",
       "    <animate\n",
       "      attributeName=\"width\"\n",
       "      values=\"0;300;0\"\n",
       "      dur=\"3s\"\n",
       "      repeatCount=\"indefinite\" />\n",
       "    <animate\n",
       "      attributeName=\"x\"\n",
       "      values=\"100;100;400\"\n",
       "      dur=\"3s\"\n",
       "      repeatCount=\"indefinite\" />\n",
       "  </rect>\n",
       "        <rect x=\"100\" y=\"307\" width=\"400\" height=\"43\">\n",
       "    <animate\n",
       "      attributeName=\"width\"\n",
       "      values=\"0;400;0\"\n",
       "      dur=\"4s\"\n",
       "      repeatCount=\"indefinite\" />\n",
       "      <animate\n",
       "      attributeName=\"x\"\n",
       "      values=\"100;100;500\"\n",
       "      dur=\"4s\"\n",
       "      repeatCount=\"indefinite\" />\n",
       "  </rect>\n",
       "        <g style=\"fill:transparent;stroke-width:8; stroke-linejoin:round\" rx=\"5\">\n",
       "            <g transform=\"translate(45 50) rotate(-45)\">\n",
       "                <circle r=\"33\" cx=\"0\" cy=\"0\" />\n",
       "                <rect x=\"-8\" y=\"32\" width=\"16\" height=\"30\" />\n",
       "            </g>\n",
       "\n",
       "            <g transform=\"translate(450 152)\">\n",
       "                <polyline points=\"-15,-20 -35,-20 -35,40 25,40 25,20\" />\n",
       "                <rect x=\"-15\" y=\"-40\" width=\"60\" height=\"60\" />\n",
       "            </g>\n",
       "\n",
       "            <g transform=\"translate(50 352)\">\n",
       "                <polygon points=\"-35,-5 0,-40 35,-5\" />\n",
       "                <polygon points=\"-35,10 0,45 35,10\" />\n",
       "            </g>\n",
       "\n",
       "            <g transform=\"translate(75 250)\">\n",
       "                <polyline points=\"-30,30 -60,0 -30,-30\" />\n",
       "                <polyline points=\"0,30 -30,0 0,-30\" />\n",
       "            </g>\n",
       "\n",
       "            <g transform=\"translate(425 250) rotate(180)\">\n",
       "                <polyline points=\"-30,30 -60,0 -30,-30\" />\n",
       "                <polyline points=\"0,30 -30,0 0,-30\" />\n",
       "            </g>\n",
       "        </g>\n",
       "    </g>\n",
       "</svg>\n",
       "</a>\n",
       "</div>\n",
       "<div>\n",
       "Loading ITables v2.1.4 from the internet...\n",
       "(need <a href=https://mwouts.github.io/itables/troubleshooting.html>help</a>?)</td>\n",
       "</div>\n",
       "</tr></tbody>\n",
       "\n",
       "</table>\n",
       "<link href=\"https://www.unpkg.com/dt_for_itables@2.0.11/dt_bundle.css\" rel=\"stylesheet\">\n",
       "<script type=\"module\">\n",
       "    import {DataTable, jQuery as $} from 'https://www.unpkg.com/dt_for_itables@2.0.11/dt_bundle.js';\n",
       "\n",
       "    document.querySelectorAll(\"#itables_4426b365_736e_4ef9_bff0_ea742fcfe2ce:not(.dataTable)\").forEach(table => {\n",
       "        // Define the table data\n",
       "        const data = [[\"avocado\", 0.5], [\"banana\", 0.15], [\"bread\", 1.0], [\"milk\", 0.8], [\"toilet paper\", 3.0]];\n",
       "\n",
       "        // Define the dt_args\n",
       "        let dt_args = {\"layout\": {\"topStart\": null, \"topEnd\": null, \"bottomStart\": null, \"bottomEnd\": null}, \"order\": []};\n",
       "        dt_args[\"data\"] = data;\n",
       "\n",
       "        \n",
       "        new DataTable(table, dt_args);\n",
       "    });\n",
       "</script>\n"
      ],
      "text/plain": [
       "<IPython.core.display.HTML object>"
      ]
     },
     "metadata": {},
     "output_type": "display_data"
    }
   ],
   "source": [
    "file1 = 'https://joannabieri.com/introdatascience/data/purchases.csv'\n",
    "DF_purchases = pd.read_csv(file1)\n",
    "file2 = 'https://joannabieri.com/introdatascience/data/prices.csv'\n",
    "DF_prices = pd.read_csv(file2)\n",
    "show(DF_purchases)\n",
    "show(DF_prices)"
   ]
  },
  {
   "cell_type": "markdown",
   "id": "59cc40ab-4b37-4c68-8da7-fdb713a184e5",
   "metadata": {},
   "source": [
    "## Calculate the total revenue\n",
    "\n",
    "**Q8** Given the data above find the total revenue.\n",
    "\n",
    "We will have to join the data frames so that we can see the price of what was sold. So first we look for a common column. In this case both data frames have **item** as a column.\n",
    "\n",
    "Now, think about how to calculate revenue... we need to add up the total money we made, so we need to know the price of each thing sold.\n",
    "\n",
    "**PAUSE - see if you can write some of the code for this before looking at the cells below**"
   ]
  },
  {
   "cell_type": "code",
   "execution_count": 20,
   "id": "0e354cf0-ce17-492c-b23f-129f01826d3f",
   "metadata": {},
   "outputs": [
    {
     "data": {
      "text/html": [
       "<div>\n",
       "<style scoped>\n",
       "    .dataframe tbody tr th:only-of-type {\n",
       "        vertical-align: middle;\n",
       "    }\n",
       "\n",
       "    .dataframe tbody tr th {\n",
       "        vertical-align: top;\n",
       "    }\n",
       "\n",
       "    .dataframe thead th {\n",
       "        text-align: right;\n",
       "    }\n",
       "</style>\n",
       "<table border=\"1\" class=\"dataframe\">\n",
       "  <thead>\n",
       "    <tr style=\"text-align: right;\">\n",
       "      <th></th>\n",
       "      <th>customer_id</th>\n",
       "      <th>item</th>\n",
       "      <th>price</th>\n",
       "    </tr>\n",
       "  </thead>\n",
       "  <tbody>\n",
       "    <tr>\n",
       "      <th>0</th>\n",
       "      <td>1</td>\n",
       "      <td>bread</td>\n",
       "      <td>1.00</td>\n",
       "    </tr>\n",
       "    <tr>\n",
       "      <th>1</th>\n",
       "      <td>1</td>\n",
       "      <td>milk</td>\n",
       "      <td>0.80</td>\n",
       "    </tr>\n",
       "    <tr>\n",
       "      <th>2</th>\n",
       "      <td>1</td>\n",
       "      <td>banana</td>\n",
       "      <td>0.15</td>\n",
       "    </tr>\n",
       "    <tr>\n",
       "      <th>3</th>\n",
       "      <td>2</td>\n",
       "      <td>milk</td>\n",
       "      <td>0.80</td>\n",
       "    </tr>\n",
       "    <tr>\n",
       "      <th>4</th>\n",
       "      <td>2</td>\n",
       "      <td>toilet paper</td>\n",
       "      <td>3.00</td>\n",
       "    </tr>\n",
       "  </tbody>\n",
       "</table>\n",
       "</div>"
      ],
      "text/plain": [
       "   customer_id          item  price\n",
       "0            1         bread   1.00\n",
       "1            1          milk   0.80\n",
       "2            1        banana   0.15\n",
       "3            2          milk   0.80\n",
       "4            2  toilet paper   3.00"
      ]
     },
     "execution_count": 20,
     "metadata": {},
     "output_type": "execute_result"
    }
   ],
   "source": [
    "DF_meep = pd.merge(DF_purchases,DF_prices,on='item',how='left')\n",
    "DF_meep"
   ]
  },
  {
   "cell_type": "code",
   "execution_count": 22,
   "id": "d83267c8-fe75-4a94-85b8-e9e8e52fccc5",
   "metadata": {},
   "outputs": [
    {
     "data": {
      "text/plain": [
       "5.75"
      ]
     },
     "execution_count": 22,
     "metadata": {},
     "output_type": "execute_result"
    }
   ],
   "source": [
    "DF_meep['price'].sum()"
   ]
  },
  {
   "cell_type": "markdown",
   "id": "e437831b-9e27-40c1-b7e1-893785439543",
   "metadata": {},
   "source": [
    "**See the lecture notes if you need heelp figuring this out!**\n",
    "\n",
    "**Q9** Calculate the revenue per customer? Hint - group by the customer id and then apply the sum()."
   ]
  },
  {
   "cell_type": "code",
   "execution_count": 24,
   "id": "0863ba4f-65d0-4465-bd70-4557c581a15d",
   "metadata": {},
   "outputs": [
    {
     "data": {
      "text/html": [
       "<div>\n",
       "<style scoped>\n",
       "    .dataframe tbody tr th:only-of-type {\n",
       "        vertical-align: middle;\n",
       "    }\n",
       "\n",
       "    .dataframe tbody tr th {\n",
       "        vertical-align: top;\n",
       "    }\n",
       "\n",
       "    .dataframe thead th {\n",
       "        text-align: right;\n",
       "    }\n",
       "</style>\n",
       "<table border=\"1\" class=\"dataframe\">\n",
       "  <thead>\n",
       "    <tr style=\"text-align: right;\">\n",
       "      <th></th>\n",
       "      <th>price</th>\n",
       "    </tr>\n",
       "    <tr>\n",
       "      <th>customer_id</th>\n",
       "      <th></th>\n",
       "    </tr>\n",
       "  </thead>\n",
       "  <tbody>\n",
       "    <tr>\n",
       "      <th>1</th>\n",
       "      <td>1.95</td>\n",
       "    </tr>\n",
       "    <tr>\n",
       "      <th>2</th>\n",
       "      <td>3.80</td>\n",
       "    </tr>\n",
       "  </tbody>\n",
       "</table>\n",
       "</div>"
      ],
      "text/plain": [
       "             price\n",
       "customer_id       \n",
       "1             1.95\n",
       "2             3.80"
      ]
     },
     "execution_count": 24,
     "metadata": {},
     "output_type": "execute_result"
    }
   ],
   "source": [
    "# Your code here\n",
    "\n",
    "DF_meep[['customer_id','price']].groupby(by='customer_id').sum()"
   ]
  },
  {
   "cell_type": "markdown",
   "id": "0b3b6bfe-df90-4521-9d96-404916911e2b",
   "metadata": {},
   "source": [
    "# Practice Exam - EDA - College Majors\n",
    "\n",
    "Your solutions should include code written to answer the questions AND words describing the results. For each problem:\n",
    "\n",
    "1. Write code to get the answers. It is okay to copy and paste from our lecture notes or your homework assignments.\n",
    "2. Describe what the code output is telling you.\n",
    "3. Explain any interesting aspects of your results.\n",
    "\n",
    "------------------------\n",
    "-------------------------"
   ]
  },
  {
   "cell_type": "markdown",
   "id": "1c634098-c93e-41c2-bc4a-523f4c27a333",
   "metadata": {},
   "source": [
    "The first step in the process of turning information into knowledge process is to summarize and describe the raw information - the data.\n",
    "In this assignment we explore data on college majors and earnings, specifically the data begin the FiveThirtyEight story [\"The Economic Guide To Picking A College Major\"](https://fivethirtyeight.com/features/the-economic-guide-to-picking-a-college-major/).\n",
    "\n",
    "These data originally come from the American Community Survey (ACS) 2010-2012 Public Use Microdata Series.\n",
    "While this is outside the scope of this assignment, if you are curious about how raw data from the ACS were cleaned and prepared, see [the code](https://github.com/fivethirtyeight/data/blob/master/college-majors/college-majors-rscript.R) FiveThirtyEight authors used.\n",
    "\n",
    "We should also note that there are many considerations that go into picking a major.\n",
    "Earnings potential and employment prospects are two of them, and they are important, but they don't tell the whole story.\n",
    "Keep this in mind as you analyze the data."
   ]
  },
  {
   "cell_type": "code",
   "execution_count": 108,
   "id": "20e25679-7c2a-4244-be1b-dc01e35f8126",
   "metadata": {},
   "outputs": [],
   "source": [
    "file_location = 'https://joannabieri.com/introdatascience/data/recent-grads.csv'\n",
    "DF_raw = pd.read_csv(file_location)"
   ]
  },
  {
   "cell_type": "code",
   "execution_count": 55,
   "id": "763b02f4-00ce-4b9a-ac1d-792c794109f1",
   "metadata": {},
   "outputs": [
    {
     "data": {
      "text/html": [
       "<div>\n",
       "<style scoped>\n",
       "    .dataframe tbody tr th:only-of-type {\n",
       "        vertical-align: middle;\n",
       "    }\n",
       "\n",
       "    .dataframe tbody tr th {\n",
       "        vertical-align: top;\n",
       "    }\n",
       "\n",
       "    .dataframe thead th {\n",
       "        text-align: right;\n",
       "    }\n",
       "</style>\n",
       "<table border=\"1\" class=\"dataframe\">\n",
       "  <thead>\n",
       "    <tr style=\"text-align: right;\">\n",
       "      <th></th>\n",
       "      <th>Rank</th>\n",
       "      <th>Major_code</th>\n",
       "      <th>Major</th>\n",
       "      <th>Total</th>\n",
       "      <th>Men</th>\n",
       "      <th>Women</th>\n",
       "      <th>Major_category</th>\n",
       "      <th>ShareWomen</th>\n",
       "      <th>Sample_size</th>\n",
       "      <th>Employed</th>\n",
       "      <th>...</th>\n",
       "      <th>Part_time</th>\n",
       "      <th>Full_time_year_round</th>\n",
       "      <th>Unemployed</th>\n",
       "      <th>Unemployment_rate</th>\n",
       "      <th>Median</th>\n",
       "      <th>P25th</th>\n",
       "      <th>P75th</th>\n",
       "      <th>College_jobs</th>\n",
       "      <th>Non_college_jobs</th>\n",
       "      <th>Low_wage_jobs</th>\n",
       "    </tr>\n",
       "  </thead>\n",
       "  <tbody>\n",
       "    <tr>\n",
       "      <th>0</th>\n",
       "      <td>1</td>\n",
       "      <td>2419</td>\n",
       "      <td>PETROLEUM ENGINEERING</td>\n",
       "      <td>2339.0</td>\n",
       "      <td>2057.0</td>\n",
       "      <td>282.0</td>\n",
       "      <td>Engineering</td>\n",
       "      <td>0.120564</td>\n",
       "      <td>36</td>\n",
       "      <td>1976</td>\n",
       "      <td>...</td>\n",
       "      <td>270</td>\n",
       "      <td>1207</td>\n",
       "      <td>37</td>\n",
       "      <td>0.018381</td>\n",
       "      <td>110000</td>\n",
       "      <td>95000</td>\n",
       "      <td>125000</td>\n",
       "      <td>1534</td>\n",
       "      <td>364</td>\n",
       "      <td>193</td>\n",
       "    </tr>\n",
       "    <tr>\n",
       "      <th>1</th>\n",
       "      <td>2</td>\n",
       "      <td>2416</td>\n",
       "      <td>MINING AND MINERAL ENGINEERING</td>\n",
       "      <td>756.0</td>\n",
       "      <td>679.0</td>\n",
       "      <td>77.0</td>\n",
       "      <td>Engineering</td>\n",
       "      <td>0.101852</td>\n",
       "      <td>7</td>\n",
       "      <td>640</td>\n",
       "      <td>...</td>\n",
       "      <td>170</td>\n",
       "      <td>388</td>\n",
       "      <td>85</td>\n",
       "      <td>0.117241</td>\n",
       "      <td>75000</td>\n",
       "      <td>55000</td>\n",
       "      <td>90000</td>\n",
       "      <td>350</td>\n",
       "      <td>257</td>\n",
       "      <td>50</td>\n",
       "    </tr>\n",
       "    <tr>\n",
       "      <th>2</th>\n",
       "      <td>3</td>\n",
       "      <td>2415</td>\n",
       "      <td>METALLURGICAL ENGINEERING</td>\n",
       "      <td>856.0</td>\n",
       "      <td>725.0</td>\n",
       "      <td>131.0</td>\n",
       "      <td>Engineering</td>\n",
       "      <td>0.153037</td>\n",
       "      <td>3</td>\n",
       "      <td>648</td>\n",
       "      <td>...</td>\n",
       "      <td>133</td>\n",
       "      <td>340</td>\n",
       "      <td>16</td>\n",
       "      <td>0.024096</td>\n",
       "      <td>73000</td>\n",
       "      <td>50000</td>\n",
       "      <td>105000</td>\n",
       "      <td>456</td>\n",
       "      <td>176</td>\n",
       "      <td>0</td>\n",
       "    </tr>\n",
       "    <tr>\n",
       "      <th>3</th>\n",
       "      <td>4</td>\n",
       "      <td>2417</td>\n",
       "      <td>NAVAL ARCHITECTURE AND MARINE ENGINEERING</td>\n",
       "      <td>1258.0</td>\n",
       "      <td>1123.0</td>\n",
       "      <td>135.0</td>\n",
       "      <td>Engineering</td>\n",
       "      <td>0.107313</td>\n",
       "      <td>16</td>\n",
       "      <td>758</td>\n",
       "      <td>...</td>\n",
       "      <td>150</td>\n",
       "      <td>692</td>\n",
       "      <td>40</td>\n",
       "      <td>0.050125</td>\n",
       "      <td>70000</td>\n",
       "      <td>43000</td>\n",
       "      <td>80000</td>\n",
       "      <td>529</td>\n",
       "      <td>102</td>\n",
       "      <td>0</td>\n",
       "    </tr>\n",
       "    <tr>\n",
       "      <th>4</th>\n",
       "      <td>5</td>\n",
       "      <td>2405</td>\n",
       "      <td>CHEMICAL ENGINEERING</td>\n",
       "      <td>32260.0</td>\n",
       "      <td>21239.0</td>\n",
       "      <td>11021.0</td>\n",
       "      <td>Engineering</td>\n",
       "      <td>0.341631</td>\n",
       "      <td>289</td>\n",
       "      <td>25694</td>\n",
       "      <td>...</td>\n",
       "      <td>5180</td>\n",
       "      <td>16697</td>\n",
       "      <td>1672</td>\n",
       "      <td>0.061098</td>\n",
       "      <td>65000</td>\n",
       "      <td>50000</td>\n",
       "      <td>75000</td>\n",
       "      <td>18314</td>\n",
       "      <td>4440</td>\n",
       "      <td>972</td>\n",
       "    </tr>\n",
       "    <tr>\n",
       "      <th>...</th>\n",
       "      <td>...</td>\n",
       "      <td>...</td>\n",
       "      <td>...</td>\n",
       "      <td>...</td>\n",
       "      <td>...</td>\n",
       "      <td>...</td>\n",
       "      <td>...</td>\n",
       "      <td>...</td>\n",
       "      <td>...</td>\n",
       "      <td>...</td>\n",
       "      <td>...</td>\n",
       "      <td>...</td>\n",
       "      <td>...</td>\n",
       "      <td>...</td>\n",
       "      <td>...</td>\n",
       "      <td>...</td>\n",
       "      <td>...</td>\n",
       "      <td>...</td>\n",
       "      <td>...</td>\n",
       "      <td>...</td>\n",
       "      <td>...</td>\n",
       "    </tr>\n",
       "    <tr>\n",
       "      <th>168</th>\n",
       "      <td>169</td>\n",
       "      <td>3609</td>\n",
       "      <td>ZOOLOGY</td>\n",
       "      <td>8409.0</td>\n",
       "      <td>3050.0</td>\n",
       "      <td>5359.0</td>\n",
       "      <td>Biology &amp; Life Science</td>\n",
       "      <td>0.637293</td>\n",
       "      <td>47</td>\n",
       "      <td>6259</td>\n",
       "      <td>...</td>\n",
       "      <td>2190</td>\n",
       "      <td>3602</td>\n",
       "      <td>304</td>\n",
       "      <td>0.046320</td>\n",
       "      <td>26000</td>\n",
       "      <td>20000</td>\n",
       "      <td>39000</td>\n",
       "      <td>2771</td>\n",
       "      <td>2947</td>\n",
       "      <td>743</td>\n",
       "    </tr>\n",
       "    <tr>\n",
       "      <th>169</th>\n",
       "      <td>170</td>\n",
       "      <td>5201</td>\n",
       "      <td>EDUCATIONAL PSYCHOLOGY</td>\n",
       "      <td>2854.0</td>\n",
       "      <td>522.0</td>\n",
       "      <td>2332.0</td>\n",
       "      <td>Psychology &amp; Social Work</td>\n",
       "      <td>0.817099</td>\n",
       "      <td>7</td>\n",
       "      <td>2125</td>\n",
       "      <td>...</td>\n",
       "      <td>572</td>\n",
       "      <td>1211</td>\n",
       "      <td>148</td>\n",
       "      <td>0.065112</td>\n",
       "      <td>25000</td>\n",
       "      <td>24000</td>\n",
       "      <td>34000</td>\n",
       "      <td>1488</td>\n",
       "      <td>615</td>\n",
       "      <td>82</td>\n",
       "    </tr>\n",
       "    <tr>\n",
       "      <th>170</th>\n",
       "      <td>171</td>\n",
       "      <td>5202</td>\n",
       "      <td>CLINICAL PSYCHOLOGY</td>\n",
       "      <td>2838.0</td>\n",
       "      <td>568.0</td>\n",
       "      <td>2270.0</td>\n",
       "      <td>Psychology &amp; Social Work</td>\n",
       "      <td>0.799859</td>\n",
       "      <td>13</td>\n",
       "      <td>2101</td>\n",
       "      <td>...</td>\n",
       "      <td>648</td>\n",
       "      <td>1293</td>\n",
       "      <td>368</td>\n",
       "      <td>0.149048</td>\n",
       "      <td>25000</td>\n",
       "      <td>25000</td>\n",
       "      <td>40000</td>\n",
       "      <td>986</td>\n",
       "      <td>870</td>\n",
       "      <td>622</td>\n",
       "    </tr>\n",
       "    <tr>\n",
       "      <th>171</th>\n",
       "      <td>172</td>\n",
       "      <td>5203</td>\n",
       "      <td>COUNSELING PSYCHOLOGY</td>\n",
       "      <td>4626.0</td>\n",
       "      <td>931.0</td>\n",
       "      <td>3695.0</td>\n",
       "      <td>Psychology &amp; Social Work</td>\n",
       "      <td>0.798746</td>\n",
       "      <td>21</td>\n",
       "      <td>3777</td>\n",
       "      <td>...</td>\n",
       "      <td>965</td>\n",
       "      <td>2738</td>\n",
       "      <td>214</td>\n",
       "      <td>0.053621</td>\n",
       "      <td>23400</td>\n",
       "      <td>19200</td>\n",
       "      <td>26000</td>\n",
       "      <td>2403</td>\n",
       "      <td>1245</td>\n",
       "      <td>308</td>\n",
       "    </tr>\n",
       "    <tr>\n",
       "      <th>172</th>\n",
       "      <td>173</td>\n",
       "      <td>3501</td>\n",
       "      <td>LIBRARY SCIENCE</td>\n",
       "      <td>1098.0</td>\n",
       "      <td>134.0</td>\n",
       "      <td>964.0</td>\n",
       "      <td>Education</td>\n",
       "      <td>0.877960</td>\n",
       "      <td>2</td>\n",
       "      <td>742</td>\n",
       "      <td>...</td>\n",
       "      <td>237</td>\n",
       "      <td>410</td>\n",
       "      <td>87</td>\n",
       "      <td>0.104946</td>\n",
       "      <td>22000</td>\n",
       "      <td>20000</td>\n",
       "      <td>22000</td>\n",
       "      <td>288</td>\n",
       "      <td>338</td>\n",
       "      <td>192</td>\n",
       "    </tr>\n",
       "  </tbody>\n",
       "</table>\n",
       "<p>173 rows × 21 columns</p>\n",
       "</div>"
      ],
      "text/plain": [
       "     Rank  Major_code                                      Major    Total  \\\n",
       "0       1        2419                      PETROLEUM ENGINEERING   2339.0   \n",
       "1       2        2416             MINING AND MINERAL ENGINEERING    756.0   \n",
       "2       3        2415                  METALLURGICAL ENGINEERING    856.0   \n",
       "3       4        2417  NAVAL ARCHITECTURE AND MARINE ENGINEERING   1258.0   \n",
       "4       5        2405                       CHEMICAL ENGINEERING  32260.0   \n",
       "..    ...         ...                                        ...      ...   \n",
       "168   169        3609                                    ZOOLOGY   8409.0   \n",
       "169   170        5201                     EDUCATIONAL PSYCHOLOGY   2854.0   \n",
       "170   171        5202                        CLINICAL PSYCHOLOGY   2838.0   \n",
       "171   172        5203                      COUNSELING PSYCHOLOGY   4626.0   \n",
       "172   173        3501                            LIBRARY SCIENCE   1098.0   \n",
       "\n",
       "         Men    Women            Major_category  ShareWomen  Sample_size  \\\n",
       "0     2057.0    282.0               Engineering    0.120564           36   \n",
       "1      679.0     77.0               Engineering    0.101852            7   \n",
       "2      725.0    131.0               Engineering    0.153037            3   \n",
       "3     1123.0    135.0               Engineering    0.107313           16   \n",
       "4    21239.0  11021.0               Engineering    0.341631          289   \n",
       "..       ...      ...                       ...         ...          ...   \n",
       "168   3050.0   5359.0    Biology & Life Science    0.637293           47   \n",
       "169    522.0   2332.0  Psychology & Social Work    0.817099            7   \n",
       "170    568.0   2270.0  Psychology & Social Work    0.799859           13   \n",
       "171    931.0   3695.0  Psychology & Social Work    0.798746           21   \n",
       "172    134.0    964.0                 Education    0.877960            2   \n",
       "\n",
       "     Employed  ...  Part_time  Full_time_year_round  Unemployed  \\\n",
       "0        1976  ...        270                  1207          37   \n",
       "1         640  ...        170                   388          85   \n",
       "2         648  ...        133                   340          16   \n",
       "3         758  ...        150                   692          40   \n",
       "4       25694  ...       5180                 16697        1672   \n",
       "..        ...  ...        ...                   ...         ...   \n",
       "168      6259  ...       2190                  3602         304   \n",
       "169      2125  ...        572                  1211         148   \n",
       "170      2101  ...        648                  1293         368   \n",
       "171      3777  ...        965                  2738         214   \n",
       "172       742  ...        237                   410          87   \n",
       "\n",
       "     Unemployment_rate  Median  P25th   P75th  College_jobs  Non_college_jobs  \\\n",
       "0             0.018381  110000  95000  125000          1534               364   \n",
       "1             0.117241   75000  55000   90000           350               257   \n",
       "2             0.024096   73000  50000  105000           456               176   \n",
       "3             0.050125   70000  43000   80000           529               102   \n",
       "4             0.061098   65000  50000   75000         18314              4440   \n",
       "..                 ...     ...    ...     ...           ...               ...   \n",
       "168           0.046320   26000  20000   39000          2771              2947   \n",
       "169           0.065112   25000  24000   34000          1488               615   \n",
       "170           0.149048   25000  25000   40000           986               870   \n",
       "171           0.053621   23400  19200   26000          2403              1245   \n",
       "172           0.104946   22000  20000   22000           288               338   \n",
       "\n",
       "     Low_wage_jobs  \n",
       "0              193  \n",
       "1               50  \n",
       "2                0  \n",
       "3                0  \n",
       "4              972  \n",
       "..             ...  \n",
       "168            743  \n",
       "169             82  \n",
       "170            622  \n",
       "171            308  \n",
       "172            192  \n",
       "\n",
       "[173 rows x 21 columns]"
      ]
     },
     "execution_count": 55,
     "metadata": {},
     "output_type": "execute_result"
    }
   ],
   "source": [
    "DF_raw"
   ]
  },
  {
   "cell_type": "markdown",
   "id": "d2c98753-1b02-4889-81b3-d97627d70824",
   "metadata": {},
   "source": [
    "### 1. Describe the data that you see here.\n",
    "\n",
    "* How many variables?\n",
    "* How man observations?\n",
    "* Are the variables categorical or numerical?\n",
    "* Are there any variables that you don't know what they mean? If so [CLICK HERE - to see the Git Repo for the data where the variables are defined](https://github.com/fivethirtyeight/data/tree/master/college-majors)\n"
   ]
  },
  {
   "cell_type": "code",
   "execution_count": 53,
   "id": "a218e099-7152-48ea-9e08-2468f7473eb6",
   "metadata": {},
   "outputs": [
    {
     "data": {
      "text/plain": [
       "173"
      ]
     },
     "execution_count": 53,
     "metadata": {},
     "output_type": "execute_result"
    }
   ],
   "source": [
    "len(DF_raw)\n"
   ]
  },
  {
   "cell_type": "code",
   "execution_count": 51,
   "id": "0011fbe4-e81b-446f-8277-a249f36c3880",
   "metadata": {},
   "outputs": [
    {
     "data": {
      "text/plain": [
       "(173, 21)"
      ]
     },
     "execution_count": 51,
     "metadata": {},
     "output_type": "execute_result"
    }
   ],
   "source": [
    "DF_raw.shape"
   ]
  },
  {
   "cell_type": "markdown",
   "id": "211d128f-7409-45da-bd0d-ceaf777b7181",
   "metadata": {},
   "source": [
    "This data set at 173 observations and 21 variables."
   ]
  },
  {
   "cell_type": "code",
   "execution_count": 40,
   "id": "b09fe27b-bcac-46c2-af97-6ca873f5e81d",
   "metadata": {},
   "outputs": [
    {
     "data": {
      "text/plain": [
       "21"
      ]
     },
     "execution_count": 40,
     "metadata": {},
     "output_type": "execute_result"
    }
   ],
   "source": [
    "len(DF_raw.columns)"
   ]
  },
  {
   "cell_type": "code",
   "execution_count": null,
   "id": "0b9165e9-a915-4cd4-898f-06d81ccf22fa",
   "metadata": {},
   "outputs": [],
   "source": [
    "DF_raw"
   ]
  },
  {
   "cell_type": "markdown",
   "id": "13005d11-f03f-40dd-a53c-9ff76f5dbfe1",
   "metadata": {},
   "source": [
    "**(Click Here to Explain your Results)**"
   ]
  },
  {
   "cell_type": "markdown",
   "id": "e6081090-f75b-43f2-aaee-e9e90afbb058",
   "metadata": {},
   "source": [
    "### 2. Answer some questions about the data\n",
    "\n",
    "* Which major has the lowest unemployment rate? Show a data frame that answers this question, but only show columns that are useful to the answer.\n",
    "* Which major has the highest percentage of women? Show a data frame that answers this question, but only show columns that are useful to the answer.\n",
    "* How do the distributions of median income compare across major categories?\n",
    "    * First get a value count on what major categories are in the data. What categories are most or least represented?\n",
    "    * Do some summary statistics using the .group_by() command to see the statistics for each major category.\n",
    "    * Make a histogram that explores median income for each of the major categories (facet_col). How did you choose your number of bins?\n",
    "    * Why do we often choose the median, rather than the mean, to describe the typical income of a group of people? Look this up online if you don't know the answer!\n",
    "    * Answer the question: Which major category has the highest typical (you'll need to decide what this means) median income?"
   ]
  },
  {
   "cell_type": "code",
   "execution_count": 58,
   "id": "65955115-72c3-445f-be32-af352ececa93",
   "metadata": {},
   "outputs": [
    {
     "data": {
      "text/plain": [
       "Index(['Rank', 'Major_code', 'Major', 'Total', 'Men', 'Women',\n",
       "       'Major_category', 'ShareWomen', 'Sample_size', 'Employed', 'Full_time',\n",
       "       'Part_time', 'Full_time_year_round', 'Unemployed', 'Unemployment_rate',\n",
       "       'Median', 'P25th', 'P75th', 'College_jobs', 'Non_college_jobs',\n",
       "       'Low_wage_jobs'],\n",
       "      dtype='object')"
      ]
     },
     "execution_count": 58,
     "metadata": {},
     "output_type": "execute_result"
    }
   ],
   "source": [
    "DF_raw.columns"
   ]
  },
  {
   "cell_type": "code",
   "execution_count": 186,
   "id": "8b12bd53-36e0-47b4-9ef5-3cbf6fc065a4",
   "metadata": {},
   "outputs": [
    {
     "data": {
      "text/html": [
       "<div>\n",
       "<style scoped>\n",
       "    .dataframe tbody tr th:only-of-type {\n",
       "        vertical-align: middle;\n",
       "    }\n",
       "\n",
       "    .dataframe tbody tr th {\n",
       "        vertical-align: top;\n",
       "    }\n",
       "\n",
       "    .dataframe thead th {\n",
       "        text-align: right;\n",
       "    }\n",
       "</style>\n",
       "<table border=\"1\" class=\"dataframe\">\n",
       "  <thead>\n",
       "    <tr style=\"text-align: right;\">\n",
       "      <th></th>\n",
       "      <th>Unemployment_rate</th>\n",
       "      <th>Major</th>\n",
       "    </tr>\n",
       "  </thead>\n",
       "  <tbody>\n",
       "    <tr>\n",
       "      <th>14</th>\n",
       "      <td>0.006334</td>\n",
       "      <td>ENGINEERING MECHANICS PHYSICS AND SCIENCE</td>\n",
       "    </tr>\n",
       "    <tr>\n",
       "      <th>19</th>\n",
       "      <td>0.011690</td>\n",
       "      <td>COURT REPORTING</td>\n",
       "    </tr>\n",
       "    <tr>\n",
       "      <th>119</th>\n",
       "      <td>0.016203</td>\n",
       "      <td>MATHEMATICS TEACHER EDUCATION</td>\n",
       "    </tr>\n",
       "    <tr>\n",
       "      <th>0</th>\n",
       "      <td>0.018381</td>\n",
       "      <td>PETROLEUM ENGINEERING</td>\n",
       "    </tr>\n",
       "    <tr>\n",
       "      <th>64</th>\n",
       "      <td>0.019642</td>\n",
       "      <td>GENERAL AGRICULTURE</td>\n",
       "    </tr>\n",
       "    <tr>\n",
       "      <th>...</th>\n",
       "      <td>...</td>\n",
       "      <td>...</td>\n",
       "    </tr>\n",
       "    <tr>\n",
       "      <th>29</th>\n",
       "      <td>0.128426</td>\n",
       "      <td>PUBLIC POLICY</td>\n",
       "    </tr>\n",
       "    <tr>\n",
       "      <th>170</th>\n",
       "      <td>0.149048</td>\n",
       "      <td>CLINICAL PSYCHOLOGY</td>\n",
       "    </tr>\n",
       "    <tr>\n",
       "      <th>84</th>\n",
       "      <td>0.151850</td>\n",
       "      <td>COMPUTER NETWORKING AND TELECOMMUNICATIONS</td>\n",
       "    </tr>\n",
       "    <tr>\n",
       "      <th>89</th>\n",
       "      <td>0.159491</td>\n",
       "      <td>PUBLIC ADMINISTRATION</td>\n",
       "    </tr>\n",
       "    <tr>\n",
       "      <th>5</th>\n",
       "      <td>0.177226</td>\n",
       "      <td>NUCLEAR ENGINEERING</td>\n",
       "    </tr>\n",
       "  </tbody>\n",
       "</table>\n",
       "<p>168 rows × 2 columns</p>\n",
       "</div>"
      ],
      "text/plain": [
       "     Unemployment_rate                                       Major\n",
       "14            0.006334   ENGINEERING MECHANICS PHYSICS AND SCIENCE\n",
       "19            0.011690                             COURT REPORTING\n",
       "119           0.016203               MATHEMATICS TEACHER EDUCATION\n",
       "0             0.018381                       PETROLEUM ENGINEERING\n",
       "64            0.019642                         GENERAL AGRICULTURE\n",
       "..                 ...                                         ...\n",
       "29            0.128426                               PUBLIC POLICY\n",
       "170           0.149048                         CLINICAL PSYCHOLOGY\n",
       "84            0.151850  COMPUTER NETWORKING AND TELECOMMUNICATIONS\n",
       "89            0.159491                       PUBLIC ADMINISTRATION\n",
       "5             0.177226                         NUCLEAR ENGINEERING\n",
       "\n",
       "[168 rows x 2 columns]"
      ]
     },
     "execution_count": 186,
     "metadata": {},
     "output_type": "execute_result"
    }
   ],
   "source": [
    "#First get a value count on what major categories are in the data. What categories are most or least represented?\n",
    "my_columns = [ 'Unemployment_rate','Major']\n",
    "DF_raw[my_columns].sort_values('Unemployment_rate')\n",
    "\n",
    "mask = DF_raw['Unemployment_rate'] >0\n",
    "DF_new = DF_raw[mask]\n",
    "DF_new[my_columns].sort_values('Unemployment_rate')"
   ]
  },
  {
   "cell_type": "code",
   "execution_count": 184,
   "id": "8ce75361-43fc-4d77-b069-f5b2c719b6dd",
   "metadata": {},
   "outputs": [
    {
     "data": {
      "text/html": [
       "<div>\n",
       "<style scoped>\n",
       "    .dataframe tbody tr th:only-of-type {\n",
       "        vertical-align: middle;\n",
       "    }\n",
       "\n",
       "    .dataframe tbody tr th {\n",
       "        vertical-align: top;\n",
       "    }\n",
       "\n",
       "    .dataframe thead tr th {\n",
       "        text-align: left;\n",
       "    }\n",
       "\n",
       "    .dataframe thead tr:last-of-type th {\n",
       "        text-align: right;\n",
       "    }\n",
       "</style>\n",
       "<table border=\"1\" class=\"dataframe\">\n",
       "  <thead>\n",
       "    <tr>\n",
       "      <th></th>\n",
       "      <th colspan=\"8\" halign=\"left\">Rank</th>\n",
       "      <th colspan=\"2\" halign=\"left\">Total</th>\n",
       "      <th>...</th>\n",
       "      <th colspan=\"2\" halign=\"left\">Men</th>\n",
       "      <th colspan=\"8\" halign=\"left\">Women</th>\n",
       "    </tr>\n",
       "    <tr>\n",
       "      <th></th>\n",
       "      <th>count</th>\n",
       "      <th>mean</th>\n",
       "      <th>std</th>\n",
       "      <th>min</th>\n",
       "      <th>25%</th>\n",
       "      <th>50%</th>\n",
       "      <th>75%</th>\n",
       "      <th>max</th>\n",
       "      <th>count</th>\n",
       "      <th>mean</th>\n",
       "      <th>...</th>\n",
       "      <th>75%</th>\n",
       "      <th>max</th>\n",
       "      <th>count</th>\n",
       "      <th>mean</th>\n",
       "      <th>std</th>\n",
       "      <th>min</th>\n",
       "      <th>25%</th>\n",
       "      <th>50%</th>\n",
       "      <th>75%</th>\n",
       "      <th>max</th>\n",
       "    </tr>\n",
       "    <tr>\n",
       "      <th>Major_category</th>\n",
       "      <th></th>\n",
       "      <th></th>\n",
       "      <th></th>\n",
       "      <th></th>\n",
       "      <th></th>\n",
       "      <th></th>\n",
       "      <th></th>\n",
       "      <th></th>\n",
       "      <th></th>\n",
       "      <th></th>\n",
       "      <th></th>\n",
       "      <th></th>\n",
       "      <th></th>\n",
       "      <th></th>\n",
       "      <th></th>\n",
       "      <th></th>\n",
       "      <th></th>\n",
       "      <th></th>\n",
       "      <th></th>\n",
       "      <th></th>\n",
       "      <th></th>\n",
       "    </tr>\n",
       "  </thead>\n",
       "  <tbody>\n",
       "    <tr>\n",
       "      <th>Agriculture &amp; Natural Resources</th>\n",
       "      <td>10.0</td>\n",
       "      <td>101.500000</td>\n",
       "      <td>45.132521</td>\n",
       "      <td>22.0</td>\n",
       "      <td>66.75</td>\n",
       "      <td>110.0</td>\n",
       "      <td>136.25</td>\n",
       "      <td>162.0</td>\n",
       "      <td>9.0</td>\n",
       "      <td>8402.222222</td>\n",
       "      <td>...</td>\n",
       "      <td>6053.00</td>\n",
       "      <td>9658.0</td>\n",
       "      <td>9.0</td>\n",
       "      <td>3918.111111</td>\n",
       "      <td>4997.863280</td>\n",
       "      <td>209.0</td>\n",
       "      <td>690.00</td>\n",
       "      <td>2519.0</td>\n",
       "      <td>4582.00</td>\n",
       "      <td>16226.0</td>\n",
       "    </tr>\n",
       "    <tr>\n",
       "      <th>Arts</th>\n",
       "      <td>8.0</td>\n",
       "      <td>131.125000</td>\n",
       "      <td>45.091772</td>\n",
       "      <td>33.0</td>\n",
       "      <td>130.50</td>\n",
       "      <td>148.5</td>\n",
       "      <td>155.50</td>\n",
       "      <td>167.0</td>\n",
       "      <td>8.0</td>\n",
       "      <td>44641.250000</td>\n",
       "      <td>...</td>\n",
       "      <td>26066.75</td>\n",
       "      <td>32041.0</td>\n",
       "      <td>8.0</td>\n",
       "      <td>27842.500000</td>\n",
       "      <td>23017.155645</td>\n",
       "      <td>1370.0</td>\n",
       "      <td>12196.50</td>\n",
       "      <td>22606.5</td>\n",
       "      <td>35456.50</td>\n",
       "      <td>71439.0</td>\n",
       "    </tr>\n",
       "    <tr>\n",
       "      <th>Biology &amp; Life Science</th>\n",
       "      <td>14.0</td>\n",
       "      <td>95.357143</td>\n",
       "      <td>33.726518</td>\n",
       "      <td>49.0</td>\n",
       "      <td>71.25</td>\n",
       "      <td>88.5</td>\n",
       "      <td>119.50</td>\n",
       "      <td>169.0</td>\n",
       "      <td>14.0</td>\n",
       "      <td>32418.714286</td>\n",
       "      <td>...</td>\n",
       "      <td>8173.00</td>\n",
       "      <td>111762.0</td>\n",
       "      <td>14.0</td>\n",
       "      <td>19210.214286</td>\n",
       "      <td>43477.797675</td>\n",
       "      <td>703.0</td>\n",
       "      <td>2942.00</td>\n",
       "      <td>7339.0</td>\n",
       "      <td>12947.00</td>\n",
       "      <td>168947.0</td>\n",
       "    </tr>\n",
       "    <tr>\n",
       "      <th>Business</th>\n",
       "      <td>13.0</td>\n",
       "      <td>55.846154</td>\n",
       "      <td>31.929209</td>\n",
       "      <td>7.0</td>\n",
       "      <td>36.00</td>\n",
       "      <td>58.0</td>\n",
       "      <td>77.00</td>\n",
       "      <td>128.0</td>\n",
       "      <td>13.0</td>\n",
       "      <td>100182.769231</td>\n",
       "      <td>...</td>\n",
       "      <td>94519.00</td>\n",
       "      <td>173809.0</td>\n",
       "      <td>13.0</td>\n",
       "      <td>48809.538462</td>\n",
       "      <td>54569.495999</td>\n",
       "      <td>1667.0</td>\n",
       "      <td>5727.00</td>\n",
       "      <td>18313.0</td>\n",
       "      <td>102352.00</td>\n",
       "      <td>156118.0</td>\n",
       "    </tr>\n",
       "    <tr>\n",
       "      <th>Communications &amp; Journalism</th>\n",
       "      <td>4.0</td>\n",
       "      <td>104.000000</td>\n",
       "      <td>14.809907</td>\n",
       "      <td>94.0</td>\n",
       "      <td>96.25</td>\n",
       "      <td>98.0</td>\n",
       "      <td>105.75</td>\n",
       "      <td>126.0</td>\n",
       "      <td>4.0</td>\n",
       "      <td>98150.250000</td>\n",
       "      <td>...</td>\n",
       "      <td>36182.75</td>\n",
       "      <td>70619.0</td>\n",
       "      <td>4.0</td>\n",
       "      <td>65170.000000</td>\n",
       "      <td>52829.349854</td>\n",
       "      <td>28120.0</td>\n",
       "      <td>37255.00</td>\n",
       "      <td>44591.5</td>\n",
       "      <td>72506.50</td>\n",
       "      <td>143377.0</td>\n",
       "    </tr>\n",
       "    <tr>\n",
       "      <th>Computers &amp; Mathematics</th>\n",
       "      <td>11.0</td>\n",
       "      <td>57.000000</td>\n",
       "      <td>24.195041</td>\n",
       "      <td>21.0</td>\n",
       "      <td>44.50</td>\n",
       "      <td>48.0</td>\n",
       "      <td>68.00</td>\n",
       "      <td>106.0</td>\n",
       "      <td>11.0</td>\n",
       "      <td>27182.545455</td>\n",
       "      <td>...</td>\n",
       "      <td>19411.50</td>\n",
       "      <td>99743.0</td>\n",
       "      <td>11.0</td>\n",
       "      <td>8207.545455</td>\n",
       "      <td>11361.770033</td>\n",
       "      <td>109.0</td>\n",
       "      <td>1802.00</td>\n",
       "      <td>2908.0</td>\n",
       "      <td>7955.00</td>\n",
       "      <td>32441.0</td>\n",
       "    </tr>\n",
       "    <tr>\n",
       "      <th>Education</th>\n",
       "      <td>16.0</td>\n",
       "      <td>130.375000</td>\n",
       "      <td>27.436897</td>\n",
       "      <td>56.0</td>\n",
       "      <td>119.50</td>\n",
       "      <td>132.5</td>\n",
       "      <td>145.75</td>\n",
       "      <td>173.0</td>\n",
       "      <td>16.0</td>\n",
       "      <td>34945.562500</td>\n",
       "      <td>...</td>\n",
       "      <td>10145.50</td>\n",
       "      <td>26893.0</td>\n",
       "      <td>16.0</td>\n",
       "      <td>28475.187500</td>\n",
       "      <td>44371.507094</td>\n",
       "      <td>524.0</td>\n",
       "      <td>5980.50</td>\n",
       "      <td>11037.0</td>\n",
       "      <td>26225.25</td>\n",
       "      <td>157833.0</td>\n",
       "    </tr>\n",
       "    <tr>\n",
       "      <th>Engineering</th>\n",
       "      <td>29.0</td>\n",
       "      <td>22.620690</td>\n",
       "      <td>18.640229</td>\n",
       "      <td>1.0</td>\n",
       "      <td>10.00</td>\n",
       "      <td>17.0</td>\n",
       "      <td>31.00</td>\n",
       "      <td>67.0</td>\n",
       "      <td>29.0</td>\n",
       "      <td>18537.344828</td>\n",
       "      <td>...</td>\n",
       "      <td>12953.00</td>\n",
       "      <td>80320.0</td>\n",
       "      <td>29.0</td>\n",
       "      <td>4457.793103</td>\n",
       "      <td>5788.262905</td>\n",
       "      <td>77.0</td>\n",
       "      <td>506.00</td>\n",
       "      <td>1385.0</td>\n",
       "      <td>6548.00</td>\n",
       "      <td>20957.0</td>\n",
       "    </tr>\n",
       "    <tr>\n",
       "      <th>Health</th>\n",
       "      <td>12.0</td>\n",
       "      <td>96.500000</td>\n",
       "      <td>40.435133</td>\n",
       "      <td>35.0</td>\n",
       "      <td>58.75</td>\n",
       "      <td>104.5</td>\n",
       "      <td>123.25</td>\n",
       "      <td>164.0</td>\n",
       "      <td>12.0</td>\n",
       "      <td>38602.500000</td>\n",
       "      <td>...</td>\n",
       "      <td>7854.75</td>\n",
       "      <td>21773.0</td>\n",
       "      <td>12.0</td>\n",
       "      <td>32309.416667</td>\n",
       "      <td>49832.443806</td>\n",
       "      <td>7219.0</td>\n",
       "      <td>11947.75</td>\n",
       "      <td>15243.0</td>\n",
       "      <td>28269.75</td>\n",
       "      <td>187621.0</td>\n",
       "    </tr>\n",
       "    <tr>\n",
       "      <th>Humanities &amp; Liberal Arts</th>\n",
       "      <td>15.0</td>\n",
       "      <td>135.066667</td>\n",
       "      <td>27.698547</td>\n",
       "      <td>70.0</td>\n",
       "      <td>116.50</td>\n",
       "      <td>138.0</td>\n",
       "      <td>158.50</td>\n",
       "      <td>168.0</td>\n",
       "      <td>15.0</td>\n",
       "      <td>47564.533333</td>\n",
       "      <td>...</td>\n",
       "      <td>20477.50</td>\n",
       "      <td>78253.0</td>\n",
       "      <td>15.0</td>\n",
       "      <td>29374.800000</td>\n",
       "      <td>34072.936108</td>\n",
       "      <td>1323.0</td>\n",
       "      <td>11761.00</td>\n",
       "      <td>17790.0</td>\n",
       "      <td>31439.50</td>\n",
       "      <td>136446.0</td>\n",
       "    </tr>\n",
       "    <tr>\n",
       "      <th>Industrial Arts &amp; Consumer Services</th>\n",
       "      <td>7.0</td>\n",
       "      <td>105.142857</td>\n",
       "      <td>48.933385</td>\n",
       "      <td>27.0</td>\n",
       "      <td>75.00</td>\n",
       "      <td>107.0</td>\n",
       "      <td>145.50</td>\n",
       "      <td>161.0</td>\n",
       "      <td>7.0</td>\n",
       "      <td>32827.428571</td>\n",
       "      <td>...</td>\n",
       "      <td>15038.50</td>\n",
       "      <td>62181.0</td>\n",
       "      <td>7.0</td>\n",
       "      <td>18001.571429</td>\n",
       "      <td>27456.521574</td>\n",
       "      <td>0.0</td>\n",
       "      <td>1122.00</td>\n",
       "      <td>1893.0</td>\n",
       "      <td>29490.50</td>\n",
       "      <td>62893.0</td>\n",
       "    </tr>\n",
       "    <tr>\n",
       "      <th>Interdisciplinary</th>\n",
       "      <td>1.0</td>\n",
       "      <td>110.000000</td>\n",
       "      <td>NaN</td>\n",
       "      <td>110.0</td>\n",
       "      <td>110.00</td>\n",
       "      <td>110.0</td>\n",
       "      <td>110.00</td>\n",
       "      <td>110.0</td>\n",
       "      <td>1.0</td>\n",
       "      <td>12296.000000</td>\n",
       "      <td>...</td>\n",
       "      <td>2817.00</td>\n",
       "      <td>2817.0</td>\n",
       "      <td>1.0</td>\n",
       "      <td>9479.000000</td>\n",
       "      <td>NaN</td>\n",
       "      <td>9479.0</td>\n",
       "      <td>9479.00</td>\n",
       "      <td>9479.0</td>\n",
       "      <td>9479.00</td>\n",
       "      <td>9479.0</td>\n",
       "    </tr>\n",
       "    <tr>\n",
       "      <th>Law &amp; Public Policy</th>\n",
       "      <td>5.0</td>\n",
       "      <td>64.600000</td>\n",
       "      <td>36.411537</td>\n",
       "      <td>20.0</td>\n",
       "      <td>30.00</td>\n",
       "      <td>88.0</td>\n",
       "      <td>90.00</td>\n",
       "      <td>95.0</td>\n",
       "      <td>5.0</td>\n",
       "      <td>35821.400000</td>\n",
       "      <td>...</td>\n",
       "      <td>4435.00</td>\n",
       "      <td>80231.0</td>\n",
       "      <td>5.0</td>\n",
       "      <td>17595.600000</td>\n",
       "      <td>30914.462987</td>\n",
       "      <td>271.0</td>\n",
       "      <td>2682.00</td>\n",
       "      <td>3339.0</td>\n",
       "      <td>9093.00</td>\n",
       "      <td>72593.0</td>\n",
       "    </tr>\n",
       "    <tr>\n",
       "      <th>Physical Sciences</th>\n",
       "      <td>10.0</td>\n",
       "      <td>67.600000</td>\n",
       "      <td>31.549608</td>\n",
       "      <td>8.0</td>\n",
       "      <td>45.50</td>\n",
       "      <td>74.0</td>\n",
       "      <td>89.75</td>\n",
       "      <td>111.0</td>\n",
       "      <td>10.0</td>\n",
       "      <td>18547.900000</td>\n",
       "      <td>...</td>\n",
       "      <td>18763.25</td>\n",
       "      <td>32923.0</td>\n",
       "      <td>10.0</td>\n",
       "      <td>9008.900000</td>\n",
       "      <td>13596.244485</td>\n",
       "      <td>542.0</td>\n",
       "      <td>1201.50</td>\n",
       "      <td>1627.0</td>\n",
       "      <td>8086.25</td>\n",
       "      <td>35037.0</td>\n",
       "    </tr>\n",
       "    <tr>\n",
       "      <th>Psychology &amp; Social Work</th>\n",
       "      <td>9.0</td>\n",
       "      <td>143.000000</td>\n",
       "      <td>36.390246</td>\n",
       "      <td>71.0</td>\n",
       "      <td>146.00</td>\n",
       "      <td>156.0</td>\n",
       "      <td>170.00</td>\n",
       "      <td>172.0</td>\n",
       "      <td>9.0</td>\n",
       "      <td>53445.222222</td>\n",
       "      <td>...</td>\n",
       "      <td>1936.00</td>\n",
       "      <td>86648.0</td>\n",
       "      <td>9.0</td>\n",
       "      <td>42543.555556</td>\n",
       "      <td>100322.624133</td>\n",
       "      <td>973.0</td>\n",
       "      <td>2270.00</td>\n",
       "      <td>3695.0</td>\n",
       "      <td>8489.00</td>\n",
       "      <td>307087.0</td>\n",
       "    </tr>\n",
       "    <tr>\n",
       "      <th>Social Science</th>\n",
       "      <td>9.0</td>\n",
       "      <td>91.666667</td>\n",
       "      <td>36.231892</td>\n",
       "      <td>37.0</td>\n",
       "      <td>69.00</td>\n",
       "      <td>80.0</td>\n",
       "      <td>125.00</td>\n",
       "      <td>143.0</td>\n",
       "      <td>9.0</td>\n",
       "      <td>58885.111111</td>\n",
       "      <td>...</td>\n",
       "      <td>32510.00</td>\n",
       "      <td>93880.0</td>\n",
       "      <td>9.0</td>\n",
       "      <td>30348.000000</td>\n",
       "      <td>34459.625107</td>\n",
       "      <td>1784.0</td>\n",
       "      <td>7579.00</td>\n",
       "      <td>9848.0</td>\n",
       "      <td>49498.00</td>\n",
       "      <td>88741.0</td>\n",
       "    </tr>\n",
       "  </tbody>\n",
       "</table>\n",
       "<p>16 rows × 32 columns</p>\n",
       "</div>"
      ],
      "text/plain": [
       "                                     Rank                                \\\n",
       "                                    count        mean        std    min   \n",
       "Major_category                                                            \n",
       "Agriculture & Natural Resources      10.0  101.500000  45.132521   22.0   \n",
       "Arts                                  8.0  131.125000  45.091772   33.0   \n",
       "Biology & Life Science               14.0   95.357143  33.726518   49.0   \n",
       "Business                             13.0   55.846154  31.929209    7.0   \n",
       "Communications & Journalism           4.0  104.000000  14.809907   94.0   \n",
       "Computers & Mathematics              11.0   57.000000  24.195041   21.0   \n",
       "Education                            16.0  130.375000  27.436897   56.0   \n",
       "Engineering                          29.0   22.620690  18.640229    1.0   \n",
       "Health                               12.0   96.500000  40.435133   35.0   \n",
       "Humanities & Liberal Arts            15.0  135.066667  27.698547   70.0   \n",
       "Industrial Arts & Consumer Services   7.0  105.142857  48.933385   27.0   \n",
       "Interdisciplinary                     1.0  110.000000        NaN  110.0   \n",
       "Law & Public Policy                   5.0   64.600000  36.411537   20.0   \n",
       "Physical Sciences                    10.0   67.600000  31.549608    8.0   \n",
       "Psychology & Social Work              9.0  143.000000  36.390246   71.0   \n",
       "Social Science                        9.0   91.666667  36.231892   37.0   \n",
       "\n",
       "                                                                  Total  \\\n",
       "                                        25%    50%     75%    max count   \n",
       "Major_category                                                            \n",
       "Agriculture & Natural Resources       66.75  110.0  136.25  162.0   9.0   \n",
       "Arts                                 130.50  148.5  155.50  167.0   8.0   \n",
       "Biology & Life Science                71.25   88.5  119.50  169.0  14.0   \n",
       "Business                              36.00   58.0   77.00  128.0  13.0   \n",
       "Communications & Journalism           96.25   98.0  105.75  126.0   4.0   \n",
       "Computers & Mathematics               44.50   48.0   68.00  106.0  11.0   \n",
       "Education                            119.50  132.5  145.75  173.0  16.0   \n",
       "Engineering                           10.00   17.0   31.00   67.0  29.0   \n",
       "Health                                58.75  104.5  123.25  164.0  12.0   \n",
       "Humanities & Liberal Arts            116.50  138.0  158.50  168.0  15.0   \n",
       "Industrial Arts & Consumer Services   75.00  107.0  145.50  161.0   7.0   \n",
       "Interdisciplinary                    110.00  110.0  110.00  110.0   1.0   \n",
       "Law & Public Policy                   30.00   88.0   90.00   95.0   5.0   \n",
       "Physical Sciences                     45.50   74.0   89.75  111.0  10.0   \n",
       "Psychology & Social Work             146.00  156.0  170.00  172.0   9.0   \n",
       "Social Science                        69.00   80.0  125.00  143.0   9.0   \n",
       "\n",
       "                                                    ...       Men            \\\n",
       "                                              mean  ...       75%       max   \n",
       "Major_category                                      ...                       \n",
       "Agriculture & Natural Resources        8402.222222  ...   6053.00    9658.0   \n",
       "Arts                                  44641.250000  ...  26066.75   32041.0   \n",
       "Biology & Life Science                32418.714286  ...   8173.00  111762.0   \n",
       "Business                             100182.769231  ...  94519.00  173809.0   \n",
       "Communications & Journalism           98150.250000  ...  36182.75   70619.0   \n",
       "Computers & Mathematics               27182.545455  ...  19411.50   99743.0   \n",
       "Education                             34945.562500  ...  10145.50   26893.0   \n",
       "Engineering                           18537.344828  ...  12953.00   80320.0   \n",
       "Health                                38602.500000  ...   7854.75   21773.0   \n",
       "Humanities & Liberal Arts             47564.533333  ...  20477.50   78253.0   \n",
       "Industrial Arts & Consumer Services   32827.428571  ...  15038.50   62181.0   \n",
       "Interdisciplinary                     12296.000000  ...   2817.00    2817.0   \n",
       "Law & Public Policy                   35821.400000  ...   4435.00   80231.0   \n",
       "Physical Sciences                     18547.900000  ...  18763.25   32923.0   \n",
       "Psychology & Social Work              53445.222222  ...   1936.00   86648.0   \n",
       "Social Science                        58885.111111  ...  32510.00   93880.0   \n",
       "\n",
       "                                    Women                               \\\n",
       "                                    count          mean            std   \n",
       "Major_category                                                           \n",
       "Agriculture & Natural Resources       9.0   3918.111111    4997.863280   \n",
       "Arts                                  8.0  27842.500000   23017.155645   \n",
       "Biology & Life Science               14.0  19210.214286   43477.797675   \n",
       "Business                             13.0  48809.538462   54569.495999   \n",
       "Communications & Journalism           4.0  65170.000000   52829.349854   \n",
       "Computers & Mathematics              11.0   8207.545455   11361.770033   \n",
       "Education                            16.0  28475.187500   44371.507094   \n",
       "Engineering                          29.0   4457.793103    5788.262905   \n",
       "Health                               12.0  32309.416667   49832.443806   \n",
       "Humanities & Liberal Arts            15.0  29374.800000   34072.936108   \n",
       "Industrial Arts & Consumer Services   7.0  18001.571429   27456.521574   \n",
       "Interdisciplinary                     1.0   9479.000000            NaN   \n",
       "Law & Public Policy                   5.0  17595.600000   30914.462987   \n",
       "Physical Sciences                    10.0   9008.900000   13596.244485   \n",
       "Psychology & Social Work              9.0  42543.555556  100322.624133   \n",
       "Social Science                        9.0  30348.000000   34459.625107   \n",
       "\n",
       "                                                                            \\\n",
       "                                         min       25%      50%        75%   \n",
       "Major_category                                                               \n",
       "Agriculture & Natural Resources        209.0    690.00   2519.0    4582.00   \n",
       "Arts                                  1370.0  12196.50  22606.5   35456.50   \n",
       "Biology & Life Science                 703.0   2942.00   7339.0   12947.00   \n",
       "Business                              1667.0   5727.00  18313.0  102352.00   \n",
       "Communications & Journalism          28120.0  37255.00  44591.5   72506.50   \n",
       "Computers & Mathematics                109.0   1802.00   2908.0    7955.00   \n",
       "Education                              524.0   5980.50  11037.0   26225.25   \n",
       "Engineering                             77.0    506.00   1385.0    6548.00   \n",
       "Health                                7219.0  11947.75  15243.0   28269.75   \n",
       "Humanities & Liberal Arts             1323.0  11761.00  17790.0   31439.50   \n",
       "Industrial Arts & Consumer Services      0.0   1122.00   1893.0   29490.50   \n",
       "Interdisciplinary                     9479.0   9479.00   9479.0    9479.00   \n",
       "Law & Public Policy                    271.0   2682.00   3339.0    9093.00   \n",
       "Physical Sciences                      542.0   1201.50   1627.0    8086.25   \n",
       "Psychology & Social Work               973.0   2270.00   3695.0    8489.00   \n",
       "Social Science                        1784.0   7579.00   9848.0   49498.00   \n",
       "\n",
       "                                               \n",
       "                                          max  \n",
       "Major_category                                 \n",
       "Agriculture & Natural Resources       16226.0  \n",
       "Arts                                  71439.0  \n",
       "Biology & Life Science               168947.0  \n",
       "Business                             156118.0  \n",
       "Communications & Journalism          143377.0  \n",
       "Computers & Mathematics               32441.0  \n",
       "Education                            157833.0  \n",
       "Engineering                           20957.0  \n",
       "Health                               187621.0  \n",
       "Humanities & Liberal Arts            136446.0  \n",
       "Industrial Arts & Consumer Services   62893.0  \n",
       "Interdisciplinary                      9479.0  \n",
       "Law & Public Policy                   72593.0  \n",
       "Physical Sciences                     35037.0  \n",
       "Psychology & Social Work             307087.0  \n",
       "Social Science                        88741.0  \n",
       "\n",
       "[16 rows x 32 columns]"
      ]
     },
     "execution_count": 184,
     "metadata": {},
     "output_type": "execute_result"
    }
   ],
   "source": [
    "#Do some summary statistics using the .group_by() command to see the statistics for each major category.\n",
    "some_cols = ['Rank', 'Total','Men','Women','Major_category']\n",
    "DF_raw[some_cols].groupby('Major_category').describe()"
   ]
  },
  {
   "cell_type": "code",
   "execution_count": 263,
   "id": "eddaa7ad-ea06-4fd5-a888-e5819f96def9",
   "metadata": {},
   "outputs": [
    {
     "data": {
      "application/vnd.plotly.v1+json": {
       "config": {
        "plotlyServerURL": "https://plot.ly"
       },
       "data": [
        {
         "alignmentgroup": "True",
         "bingroup": "x",
         "hovertemplate": "Major_category=Engineering<br>Median=%{x}<br>count=%{y}<extra></extra>",
         "legendgroup": "",
         "marker": {
          "color": "#636efa",
          "pattern": {
           "shape": ""
          }
         },
         "name": "",
         "nbinsx": 30,
         "offsetgroup": "",
         "orientation": "v",
         "showlegend": false,
         "type": "histogram",
         "x": [
          110000,
          75000,
          73000,
          70000,
          65000,
          65000,
          60000,
          60000,
          60000,
          60000,
          60000,
          60000,
          58000,
          57100,
          57000,
          56000,
          54000,
          52000,
          52000,
          50000,
          50000,
          50000,
          50000,
          50000,
          46000,
          44000,
          40000,
          40000,
          40000
         ],
         "xaxis": "x16",
         "yaxis": "y16"
        },
        {
         "alignmentgroup": "True",
         "bingroup": "x",
         "hovertemplate": "Major_category=Business<br>Median=%{x}<br>count=%{y}<extra></extra>",
         "legendgroup": "",
         "marker": {
          "color": "#636efa",
          "pattern": {
           "shape": ""
          }
         },
         "name": "",
         "nbinsx": 30,
         "offsetgroup": "",
         "orientation": "v",
         "showlegend": false,
         "type": "histogram",
         "x": [
          62000,
          51000,
          50000,
          47000,
          46000,
          45000,
          40000,
          40000,
          40000,
          38000,
          38000,
          36000,
          33000
         ],
         "xaxis": "x17",
         "yaxis": "y17"
        },
        {
         "alignmentgroup": "True",
         "bingroup": "x",
         "hovertemplate": "Major_category=Physical Sciences<br>Median=%{x}<br>count=%{y}<extra></extra>",
         "legendgroup": "",
         "marker": {
          "color": "#636efa",
          "pattern": {
           "shape": ""
          }
         },
         "name": "",
         "nbinsx": 30,
         "offsetgroup": "",
         "orientation": "v",
         "showlegend": false,
         "type": "histogram",
         "x": [
          62000,
          46000,
          45000,
          44700,
          40000,
          39000,
          36200,
          36000,
          35000,
          35000
         ],
         "xaxis": "x18",
         "yaxis": "y18"
        },
        {
         "alignmentgroup": "True",
         "bingroup": "x",
         "hovertemplate": "Major_category=Law & Public Policy<br>Median=%{x}<br>count=%{y}<extra></extra>",
         "legendgroup": "",
         "marker": {
          "color": "#636efa",
          "pattern": {
           "shape": ""
          }
         },
         "name": "",
         "nbinsx": 30,
         "offsetgroup": "",
         "orientation": "v",
         "showlegend": false,
         "type": "histogram",
         "x": [
          54000,
          50000,
          36000,
          36000,
          35000
         ],
         "xaxis": "x13",
         "yaxis": "y13"
        },
        {
         "alignmentgroup": "True",
         "bingroup": "x",
         "hovertemplate": "Major_category=Computers & Mathematics<br>Median=%{x}<br>count=%{y}<extra></extra>",
         "legendgroup": "",
         "marker": {
          "color": "#636efa",
          "pattern": {
           "shape": ""
          }
         },
         "name": "",
         "nbinsx": 30,
         "offsetgroup": "",
         "orientation": "v",
         "showlegend": false,
         "type": "histogram",
         "x": [
          53000,
          45000,
          45000,
          45000,
          45000,
          45000,
          42000,
          41300,
          37500,
          36400,
          35000
         ],
         "xaxis": "x14",
         "yaxis": "y14"
        },
        {
         "alignmentgroup": "True",
         "bingroup": "x",
         "hovertemplate": "Major_category=Agriculture & Natural Resources<br>Median=%{x}<br>count=%{y}<extra></extra>",
         "legendgroup": "",
         "marker": {
          "color": "#636efa",
          "pattern": {
           "shape": ""
          }
         },
         "name": "",
         "nbinsx": 30,
         "offsetgroup": "",
         "orientation": "v",
         "showlegend": false,
         "type": "histogram",
         "x": [
          53000,
          40000,
          40000,
          40000,
          35000,
          35000,
          35000,
          32000,
          30000,
          29000
         ],
         "xaxis": "x15",
         "yaxis": "y15"
        },
        {
         "alignmentgroup": "True",
         "bingroup": "x",
         "hovertemplate": "Major_category=Industrial Arts & Consumer Services<br>Median=%{x}<br>count=%{y}<extra></extra>",
         "legendgroup": "",
         "marker": {
          "color": "#636efa",
          "pattern": {
           "shape": ""
          }
         },
         "name": "",
         "nbinsx": 30,
         "offsetgroup": "",
         "orientation": "v",
         "showlegend": false,
         "type": "histogram",
         "x": [
          50000,
          40000,
          38400,
          35000,
          32000,
          30000,
          29000
         ],
         "xaxis": "x10",
         "yaxis": "y10"
        },
        {
         "alignmentgroup": "True",
         "bingroup": "x",
         "hovertemplate": "Major_category=Arts<br>Median=%{x}<br>count=%{y}<extra></extra>",
         "legendgroup": "",
         "marker": {
          "color": "#636efa",
          "pattern": {
           "shape": ""
          }
         },
         "name": "",
         "nbinsx": 30,
         "offsetgroup": "",
         "orientation": "v",
         "showlegend": false,
         "type": "histogram",
         "x": [
          50000,
          35000,
          32000,
          31000,
          30500,
          30000,
          29000,
          27000
         ],
         "xaxis": "x11",
         "yaxis": "y11"
        },
        {
         "alignmentgroup": "True",
         "bingroup": "x",
         "hovertemplate": "Major_category=Health<br>Median=%{x}<br>count=%{y}<extra></extra>",
         "legendgroup": "",
         "marker": {
          "color": "#636efa",
          "pattern": {
           "shape": ""
          }
         },
         "name": "",
         "nbinsx": 30,
         "offsetgroup": "",
         "orientation": "v",
         "showlegend": false,
         "type": "histogram",
         "x": [
          48000,
          45000,
          42000,
          40000,
          36000,
          35000,
          35000,
          34000,
          33500,
          33000,
          32400,
          28000
         ],
         "xaxis": "x12",
         "yaxis": "y12"
        },
        {
         "alignmentgroup": "True",
         "bingroup": "x",
         "hovertemplate": "Major_category=Social Science<br>Median=%{x}<br>count=%{y}<extra></extra>",
         "legendgroup": "",
         "marker": {
          "color": "#636efa",
          "pattern": {
           "shape": ""
          }
         },
         "name": "",
         "nbinsx": 30,
         "offsetgroup": "",
         "orientation": "v",
         "showlegend": false,
         "type": "histogram",
         "x": [
          47000,
          40100,
          40000,
          38000,
          38000,
          35000,
          33000,
          33000,
          32000
         ],
         "xaxis": "x7",
         "yaxis": "y7"
        },
        {
         "alignmentgroup": "True",
         "bingroup": "x",
         "hovertemplate": "Major_category=Biology & Life Science<br>Median=%{x}<br>count=%{y}<extra></extra>",
         "legendgroup": "",
         "marker": {
          "color": "#636efa",
          "pattern": {
           "shape": ""
          }
         },
         "name": "",
         "nbinsx": 30,
         "offsetgroup": "",
         "orientation": "v",
         "showlegend": false,
         "type": "histogram",
         "x": [
          45000,
          41000,
          40000,
          40000,
          38000,
          37400,
          37000,
          35600,
          35000,
          35000,
          33500,
          33400,
          33000,
          26000
         ],
         "xaxis": "x8",
         "yaxis": "y8"
        },
        {
         "alignmentgroup": "True",
         "bingroup": "x",
         "hovertemplate": "Major_category=Education<br>Median=%{x}<br>count=%{y}<extra></extra>",
         "legendgroup": "",
         "marker": {
          "color": "#636efa",
          "pattern": {
           "shape": ""
          }
         },
         "name": "",
         "nbinsx": 30,
         "offsetgroup": "",
         "orientation": "v",
         "showlegend": false,
         "type": "histogram",
         "x": [
          41000,
          35000,
          34000,
          34000,
          34000,
          34000,
          33000,
          33000,
          32500,
          32100,
          32000,
          32000,
          31000,
          30000,
          28000,
          22000
         ],
         "xaxis": "x9",
         "yaxis": "y9"
        },
        {
         "alignmentgroup": "True",
         "bingroup": "x",
         "hovertemplate": "Major_category=Humanities & Liberal Arts<br>Median=%{x}<br>count=%{y}<extra></extra>",
         "legendgroup": "",
         "marker": {
          "color": "#636efa",
          "pattern": {
           "shape": ""
          }
         },
         "name": "",
         "nbinsx": 30,
         "offsetgroup": "",
         "orientation": "v",
         "showlegend": false,
         "type": "histogram",
         "x": [
          40000,
          35000,
          34000,
          34000,
          34000,
          33000,
          32200,
          32000,
          32000,
          31000,
          30000,
          29000,
          28000,
          27500,
          27000
         ],
         "xaxis": "x4",
         "yaxis": "y4"
        },
        {
         "alignmentgroup": "True",
         "bingroup": "x",
         "hovertemplate": "Major_category=Psychology & Social Work<br>Median=%{x}<br>count=%{y}<extra></extra>",
         "legendgroup": "",
         "marker": {
          "color": "#636efa",
          "pattern": {
           "shape": ""
          }
         },
         "name": "",
         "nbinsx": 30,
         "offsetgroup": "",
         "orientation": "v",
         "showlegend": false,
         "type": "histogram",
         "x": [
          40000,
          36000,
          31500,
          30000,
          30000,
          30000,
          25000,
          25000,
          23400
         ],
         "xaxis": "x5",
         "yaxis": "y5"
        },
        {
         "alignmentgroup": "True",
         "bingroup": "x",
         "hovertemplate": "Major_category=Communications & Journalism<br>Median=%{x}<br>count=%{y}<extra></extra>",
         "legendgroup": "",
         "marker": {
          "color": "#636efa",
          "pattern": {
           "shape": ""
          }
         },
         "name": "",
         "nbinsx": 30,
         "offsetgroup": "",
         "orientation": "v",
         "showlegend": false,
         "type": "histogram",
         "x": [
          35000,
          35000,
          35000,
          33000
         ],
         "xaxis": "x6",
         "yaxis": "y6"
        },
        {
         "alignmentgroup": "True",
         "bingroup": "x",
         "hovertemplate": "Major_category=Interdisciplinary<br>Median=%{x}<br>count=%{y}<extra></extra>",
         "legendgroup": "",
         "marker": {
          "color": "#636efa",
          "pattern": {
           "shape": ""
          }
         },
         "name": "",
         "nbinsx": 30,
         "offsetgroup": "",
         "orientation": "v",
         "showlegend": false,
         "type": "histogram",
         "x": [
          35000
         ],
         "xaxis": "x",
         "yaxis": "y"
        }
       ],
       "layout": {
        "annotations": [
         {
          "font": {},
          "showarrow": false,
          "text": "Major_category=Interdisciplinary",
          "x": 0.15999999999999998,
          "xanchor": "center",
          "xref": "paper",
          "y": 0.10833333333333331,
          "yanchor": "bottom",
          "yref": "paper"
         },
         {
          "font": {},
          "showarrow": false,
          "text": "Major_category=Humanities & Liberal Arts",
          "x": 0.15999999999999998,
          "xanchor": "center",
          "xref": "paper",
          "y": 0.2866666666666666,
          "yanchor": "bottom",
          "yref": "paper"
         },
         {
          "font": {},
          "showarrow": false,
          "text": "Major_category=Psychology & Social Work",
          "x": 0.49999999999999994,
          "xanchor": "center",
          "xref": "paper",
          "y": 0.2866666666666666,
          "yanchor": "bottom",
          "yref": "paper"
         },
         {
          "font": {},
          "showarrow": false,
          "text": "Major_category=Communications & Journalism",
          "x": 0.8399999999999999,
          "xanchor": "center",
          "xref": "paper",
          "y": 0.2866666666666666,
          "yanchor": "bottom",
          "yref": "paper"
         },
         {
          "font": {},
          "showarrow": false,
          "text": "Major_category=Social Science",
          "x": 0.15999999999999998,
          "xanchor": "center",
          "xref": "paper",
          "y": 0.46499999999999997,
          "yanchor": "bottom",
          "yref": "paper"
         },
         {
          "font": {},
          "showarrow": false,
          "text": "Major_category=Biology & Life Science",
          "x": 0.49999999999999994,
          "xanchor": "center",
          "xref": "paper",
          "y": 0.46499999999999997,
          "yanchor": "bottom",
          "yref": "paper"
         },
         {
          "font": {},
          "showarrow": false,
          "text": "Major_category=Education",
          "x": 0.8399999999999999,
          "xanchor": "center",
          "xref": "paper",
          "y": 0.46499999999999997,
          "yanchor": "bottom",
          "yref": "paper"
         },
         {
          "font": {},
          "showarrow": false,
          "text": "Major_category=Industrial Arts & Consumer Services",
          "x": 0.15999999999999998,
          "xanchor": "center",
          "xref": "paper",
          "y": 0.6433333333333332,
          "yanchor": "bottom",
          "yref": "paper"
         },
         {
          "font": {},
          "showarrow": false,
          "text": "Major_category=Arts",
          "x": 0.49999999999999994,
          "xanchor": "center",
          "xref": "paper",
          "y": 0.6433333333333332,
          "yanchor": "bottom",
          "yref": "paper"
         },
         {
          "font": {},
          "showarrow": false,
          "text": "Major_category=Health",
          "x": 0.8399999999999999,
          "xanchor": "center",
          "xref": "paper",
          "y": 0.6433333333333332,
          "yanchor": "bottom",
          "yref": "paper"
         },
         {
          "font": {},
          "showarrow": false,
          "text": "Major_category=Law & Public Policy",
          "x": 0.15999999999999998,
          "xanchor": "center",
          "xref": "paper",
          "y": 0.8216666666666665,
          "yanchor": "bottom",
          "yref": "paper"
         },
         {
          "font": {},
          "showarrow": false,
          "text": "Major_category=Computers & Mathematics",
          "x": 0.49999999999999994,
          "xanchor": "center",
          "xref": "paper",
          "y": 0.8216666666666665,
          "yanchor": "bottom",
          "yref": "paper"
         },
         {
          "font": {},
          "showarrow": false,
          "text": "Major_category=Agriculture & Natural Resources",
          "x": 0.8399999999999999,
          "xanchor": "center",
          "xref": "paper",
          "y": 0.8216666666666665,
          "yanchor": "bottom",
          "yref": "paper"
         },
         {
          "font": {},
          "showarrow": false,
          "text": "Major_category=Engineering",
          "x": 0.15999999999999998,
          "xanchor": "center",
          "xref": "paper",
          "y": 0.9999999999999999,
          "yanchor": "bottom",
          "yref": "paper"
         },
         {
          "font": {},
          "showarrow": false,
          "text": "Major_category=Business",
          "x": 0.49999999999999994,
          "xanchor": "center",
          "xref": "paper",
          "y": 0.9999999999999999,
          "yanchor": "bottom",
          "yref": "paper"
         },
         {
          "font": {},
          "showarrow": false,
          "text": "Major_category=Physical Sciences",
          "x": 0.8399999999999999,
          "xanchor": "center",
          "xref": "paper",
          "y": 0.9999999999999999,
          "yanchor": "bottom",
          "yref": "paper"
         }
        ],
        "autosize": false,
        "barmode": "relative",
        "height": 1600,
        "legend": {
         "tracegroupgap": 0
        },
        "margin": {
         "t": 60
        },
        "template": {
         "data": {
          "bar": [
           {
            "error_x": {
             "color": "#2a3f5f"
            },
            "error_y": {
             "color": "#2a3f5f"
            },
            "marker": {
             "line": {
              "color": "#E5ECF6",
              "width": 0.5
             },
             "pattern": {
              "fillmode": "overlay",
              "size": 10,
              "solidity": 0.2
             }
            },
            "type": "bar"
           }
          ],
          "barpolar": [
           {
            "marker": {
             "line": {
              "color": "#E5ECF6",
              "width": 0.5
             },
             "pattern": {
              "fillmode": "overlay",
              "size": 10,
              "solidity": 0.2
             }
            },
            "type": "barpolar"
           }
          ],
          "carpet": [
           {
            "aaxis": {
             "endlinecolor": "#2a3f5f",
             "gridcolor": "white",
             "linecolor": "white",
             "minorgridcolor": "white",
             "startlinecolor": "#2a3f5f"
            },
            "baxis": {
             "endlinecolor": "#2a3f5f",
             "gridcolor": "white",
             "linecolor": "white",
             "minorgridcolor": "white",
             "startlinecolor": "#2a3f5f"
            },
            "type": "carpet"
           }
          ],
          "choropleth": [
           {
            "colorbar": {
             "outlinewidth": 0,
             "ticks": ""
            },
            "type": "choropleth"
           }
          ],
          "contour": [
           {
            "colorbar": {
             "outlinewidth": 0,
             "ticks": ""
            },
            "colorscale": [
             [
              0,
              "#0d0887"
             ],
             [
              0.1111111111111111,
              "#46039f"
             ],
             [
              0.2222222222222222,
              "#7201a8"
             ],
             [
              0.3333333333333333,
              "#9c179e"
             ],
             [
              0.4444444444444444,
              "#bd3786"
             ],
             [
              0.5555555555555556,
              "#d8576b"
             ],
             [
              0.6666666666666666,
              "#ed7953"
             ],
             [
              0.7777777777777778,
              "#fb9f3a"
             ],
             [
              0.8888888888888888,
              "#fdca26"
             ],
             [
              1,
              "#f0f921"
             ]
            ],
            "type": "contour"
           }
          ],
          "contourcarpet": [
           {
            "colorbar": {
             "outlinewidth": 0,
             "ticks": ""
            },
            "type": "contourcarpet"
           }
          ],
          "heatmap": [
           {
            "colorbar": {
             "outlinewidth": 0,
             "ticks": ""
            },
            "colorscale": [
             [
              0,
              "#0d0887"
             ],
             [
              0.1111111111111111,
              "#46039f"
             ],
             [
              0.2222222222222222,
              "#7201a8"
             ],
             [
              0.3333333333333333,
              "#9c179e"
             ],
             [
              0.4444444444444444,
              "#bd3786"
             ],
             [
              0.5555555555555556,
              "#d8576b"
             ],
             [
              0.6666666666666666,
              "#ed7953"
             ],
             [
              0.7777777777777778,
              "#fb9f3a"
             ],
             [
              0.8888888888888888,
              "#fdca26"
             ],
             [
              1,
              "#f0f921"
             ]
            ],
            "type": "heatmap"
           }
          ],
          "heatmapgl": [
           {
            "colorbar": {
             "outlinewidth": 0,
             "ticks": ""
            },
            "colorscale": [
             [
              0,
              "#0d0887"
             ],
             [
              0.1111111111111111,
              "#46039f"
             ],
             [
              0.2222222222222222,
              "#7201a8"
             ],
             [
              0.3333333333333333,
              "#9c179e"
             ],
             [
              0.4444444444444444,
              "#bd3786"
             ],
             [
              0.5555555555555556,
              "#d8576b"
             ],
             [
              0.6666666666666666,
              "#ed7953"
             ],
             [
              0.7777777777777778,
              "#fb9f3a"
             ],
             [
              0.8888888888888888,
              "#fdca26"
             ],
             [
              1,
              "#f0f921"
             ]
            ],
            "type": "heatmapgl"
           }
          ],
          "histogram": [
           {
            "marker": {
             "pattern": {
              "fillmode": "overlay",
              "size": 10,
              "solidity": 0.2
             }
            },
            "type": "histogram"
           }
          ],
          "histogram2d": [
           {
            "colorbar": {
             "outlinewidth": 0,
             "ticks": ""
            },
            "colorscale": [
             [
              0,
              "#0d0887"
             ],
             [
              0.1111111111111111,
              "#46039f"
             ],
             [
              0.2222222222222222,
              "#7201a8"
             ],
             [
              0.3333333333333333,
              "#9c179e"
             ],
             [
              0.4444444444444444,
              "#bd3786"
             ],
             [
              0.5555555555555556,
              "#d8576b"
             ],
             [
              0.6666666666666666,
              "#ed7953"
             ],
             [
              0.7777777777777778,
              "#fb9f3a"
             ],
             [
              0.8888888888888888,
              "#fdca26"
             ],
             [
              1,
              "#f0f921"
             ]
            ],
            "type": "histogram2d"
           }
          ],
          "histogram2dcontour": [
           {
            "colorbar": {
             "outlinewidth": 0,
             "ticks": ""
            },
            "colorscale": [
             [
              0,
              "#0d0887"
             ],
             [
              0.1111111111111111,
              "#46039f"
             ],
             [
              0.2222222222222222,
              "#7201a8"
             ],
             [
              0.3333333333333333,
              "#9c179e"
             ],
             [
              0.4444444444444444,
              "#bd3786"
             ],
             [
              0.5555555555555556,
              "#d8576b"
             ],
             [
              0.6666666666666666,
              "#ed7953"
             ],
             [
              0.7777777777777778,
              "#fb9f3a"
             ],
             [
              0.8888888888888888,
              "#fdca26"
             ],
             [
              1,
              "#f0f921"
             ]
            ],
            "type": "histogram2dcontour"
           }
          ],
          "mesh3d": [
           {
            "colorbar": {
             "outlinewidth": 0,
             "ticks": ""
            },
            "type": "mesh3d"
           }
          ],
          "parcoords": [
           {
            "line": {
             "colorbar": {
              "outlinewidth": 0,
              "ticks": ""
             }
            },
            "type": "parcoords"
           }
          ],
          "pie": [
           {
            "automargin": true,
            "type": "pie"
           }
          ],
          "scatter": [
           {
            "fillpattern": {
             "fillmode": "overlay",
             "size": 10,
             "solidity": 0.2
            },
            "type": "scatter"
           }
          ],
          "scatter3d": [
           {
            "line": {
             "colorbar": {
              "outlinewidth": 0,
              "ticks": ""
             }
            },
            "marker": {
             "colorbar": {
              "outlinewidth": 0,
              "ticks": ""
             }
            },
            "type": "scatter3d"
           }
          ],
          "scattercarpet": [
           {
            "marker": {
             "colorbar": {
              "outlinewidth": 0,
              "ticks": ""
             }
            },
            "type": "scattercarpet"
           }
          ],
          "scattergeo": [
           {
            "marker": {
             "colorbar": {
              "outlinewidth": 0,
              "ticks": ""
             }
            },
            "type": "scattergeo"
           }
          ],
          "scattergl": [
           {
            "marker": {
             "colorbar": {
              "outlinewidth": 0,
              "ticks": ""
             }
            },
            "type": "scattergl"
           }
          ],
          "scattermapbox": [
           {
            "marker": {
             "colorbar": {
              "outlinewidth": 0,
              "ticks": ""
             }
            },
            "type": "scattermapbox"
           }
          ],
          "scatterpolar": [
           {
            "marker": {
             "colorbar": {
              "outlinewidth": 0,
              "ticks": ""
             }
            },
            "type": "scatterpolar"
           }
          ],
          "scatterpolargl": [
           {
            "marker": {
             "colorbar": {
              "outlinewidth": 0,
              "ticks": ""
             }
            },
            "type": "scatterpolargl"
           }
          ],
          "scatterternary": [
           {
            "marker": {
             "colorbar": {
              "outlinewidth": 0,
              "ticks": ""
             }
            },
            "type": "scatterternary"
           }
          ],
          "surface": [
           {
            "colorbar": {
             "outlinewidth": 0,
             "ticks": ""
            },
            "colorscale": [
             [
              0,
              "#0d0887"
             ],
             [
              0.1111111111111111,
              "#46039f"
             ],
             [
              0.2222222222222222,
              "#7201a8"
             ],
             [
              0.3333333333333333,
              "#9c179e"
             ],
             [
              0.4444444444444444,
              "#bd3786"
             ],
             [
              0.5555555555555556,
              "#d8576b"
             ],
             [
              0.6666666666666666,
              "#ed7953"
             ],
             [
              0.7777777777777778,
              "#fb9f3a"
             ],
             [
              0.8888888888888888,
              "#fdca26"
             ],
             [
              1,
              "#f0f921"
             ]
            ],
            "type": "surface"
           }
          ],
          "table": [
           {
            "cells": {
             "fill": {
              "color": "#EBF0F8"
             },
             "line": {
              "color": "white"
             }
            },
            "header": {
             "fill": {
              "color": "#C8D4E3"
             },
             "line": {
              "color": "white"
             }
            },
            "type": "table"
           }
          ]
         },
         "layout": {
          "annotationdefaults": {
           "arrowcolor": "#2a3f5f",
           "arrowhead": 0,
           "arrowwidth": 1
          },
          "autotypenumbers": "strict",
          "coloraxis": {
           "colorbar": {
            "outlinewidth": 0,
            "ticks": ""
           }
          },
          "colorscale": {
           "diverging": [
            [
             0,
             "#8e0152"
            ],
            [
             0.1,
             "#c51b7d"
            ],
            [
             0.2,
             "#de77ae"
            ],
            [
             0.3,
             "#f1b6da"
            ],
            [
             0.4,
             "#fde0ef"
            ],
            [
             0.5,
             "#f7f7f7"
            ],
            [
             0.6,
             "#e6f5d0"
            ],
            [
             0.7,
             "#b8e186"
            ],
            [
             0.8,
             "#7fbc41"
            ],
            [
             0.9,
             "#4d9221"
            ],
            [
             1,
             "#276419"
            ]
           ],
           "sequential": [
            [
             0,
             "#0d0887"
            ],
            [
             0.1111111111111111,
             "#46039f"
            ],
            [
             0.2222222222222222,
             "#7201a8"
            ],
            [
             0.3333333333333333,
             "#9c179e"
            ],
            [
             0.4444444444444444,
             "#bd3786"
            ],
            [
             0.5555555555555556,
             "#d8576b"
            ],
            [
             0.6666666666666666,
             "#ed7953"
            ],
            [
             0.7777777777777778,
             "#fb9f3a"
            ],
            [
             0.8888888888888888,
             "#fdca26"
            ],
            [
             1,
             "#f0f921"
            ]
           ],
           "sequentialminus": [
            [
             0,
             "#0d0887"
            ],
            [
             0.1111111111111111,
             "#46039f"
            ],
            [
             0.2222222222222222,
             "#7201a8"
            ],
            [
             0.3333333333333333,
             "#9c179e"
            ],
            [
             0.4444444444444444,
             "#bd3786"
            ],
            [
             0.5555555555555556,
             "#d8576b"
            ],
            [
             0.6666666666666666,
             "#ed7953"
            ],
            [
             0.7777777777777778,
             "#fb9f3a"
            ],
            [
             0.8888888888888888,
             "#fdca26"
            ],
            [
             1,
             "#f0f921"
            ]
           ]
          },
          "colorway": [
           "#636efa",
           "#EF553B",
           "#00cc96",
           "#ab63fa",
           "#FFA15A",
           "#19d3f3",
           "#FF6692",
           "#B6E880",
           "#FF97FF",
           "#FECB52"
          ],
          "font": {
           "color": "#2a3f5f"
          },
          "geo": {
           "bgcolor": "white",
           "lakecolor": "white",
           "landcolor": "#E5ECF6",
           "showlakes": true,
           "showland": true,
           "subunitcolor": "white"
          },
          "hoverlabel": {
           "align": "left"
          },
          "hovermode": "closest",
          "mapbox": {
           "style": "light"
          },
          "paper_bgcolor": "white",
          "plot_bgcolor": "#E5ECF6",
          "polar": {
           "angularaxis": {
            "gridcolor": "white",
            "linecolor": "white",
            "ticks": ""
           },
           "bgcolor": "#E5ECF6",
           "radialaxis": {
            "gridcolor": "white",
            "linecolor": "white",
            "ticks": ""
           }
          },
          "scene": {
           "xaxis": {
            "backgroundcolor": "#E5ECF6",
            "gridcolor": "white",
            "gridwidth": 2,
            "linecolor": "white",
            "showbackground": true,
            "ticks": "",
            "zerolinecolor": "white"
           },
           "yaxis": {
            "backgroundcolor": "#E5ECF6",
            "gridcolor": "white",
            "gridwidth": 2,
            "linecolor": "white",
            "showbackground": true,
            "ticks": "",
            "zerolinecolor": "white"
           },
           "zaxis": {
            "backgroundcolor": "#E5ECF6",
            "gridcolor": "white",
            "gridwidth": 2,
            "linecolor": "white",
            "showbackground": true,
            "ticks": "",
            "zerolinecolor": "white"
           }
          },
          "shapedefaults": {
           "line": {
            "color": "#2a3f5f"
           }
          },
          "ternary": {
           "aaxis": {
            "gridcolor": "white",
            "linecolor": "white",
            "ticks": ""
           },
           "baxis": {
            "gridcolor": "white",
            "linecolor": "white",
            "ticks": ""
           },
           "bgcolor": "#E5ECF6",
           "caxis": {
            "gridcolor": "white",
            "linecolor": "white",
            "ticks": ""
           }
          },
          "title": {
           "x": 0.05
          },
          "xaxis": {
           "automargin": true,
           "gridcolor": "white",
           "linecolor": "white",
           "ticks": "",
           "title": {
            "standoff": 15
           },
           "zerolinecolor": "white",
           "zerolinewidth": 2
          },
          "yaxis": {
           "automargin": true,
           "gridcolor": "white",
           "linecolor": "white",
           "ticks": "",
           "title": {
            "standoff": 15
           },
           "zerolinecolor": "white",
           "zerolinewidth": 2
          }
         }
        },
        "width": 1000,
        "xaxis": {
         "anchor": "y",
         "autorange": true,
         "domain": [
          0,
          0.31999999999999995
         ],
         "range": [
          19999.5,
          114999.5
         ],
         "title": {
          "text": "Median"
         },
         "type": "linear"
        },
        "xaxis10": {
         "anchor": "y10",
         "autorange": true,
         "domain": [
          0,
          0.31999999999999995
         ],
         "matches": "x",
         "range": [
          19999.5,
          114999.5
         ],
         "showticklabels": false,
         "type": "linear"
        },
        "xaxis11": {
         "anchor": "y11",
         "autorange": true,
         "domain": [
          0.33999999999999997,
          0.6599999999999999
         ],
         "matches": "x",
         "range": [
          19999.5,
          114999.5
         ],
         "showticklabels": false,
         "type": "linear"
        },
        "xaxis12": {
         "anchor": "y12",
         "autorange": true,
         "domain": [
          0.6799999999999999,
          0.9999999999999999
         ],
         "matches": "x",
         "range": [
          19999.5,
          114999.5
         ],
         "showticklabels": false,
         "type": "linear"
        },
        "xaxis13": {
         "anchor": "y13",
         "autorange": true,
         "domain": [
          0,
          0.31999999999999995
         ],
         "matches": "x",
         "range": [
          19999.5,
          114999.5
         ],
         "showticklabels": false,
         "type": "linear"
        },
        "xaxis14": {
         "anchor": "y14",
         "autorange": true,
         "domain": [
          0.33999999999999997,
          0.6599999999999999
         ],
         "matches": "x",
         "range": [
          19999.5,
          114999.5
         ],
         "showticklabels": false,
         "type": "linear"
        },
        "xaxis15": {
         "anchor": "y15",
         "autorange": true,
         "domain": [
          0.6799999999999999,
          0.9999999999999999
         ],
         "matches": "x",
         "range": [
          19999.5,
          114999.5
         ],
         "showticklabels": false,
         "type": "linear"
        },
        "xaxis16": {
         "anchor": "y16",
         "autorange": true,
         "domain": [
          0,
          0.31999999999999995
         ],
         "matches": "x",
         "range": [
          19999.5,
          114999.5
         ],
         "showticklabels": false,
         "type": "linear"
        },
        "xaxis17": {
         "anchor": "y17",
         "autorange": true,
         "domain": [
          0.33999999999999997,
          0.6599999999999999
         ],
         "matches": "x",
         "range": [
          19999.5,
          114999.5
         ],
         "showticklabels": false,
         "type": "linear"
        },
        "xaxis18": {
         "anchor": "y18",
         "autorange": true,
         "domain": [
          0.6799999999999999,
          0.9999999999999999
         ],
         "matches": "x",
         "range": [
          19999.5,
          114999.5
         ],
         "showticklabels": false,
         "type": "linear"
        },
        "xaxis2": {
         "anchor": "y2",
         "domain": [
          0.33999999999999997,
          0.6599999999999999
         ],
         "matches": "x",
         "title": {
          "text": "Median"
         }
        },
        "xaxis3": {
         "anchor": "y3",
         "domain": [
          0.6799999999999999,
          0.9999999999999999
         ],
         "matches": "x",
         "title": {
          "text": "Median"
         }
        },
        "xaxis4": {
         "anchor": "y4",
         "autorange": true,
         "domain": [
          0,
          0.31999999999999995
         ],
         "matches": "x",
         "range": [
          19999.5,
          114999.5
         ],
         "showticklabels": false,
         "type": "linear"
        },
        "xaxis5": {
         "anchor": "y5",
         "autorange": true,
         "domain": [
          0.33999999999999997,
          0.6599999999999999
         ],
         "matches": "x",
         "range": [
          19999.5,
          114999.5
         ],
         "showticklabels": false,
         "type": "linear"
        },
        "xaxis6": {
         "anchor": "y6",
         "autorange": true,
         "domain": [
          0.6799999999999999,
          0.9999999999999999
         ],
         "matches": "x",
         "range": [
          19999.5,
          114999.5
         ],
         "showticklabels": false,
         "type": "linear"
        },
        "xaxis7": {
         "anchor": "y7",
         "autorange": true,
         "domain": [
          0,
          0.31999999999999995
         ],
         "matches": "x",
         "range": [
          19999.5,
          114999.5
         ],
         "showticklabels": false,
         "type": "linear"
        },
        "xaxis8": {
         "anchor": "y8",
         "autorange": true,
         "domain": [
          0.33999999999999997,
          0.6599999999999999
         ],
         "matches": "x",
         "range": [
          19999.5,
          114999.5
         ],
         "showticklabels": false,
         "type": "linear"
        },
        "xaxis9": {
         "anchor": "y9",
         "autorange": true,
         "domain": [
          0.6799999999999999,
          0.9999999999999999
         ],
         "matches": "x",
         "range": [
          19999.5,
          114999.5
         ],
         "showticklabels": false,
         "type": "linear"
        },
        "yaxis": {
         "anchor": "x",
         "autorange": true,
         "domain": [
          0,
          0.10833333333333331
         ],
         "range": [
          0,
          12.631578947368421
         ],
         "title": {
          "text": "count"
         }
        },
        "yaxis10": {
         "anchor": "x10",
         "autorange": true,
         "domain": [
          0.5349999999999999,
          0.6433333333333332
         ],
         "matches": "y",
         "range": [
          0,
          12.631578947368421
         ],
         "title": {
          "text": "count"
         }
        },
        "yaxis11": {
         "anchor": "x11",
         "autorange": true,
         "domain": [
          0.5349999999999999,
          0.6433333333333332
         ],
         "matches": "y",
         "range": [
          0,
          12.631578947368421
         ],
         "showticklabels": false
        },
        "yaxis12": {
         "anchor": "x12",
         "autorange": true,
         "domain": [
          0.5349999999999999,
          0.6433333333333332
         ],
         "matches": "y",
         "range": [
          0,
          12.631578947368421
         ],
         "showticklabels": false
        },
        "yaxis13": {
         "anchor": "x13",
         "autorange": true,
         "domain": [
          0.7133333333333333,
          0.8216666666666665
         ],
         "matches": "y",
         "range": [
          0,
          12.631578947368421
         ],
         "title": {
          "text": "count"
         }
        },
        "yaxis14": {
         "anchor": "x14",
         "autorange": true,
         "domain": [
          0.7133333333333333,
          0.8216666666666665
         ],
         "matches": "y",
         "range": [
          0,
          12.631578947368421
         ],
         "showticklabels": false
        },
        "yaxis15": {
         "anchor": "x15",
         "autorange": true,
         "domain": [
          0.7133333333333333,
          0.8216666666666665
         ],
         "matches": "y",
         "range": [
          0,
          12.631578947368421
         ],
         "showticklabels": false
        },
        "yaxis16": {
         "anchor": "x16",
         "autorange": true,
         "domain": [
          0.8916666666666666,
          0.9999999999999999
         ],
         "matches": "y",
         "range": [
          0,
          12.631578947368421
         ],
         "title": {
          "text": "count"
         }
        },
        "yaxis17": {
         "anchor": "x17",
         "autorange": true,
         "domain": [
          0.8916666666666666,
          0.9999999999999999
         ],
         "matches": "y",
         "range": [
          0,
          12.631578947368421
         ],
         "showticklabels": false
        },
        "yaxis18": {
         "anchor": "x18",
         "autorange": true,
         "domain": [
          0.8916666666666666,
          0.9999999999999999
         ],
         "matches": "y",
         "range": [
          0,
          12.631578947368421
         ],
         "showticklabels": false
        },
        "yaxis2": {
         "anchor": "x2",
         "domain": [
          0,
          0.10833333333333331
         ],
         "matches": "y",
         "showticklabels": false
        },
        "yaxis3": {
         "anchor": "x3",
         "domain": [
          0,
          0.10833333333333331
         ],
         "matches": "y",
         "showticklabels": false
        },
        "yaxis4": {
         "anchor": "x4",
         "autorange": true,
         "domain": [
          0.17833333333333332,
          0.2866666666666666
         ],
         "matches": "y",
         "range": [
          0,
          12.631578947368421
         ],
         "title": {
          "text": "count"
         }
        },
        "yaxis5": {
         "anchor": "x5",
         "autorange": true,
         "domain": [
          0.17833333333333332,
          0.2866666666666666
         ],
         "matches": "y",
         "range": [
          0,
          12.631578947368421
         ],
         "showticklabels": false
        },
        "yaxis6": {
         "anchor": "x6",
         "autorange": true,
         "domain": [
          0.17833333333333332,
          0.2866666666666666
         ],
         "matches": "y",
         "range": [
          0,
          12.631578947368421
         ],
         "showticklabels": false
        },
        "yaxis7": {
         "anchor": "x7",
         "autorange": true,
         "domain": [
          0.35666666666666663,
          0.46499999999999997
         ],
         "matches": "y",
         "range": [
          0,
          12.631578947368421
         ],
         "title": {
          "text": "count"
         }
        },
        "yaxis8": {
         "anchor": "x8",
         "autorange": true,
         "domain": [
          0.35666666666666663,
          0.46499999999999997
         ],
         "matches": "y",
         "range": [
          0,
          12.631578947368421
         ],
         "showticklabels": false
        },
        "yaxis9": {
         "anchor": "x9",
         "autorange": true,
         "domain": [
          0.35666666666666663,
          0.46499999999999997
         ],
         "matches": "y",
         "range": [
          0,
          12.631578947368421
         ],
         "showticklabels": false
        }
       }
      },
      "image/png": "[encoded data removed]",
      "text/html": [
       "<div>                            <div id=\"3c2cf232-08a1-41b9-81ad-14773aa2852c\" class=\"plotly-graph-div\" style=\"height:1600px; width:1000px;\"></div>            <script type=\"text/javascript\">                require([\"plotly\"], function(Plotly) {                    window.PLOTLYENV=window.PLOTLYENV || {};                                    if (document.getElementById(\"3c2cf232-08a1-41b9-81ad-14773aa2852c\")) {                    Plotly.newPlot(                        \"3c2cf232-08a1-41b9-81ad-14773aa2852c\",                        [{\"alignmentgroup\":\"True\",\"bingroup\":\"x\",\"hovertemplate\":\"Major_category=Engineering\\u003cbr\\u003eMedian=%{x}\\u003cbr\\u003ecount=%{y}\\u003cextra\\u003e\\u003c\\u002fextra\\u003e\",\"legendgroup\":\"\",\"marker\":{\"color\":\"#636efa\",\"pattern\":{\"shape\":\"\"}},\"name\":\"\",\"nbinsx\":30,\"offsetgroup\":\"\",\"orientation\":\"v\",\"showlegend\":false,\"x\":[110000,75000,73000,70000,65000,65000,60000,60000,60000,60000,60000,60000,58000,57100,57000,56000,54000,52000,52000,50000,50000,50000,50000,50000,46000,44000,40000,40000,40000],\"xaxis\":\"x16\",\"yaxis\":\"y16\",\"type\":\"histogram\"},{\"alignmentgroup\":\"True\",\"bingroup\":\"x\",\"hovertemplate\":\"Major_category=Business\\u003cbr\\u003eMedian=%{x}\\u003cbr\\u003ecount=%{y}\\u003cextra\\u003e\\u003c\\u002fextra\\u003e\",\"legendgroup\":\"\",\"marker\":{\"color\":\"#636efa\",\"pattern\":{\"shape\":\"\"}},\"name\":\"\",\"nbinsx\":30,\"offsetgroup\":\"\",\"orientation\":\"v\",\"showlegend\":false,\"x\":[62000,51000,50000,47000,46000,45000,40000,40000,40000,38000,38000,36000,33000],\"xaxis\":\"x17\",\"yaxis\":\"y17\",\"type\":\"histogram\"},{\"alignmentgroup\":\"True\",\"bingroup\":\"x\",\"hovertemplate\":\"Major_category=Physical Sciences\\u003cbr\\u003eMedian=%{x}\\u003cbr\\u003ecount=%{y}\\u003cextra\\u003e\\u003c\\u002fextra\\u003e\",\"legendgroup\":\"\",\"marker\":{\"color\":\"#636efa\",\"pattern\":{\"shape\":\"\"}},\"name\":\"\",\"nbinsx\":30,\"offsetgroup\":\"\",\"orientation\":\"v\",\"showlegend\":false,\"x\":[62000,46000,45000,44700,40000,39000,36200,36000,35000,35000],\"xaxis\":\"x18\",\"yaxis\":\"y18\",\"type\":\"histogram\"},{\"alignmentgroup\":\"True\",\"bingroup\":\"x\",\"hovertemplate\":\"Major_category=Law & Public Policy\\u003cbr\\u003eMedian=%{x}\\u003cbr\\u003ecount=%{y}\\u003cextra\\u003e\\u003c\\u002fextra\\u003e\",\"legendgroup\":\"\",\"marker\":{\"color\":\"#636efa\",\"pattern\":{\"shape\":\"\"}},\"name\":\"\",\"nbinsx\":30,\"offsetgroup\":\"\",\"orientation\":\"v\",\"showlegend\":false,\"x\":[54000,50000,36000,36000,35000],\"xaxis\":\"x13\",\"yaxis\":\"y13\",\"type\":\"histogram\"},{\"alignmentgroup\":\"True\",\"bingroup\":\"x\",\"hovertemplate\":\"Major_category=Computers & Mathematics\\u003cbr\\u003eMedian=%{x}\\u003cbr\\u003ecount=%{y}\\u003cextra\\u003e\\u003c\\u002fextra\\u003e\",\"legendgroup\":\"\",\"marker\":{\"color\":\"#636efa\",\"pattern\":{\"shape\":\"\"}},\"name\":\"\",\"nbinsx\":30,\"offsetgroup\":\"\",\"orientation\":\"v\",\"showlegend\":false,\"x\":[53000,45000,45000,45000,45000,45000,42000,41300,37500,36400,35000],\"xaxis\":\"x14\",\"yaxis\":\"y14\",\"type\":\"histogram\"},{\"alignmentgroup\":\"True\",\"bingroup\":\"x\",\"hovertemplate\":\"Major_category=Agriculture & Natural Resources\\u003cbr\\u003eMedian=%{x}\\u003cbr\\u003ecount=%{y}\\u003cextra\\u003e\\u003c\\u002fextra\\u003e\",\"legendgroup\":\"\",\"marker\":{\"color\":\"#636efa\",\"pattern\":{\"shape\":\"\"}},\"name\":\"\",\"nbinsx\":30,\"offsetgroup\":\"\",\"orientation\":\"v\",\"showlegend\":false,\"x\":[53000,40000,40000,40000,35000,35000,35000,32000,30000,29000],\"xaxis\":\"x15\",\"yaxis\":\"y15\",\"type\":\"histogram\"},{\"alignmentgroup\":\"True\",\"bingroup\":\"x\",\"hovertemplate\":\"Major_category=Industrial Arts & Consumer Services\\u003cbr\\u003eMedian=%{x}\\u003cbr\\u003ecount=%{y}\\u003cextra\\u003e\\u003c\\u002fextra\\u003e\",\"legendgroup\":\"\",\"marker\":{\"color\":\"#636efa\",\"pattern\":{\"shape\":\"\"}},\"name\":\"\",\"nbinsx\":30,\"offsetgroup\":\"\",\"orientation\":\"v\",\"showlegend\":false,\"x\":[50000,40000,38400,35000,32000,30000,29000],\"xaxis\":\"x10\",\"yaxis\":\"y10\",\"type\":\"histogram\"},{\"alignmentgroup\":\"True\",\"bingroup\":\"x\",\"hovertemplate\":\"Major_category=Arts\\u003cbr\\u003eMedian=%{x}\\u003cbr\\u003ecount=%{y}\\u003cextra\\u003e\\u003c\\u002fextra\\u003e\",\"legendgroup\":\"\",\"marker\":{\"color\":\"#636efa\",\"pattern\":{\"shape\":\"\"}},\"name\":\"\",\"nbinsx\":30,\"offsetgroup\":\"\",\"orientation\":\"v\",\"showlegend\":false,\"x\":[50000,35000,32000,31000,30500,30000,29000,27000],\"xaxis\":\"x11\",\"yaxis\":\"y11\",\"type\":\"histogram\"},{\"alignmentgroup\":\"True\",\"bingroup\":\"x\",\"hovertemplate\":\"Major_category=Health\\u003cbr\\u003eMedian=%{x}\\u003cbr\\u003ecount=%{y}\\u003cextra\\u003e\\u003c\\u002fextra\\u003e\",\"legendgroup\":\"\",\"marker\":{\"color\":\"#636efa\",\"pattern\":{\"shape\":\"\"}},\"name\":\"\",\"nbinsx\":30,\"offsetgroup\":\"\",\"orientation\":\"v\",\"showlegend\":false,\"x\":[48000,45000,42000,40000,36000,35000,35000,34000,33500,33000,32400,28000],\"xaxis\":\"x12\",\"yaxis\":\"y12\",\"type\":\"histogram\"},{\"alignmentgroup\":\"True\",\"bingroup\":\"x\",\"hovertemplate\":\"Major_category=Social Science\\u003cbr\\u003eMedian=%{x}\\u003cbr\\u003ecount=%{y}\\u003cextra\\u003e\\u003c\\u002fextra\\u003e\",\"legendgroup\":\"\",\"marker\":{\"color\":\"#636efa\",\"pattern\":{\"shape\":\"\"}},\"name\":\"\",\"nbinsx\":30,\"offsetgroup\":\"\",\"orientation\":\"v\",\"showlegend\":false,\"x\":[47000,40100,40000,38000,38000,35000,33000,33000,32000],\"xaxis\":\"x7\",\"yaxis\":\"y7\",\"type\":\"histogram\"},{\"alignmentgroup\":\"True\",\"bingroup\":\"x\",\"hovertemplate\":\"Major_category=Biology & Life Science\\u003cbr\\u003eMedian=%{x}\\u003cbr\\u003ecount=%{y}\\u003cextra\\u003e\\u003c\\u002fextra\\u003e\",\"legendgroup\":\"\",\"marker\":{\"color\":\"#636efa\",\"pattern\":{\"shape\":\"\"}},\"name\":\"\",\"nbinsx\":30,\"offsetgroup\":\"\",\"orientation\":\"v\",\"showlegend\":false,\"x\":[45000,41000,40000,40000,38000,37400,37000,35600,35000,35000,33500,33400,33000,26000],\"xaxis\":\"x8\",\"yaxis\":\"y8\",\"type\":\"histogram\"},{\"alignmentgroup\":\"True\",\"bingroup\":\"x\",\"hovertemplate\":\"Major_category=Education\\u003cbr\\u003eMedian=%{x}\\u003cbr\\u003ecount=%{y}\\u003cextra\\u003e\\u003c\\u002fextra\\u003e\",\"legendgroup\":\"\",\"marker\":{\"color\":\"#636efa\",\"pattern\":{\"shape\":\"\"}},\"name\":\"\",\"nbinsx\":30,\"offsetgroup\":\"\",\"orientation\":\"v\",\"showlegend\":false,\"x\":[41000,35000,34000,34000,34000,34000,33000,33000,32500,32100,32000,32000,31000,30000,28000,22000],\"xaxis\":\"x9\",\"yaxis\":\"y9\",\"type\":\"histogram\"},{\"alignmentgroup\":\"True\",\"bingroup\":\"x\",\"hovertemplate\":\"Major_category=Humanities & Liberal Arts\\u003cbr\\u003eMedian=%{x}\\u003cbr\\u003ecount=%{y}\\u003cextra\\u003e\\u003c\\u002fextra\\u003e\",\"legendgroup\":\"\",\"marker\":{\"color\":\"#636efa\",\"pattern\":{\"shape\":\"\"}},\"name\":\"\",\"nbinsx\":30,\"offsetgroup\":\"\",\"orientation\":\"v\",\"showlegend\":false,\"x\":[40000,35000,34000,34000,34000,33000,32200,32000,32000,31000,30000,29000,28000,27500,27000],\"xaxis\":\"x4\",\"yaxis\":\"y4\",\"type\":\"histogram\"},{\"alignmentgroup\":\"True\",\"bingroup\":\"x\",\"hovertemplate\":\"Major_category=Psychology & Social Work\\u003cbr\\u003eMedian=%{x}\\u003cbr\\u003ecount=%{y}\\u003cextra\\u003e\\u003c\\u002fextra\\u003e\",\"legendgroup\":\"\",\"marker\":{\"color\":\"#636efa\",\"pattern\":{\"shape\":\"\"}},\"name\":\"\",\"nbinsx\":30,\"offsetgroup\":\"\",\"orientation\":\"v\",\"showlegend\":false,\"x\":[40000,36000,31500,30000,30000,30000,25000,25000,23400],\"xaxis\":\"x5\",\"yaxis\":\"y5\",\"type\":\"histogram\"},{\"alignmentgroup\":\"True\",\"bingroup\":\"x\",\"hovertemplate\":\"Major_category=Communications & Journalism\\u003cbr\\u003eMedian=%{x}\\u003cbr\\u003ecount=%{y}\\u003cextra\\u003e\\u003c\\u002fextra\\u003e\",\"legendgroup\":\"\",\"marker\":{\"color\":\"#636efa\",\"pattern\":{\"shape\":\"\"}},\"name\":\"\",\"nbinsx\":30,\"offsetgroup\":\"\",\"orientation\":\"v\",\"showlegend\":false,\"x\":[35000,35000,35000,33000],\"xaxis\":\"x6\",\"yaxis\":\"y6\",\"type\":\"histogram\"},{\"alignmentgroup\":\"True\",\"bingroup\":\"x\",\"hovertemplate\":\"Major_category=Interdisciplinary\\u003cbr\\u003eMedian=%{x}\\u003cbr\\u003ecount=%{y}\\u003cextra\\u003e\\u003c\\u002fextra\\u003e\",\"legendgroup\":\"\",\"marker\":{\"color\":\"#636efa\",\"pattern\":{\"shape\":\"\"}},\"name\":\"\",\"nbinsx\":30,\"offsetgroup\":\"\",\"orientation\":\"v\",\"showlegend\":false,\"x\":[35000],\"xaxis\":\"x\",\"yaxis\":\"y\",\"type\":\"histogram\"}],                        {\"template\":{\"data\":{\"histogram2dcontour\":[{\"type\":\"histogram2dcontour\",\"colorbar\":{\"outlinewidth\":0,\"ticks\":\"\"},\"colorscale\":[[0.0,\"#0d0887\"],[0.1111111111111111,\"#46039f\"],[0.2222222222222222,\"#7201a8\"],[0.3333333333333333,\"#9c179e\"],[0.4444444444444444,\"#bd3786\"],[0.5555555555555556,\"#d8576b\"],[0.6666666666666666,\"#ed7953\"],[0.7777777777777778,\"#fb9f3a\"],[0.8888888888888888,\"#fdca26\"],[1.0,\"#f0f921\"]]}],\"choropleth\":[{\"type\":\"choropleth\",\"colorbar\":{\"outlinewidth\":0,\"ticks\":\"\"}}],\"histogram2d\":[{\"type\":\"histogram2d\",\"colorbar\":{\"outlinewidth\":0,\"ticks\":\"\"},\"colorscale\":[[0.0,\"#0d0887\"],[0.1111111111111111,\"#46039f\"],[0.2222222222222222,\"#7201a8\"],[0.3333333333333333,\"#9c179e\"],[0.4444444444444444,\"#bd3786\"],[0.5555555555555556,\"#d8576b\"],[0.6666666666666666,\"#ed7953\"],[0.7777777777777778,\"#fb9f3a\"],[0.8888888888888888,\"#fdca26\"],[1.0,\"#f0f921\"]]}],\"heatmap\":[{\"type\":\"heatmap\",\"colorbar\":{\"outlinewidth\":0,\"ticks\":\"\"},\"colorscale\":[[0.0,\"#0d0887\"],[0.1111111111111111,\"#46039f\"],[0.2222222222222222,\"#7201a8\"],[0.3333333333333333,\"#9c179e\"],[0.4444444444444444,\"#bd3786\"],[0.5555555555555556,\"#d8576b\"],[0.6666666666666666,\"#ed7953\"],[0.7777777777777778,\"#fb9f3a\"],[0.8888888888888888,\"#fdca26\"],[1.0,\"#f0f921\"]]}],\"heatmapgl\":[{\"type\":\"heatmapgl\",\"colorbar\":{\"outlinewidth\":0,\"ticks\":\"\"},\"colorscale\":[[0.0,\"#0d0887\"],[0.1111111111111111,\"#46039f\"],[0.2222222222222222,\"#7201a8\"],[0.3333333333333333,\"#9c179e\"],[0.4444444444444444,\"#bd3786\"],[0.5555555555555556,\"#d8576b\"],[0.6666666666666666,\"#ed7953\"],[0.7777777777777778,\"#fb9f3a\"],[0.8888888888888888,\"#fdca26\"],[1.0,\"#f0f921\"]]}],\"contourcarpet\":[{\"type\":\"contourcarpet\",\"colorbar\":{\"outlinewidth\":0,\"ticks\":\"\"}}],\"contour\":[{\"type\":\"contour\",\"colorbar\":{\"outlinewidth\":0,\"ticks\":\"\"},\"colorscale\":[[0.0,\"#0d0887\"],[0.1111111111111111,\"#46039f\"],[0.2222222222222222,\"#7201a8\"],[0.3333333333333333,\"#9c179e\"],[0.4444444444444444,\"#bd3786\"],[0.5555555555555556,\"#d8576b\"],[0.6666666666666666,\"#ed7953\"],[0.7777777777777778,\"#fb9f3a\"],[0.8888888888888888,\"#fdca26\"],[1.0,\"#f0f921\"]]}],\"surface\":[{\"type\":\"surface\",\"colorbar\":{\"outlinewidth\":0,\"ticks\":\"\"},\"colorscale\":[[0.0,\"#0d0887\"],[0.1111111111111111,\"#46039f\"],[0.2222222222222222,\"#7201a8\"],[0.3333333333333333,\"#9c179e\"],[0.4444444444444444,\"#bd3786\"],[0.5555555555555556,\"#d8576b\"],[0.6666666666666666,\"#ed7953\"],[0.7777777777777778,\"#fb9f3a\"],[0.8888888888888888,\"#fdca26\"],[1.0,\"#f0f921\"]]}],\"mesh3d\":[{\"type\":\"mesh3d\",\"colorbar\":{\"outlinewidth\":0,\"ticks\":\"\"}}],\"scatter\":[{\"fillpattern\":{\"fillmode\":\"overlay\",\"size\":10,\"solidity\":0.2},\"type\":\"scatter\"}],\"parcoords\":[{\"type\":\"parcoords\",\"line\":{\"colorbar\":{\"outlinewidth\":0,\"ticks\":\"\"}}}],\"scatterpolargl\":[{\"type\":\"scatterpolargl\",\"marker\":{\"colorbar\":{\"outlinewidth\":0,\"ticks\":\"\"}}}],\"bar\":[{\"error_x\":{\"color\":\"#2a3f5f\"},\"error_y\":{\"color\":\"#2a3f5f\"},\"marker\":{\"line\":{\"color\":\"#E5ECF6\",\"width\":0.5},\"pattern\":{\"fillmode\":\"overlay\",\"size\":10,\"solidity\":0.2}},\"type\":\"bar\"}],\"scattergeo\":[{\"type\":\"scattergeo\",\"marker\":{\"colorbar\":{\"outlinewidth\":0,\"ticks\":\"\"}}}],\"scatterpolar\":[{\"type\":\"scatterpolar\",\"marker\":{\"colorbar\":{\"outlinewidth\":0,\"ticks\":\"\"}}}],\"histogram\":[{\"marker\":{\"pattern\":{\"fillmode\":\"overlay\",\"size\":10,\"solidity\":0.2}},\"type\":\"histogram\"}],\"scattergl\":[{\"type\":\"scattergl\",\"marker\":{\"colorbar\":{\"outlinewidth\":0,\"ticks\":\"\"}}}],\"scatter3d\":[{\"type\":\"scatter3d\",\"line\":{\"colorbar\":{\"outlinewidth\":0,\"ticks\":\"\"}},\"marker\":{\"colorbar\":{\"outlinewidth\":0,\"ticks\":\"\"}}}],\"scattermapbox\":[{\"type\":\"scattermapbox\",\"marker\":{\"colorbar\":{\"outlinewidth\":0,\"ticks\":\"\"}}}],\"scatterternary\":[{\"type\":\"scatterternary\",\"marker\":{\"colorbar\":{\"outlinewidth\":0,\"ticks\":\"\"}}}],\"scattercarpet\":[{\"type\":\"scattercarpet\",\"marker\":{\"colorbar\":{\"outlinewidth\":0,\"ticks\":\"\"}}}],\"carpet\":[{\"aaxis\":{\"endlinecolor\":\"#2a3f5f\",\"gridcolor\":\"white\",\"linecolor\":\"white\",\"minorgridcolor\":\"white\",\"startlinecolor\":\"#2a3f5f\"},\"baxis\":{\"endlinecolor\":\"#2a3f5f\",\"gridcolor\":\"white\",\"linecolor\":\"white\",\"minorgridcolor\":\"white\",\"startlinecolor\":\"#2a3f5f\"},\"type\":\"carpet\"}],\"table\":[{\"cells\":{\"fill\":{\"color\":\"#EBF0F8\"},\"line\":{\"color\":\"white\"}},\"header\":{\"fill\":{\"color\":\"#C8D4E3\"},\"line\":{\"color\":\"white\"}},\"type\":\"table\"}],\"barpolar\":[{\"marker\":{\"line\":{\"color\":\"#E5ECF6\",\"width\":0.5},\"pattern\":{\"fillmode\":\"overlay\",\"size\":10,\"solidity\":0.2}},\"type\":\"barpolar\"}],\"pie\":[{\"automargin\":true,\"type\":\"pie\"}]},\"layout\":{\"autotypenumbers\":\"strict\",\"colorway\":[\"#636efa\",\"#EF553B\",\"#00cc96\",\"#ab63fa\",\"#FFA15A\",\"#19d3f3\",\"#FF6692\",\"#B6E880\",\"#FF97FF\",\"#FECB52\"],\"font\":{\"color\":\"#2a3f5f\"},\"hovermode\":\"closest\",\"hoverlabel\":{\"align\":\"left\"},\"paper_bgcolor\":\"white\",\"plot_bgcolor\":\"#E5ECF6\",\"polar\":{\"bgcolor\":\"#E5ECF6\",\"angularaxis\":{\"gridcolor\":\"white\",\"linecolor\":\"white\",\"ticks\":\"\"},\"radialaxis\":{\"gridcolor\":\"white\",\"linecolor\":\"white\",\"ticks\":\"\"}},\"ternary\":{\"bgcolor\":\"#E5ECF6\",\"aaxis\":{\"gridcolor\":\"white\",\"linecolor\":\"white\",\"ticks\":\"\"},\"baxis\":{\"gridcolor\":\"white\",\"linecolor\":\"white\",\"ticks\":\"\"},\"caxis\":{\"gridcolor\":\"white\",\"linecolor\":\"white\",\"ticks\":\"\"}},\"coloraxis\":{\"colorbar\":{\"outlinewidth\":0,\"ticks\":\"\"}},\"colorscale\":{\"sequential\":[[0.0,\"#0d0887\"],[0.1111111111111111,\"#46039f\"],[0.2222222222222222,\"#7201a8\"],[0.3333333333333333,\"#9c179e\"],[0.4444444444444444,\"#bd3786\"],[0.5555555555555556,\"#d8576b\"],[0.6666666666666666,\"#ed7953\"],[0.7777777777777778,\"#fb9f3a\"],[0.8888888888888888,\"#fdca26\"],[1.0,\"#f0f921\"]],\"sequentialminus\":[[0.0,\"#0d0887\"],[0.1111111111111111,\"#46039f\"],[0.2222222222222222,\"#7201a8\"],[0.3333333333333333,\"#9c179e\"],[0.4444444444444444,\"#bd3786\"],[0.5555555555555556,\"#d8576b\"],[0.6666666666666666,\"#ed7953\"],[0.7777777777777778,\"#fb9f3a\"],[0.8888888888888888,\"#fdca26\"],[1.0,\"#f0f921\"]],\"diverging\":[[0,\"#8e0152\"],[0.1,\"#c51b7d\"],[0.2,\"#de77ae\"],[0.3,\"#f1b6da\"],[0.4,\"#fde0ef\"],[0.5,\"#f7f7f7\"],[0.6,\"#e6f5d0\"],[0.7,\"#b8e186\"],[0.8,\"#7fbc41\"],[0.9,\"#4d9221\"],[1,\"#276419\"]]},\"xaxis\":{\"gridcolor\":\"white\",\"linecolor\":\"white\",\"ticks\":\"\",\"title\":{\"standoff\":15},\"zerolinecolor\":\"white\",\"automargin\":true,\"zerolinewidth\":2},\"yaxis\":{\"gridcolor\":\"white\",\"linecolor\":\"white\",\"ticks\":\"\",\"title\":{\"standoff\":15},\"zerolinecolor\":\"white\",\"automargin\":true,\"zerolinewidth\":2},\"scene\":{\"xaxis\":{\"backgroundcolor\":\"#E5ECF6\",\"gridcolor\":\"white\",\"linecolor\":\"white\",\"showbackground\":true,\"ticks\":\"\",\"zerolinecolor\":\"white\",\"gridwidth\":2},\"yaxis\":{\"backgroundcolor\":\"#E5ECF6\",\"gridcolor\":\"white\",\"linecolor\":\"white\",\"showbackground\":true,\"ticks\":\"\",\"zerolinecolor\":\"white\",\"gridwidth\":2},\"zaxis\":{\"backgroundcolor\":\"#E5ECF6\",\"gridcolor\":\"white\",\"linecolor\":\"white\",\"showbackground\":true,\"ticks\":\"\",\"zerolinecolor\":\"white\",\"gridwidth\":2}},\"shapedefaults\":{\"line\":{\"color\":\"#2a3f5f\"}},\"annotationdefaults\":{\"arrowcolor\":\"#2a3f5f\",\"arrowhead\":0,\"arrowwidth\":1},\"geo\":{\"bgcolor\":\"white\",\"landcolor\":\"#E5ECF6\",\"subunitcolor\":\"white\",\"showland\":true,\"showlakes\":true,\"lakecolor\":\"white\"},\"title\":{\"x\":0.05},\"mapbox\":{\"style\":\"light\"}}},\"xaxis\":{\"anchor\":\"y\",\"domain\":[0.0,0.31999999999999995],\"title\":{\"text\":\"Median\"}},\"yaxis\":{\"anchor\":\"x\",\"domain\":[0.0,0.10833333333333331],\"title\":{\"text\":\"count\"}},\"xaxis2\":{\"anchor\":\"y2\",\"domain\":[0.33999999999999997,0.6599999999999999],\"matches\":\"x\",\"title\":{\"text\":\"Median\"}},\"yaxis2\":{\"anchor\":\"x2\",\"domain\":[0.0,0.10833333333333331],\"matches\":\"y\",\"showticklabels\":false},\"xaxis3\":{\"anchor\":\"y3\",\"domain\":[0.6799999999999999,0.9999999999999999],\"matches\":\"x\",\"title\":{\"text\":\"Median\"}},\"yaxis3\":{\"anchor\":\"x3\",\"domain\":[0.0,0.10833333333333331],\"matches\":\"y\",\"showticklabels\":false},\"xaxis4\":{\"anchor\":\"y4\",\"domain\":[0.0,0.31999999999999995],\"matches\":\"x\",\"showticklabels\":false},\"yaxis4\":{\"anchor\":\"x4\",\"domain\":[0.17833333333333332,0.2866666666666666],\"matches\":\"y\",\"title\":{\"text\":\"count\"}},\"xaxis5\":{\"anchor\":\"y5\",\"domain\":[0.33999999999999997,0.6599999999999999],\"matches\":\"x\",\"showticklabels\":false},\"yaxis5\":{\"anchor\":\"x5\",\"domain\":[0.17833333333333332,0.2866666666666666],\"matches\":\"y\",\"showticklabels\":false},\"xaxis6\":{\"anchor\":\"y6\",\"domain\":[0.6799999999999999,0.9999999999999999],\"matches\":\"x\",\"showticklabels\":false},\"yaxis6\":{\"anchor\":\"x6\",\"domain\":[0.17833333333333332,0.2866666666666666],\"matches\":\"y\",\"showticklabels\":false},\"xaxis7\":{\"anchor\":\"y7\",\"domain\":[0.0,0.31999999999999995],\"matches\":\"x\",\"showticklabels\":false},\"yaxis7\":{\"anchor\":\"x7\",\"domain\":[0.35666666666666663,0.46499999999999997],\"matches\":\"y\",\"title\":{\"text\":\"count\"}},\"xaxis8\":{\"anchor\":\"y8\",\"domain\":[0.33999999999999997,0.6599999999999999],\"matches\":\"x\",\"showticklabels\":false},\"yaxis8\":{\"anchor\":\"x8\",\"domain\":[0.35666666666666663,0.46499999999999997],\"matches\":\"y\",\"showticklabels\":false},\"xaxis9\":{\"anchor\":\"y9\",\"domain\":[0.6799999999999999,0.9999999999999999],\"matches\":\"x\",\"showticklabels\":false},\"yaxis9\":{\"anchor\":\"x9\",\"domain\":[0.35666666666666663,0.46499999999999997],\"matches\":\"y\",\"showticklabels\":false},\"xaxis10\":{\"anchor\":\"y10\",\"domain\":[0.0,0.31999999999999995],\"matches\":\"x\",\"showticklabels\":false},\"yaxis10\":{\"anchor\":\"x10\",\"domain\":[0.5349999999999999,0.6433333333333332],\"matches\":\"y\",\"title\":{\"text\":\"count\"}},\"xaxis11\":{\"anchor\":\"y11\",\"domain\":[0.33999999999999997,0.6599999999999999],\"matches\":\"x\",\"showticklabels\":false},\"yaxis11\":{\"anchor\":\"x11\",\"domain\":[0.5349999999999999,0.6433333333333332],\"matches\":\"y\",\"showticklabels\":false},\"xaxis12\":{\"anchor\":\"y12\",\"domain\":[0.6799999999999999,0.9999999999999999],\"matches\":\"x\",\"showticklabels\":false},\"yaxis12\":{\"anchor\":\"x12\",\"domain\":[0.5349999999999999,0.6433333333333332],\"matches\":\"y\",\"showticklabels\":false},\"xaxis13\":{\"anchor\":\"y13\",\"domain\":[0.0,0.31999999999999995],\"matches\":\"x\",\"showticklabels\":false},\"yaxis13\":{\"anchor\":\"x13\",\"domain\":[0.7133333333333333,0.8216666666666665],\"matches\":\"y\",\"title\":{\"text\":\"count\"}},\"xaxis14\":{\"anchor\":\"y14\",\"domain\":[0.33999999999999997,0.6599999999999999],\"matches\":\"x\",\"showticklabels\":false},\"yaxis14\":{\"anchor\":\"x14\",\"domain\":[0.7133333333333333,0.8216666666666665],\"matches\":\"y\",\"showticklabels\":false},\"xaxis15\":{\"anchor\":\"y15\",\"domain\":[0.6799999999999999,0.9999999999999999],\"matches\":\"x\",\"showticklabels\":false},\"yaxis15\":{\"anchor\":\"x15\",\"domain\":[0.7133333333333333,0.8216666666666665],\"matches\":\"y\",\"showticklabels\":false},\"xaxis16\":{\"anchor\":\"y16\",\"domain\":[0.0,0.31999999999999995],\"matches\":\"x\",\"showticklabels\":false},\"yaxis16\":{\"anchor\":\"x16\",\"domain\":[0.8916666666666666,0.9999999999999999],\"matches\":\"y\",\"title\":{\"text\":\"count\"}},\"xaxis17\":{\"anchor\":\"y17\",\"domain\":[0.33999999999999997,0.6599999999999999],\"matches\":\"x\",\"showticklabels\":false},\"yaxis17\":{\"anchor\":\"x17\",\"domain\":[0.8916666666666666,0.9999999999999999],\"matches\":\"y\",\"showticklabels\":false},\"xaxis18\":{\"anchor\":\"y18\",\"domain\":[0.6799999999999999,0.9999999999999999],\"matches\":\"x\",\"showticklabels\":false},\"yaxis18\":{\"anchor\":\"x18\",\"domain\":[0.8916666666666666,0.9999999999999999],\"matches\":\"y\",\"showticklabels\":false},\"annotations\":[{\"font\":{},\"showarrow\":false,\"text\":\"Major_category=Interdisciplinary\",\"x\":0.15999999999999998,\"xanchor\":\"center\",\"xref\":\"paper\",\"y\":0.10833333333333331,\"yanchor\":\"bottom\",\"yref\":\"paper\"},{\"font\":{},\"showarrow\":false,\"text\":\"Major_category=Humanities & Liberal Arts\",\"x\":0.15999999999999998,\"xanchor\":\"center\",\"xref\":\"paper\",\"y\":0.2866666666666666,\"yanchor\":\"bottom\",\"yref\":\"paper\"},{\"font\":{},\"showarrow\":false,\"text\":\"Major_category=Psychology & Social Work\",\"x\":0.49999999999999994,\"xanchor\":\"center\",\"xref\":\"paper\",\"y\":0.2866666666666666,\"yanchor\":\"bottom\",\"yref\":\"paper\"},{\"font\":{},\"showarrow\":false,\"text\":\"Major_category=Communications & Journalism\",\"x\":0.8399999999999999,\"xanchor\":\"center\",\"xref\":\"paper\",\"y\":0.2866666666666666,\"yanchor\":\"bottom\",\"yref\":\"paper\"},{\"font\":{},\"showarrow\":false,\"text\":\"Major_category=Social Science\",\"x\":0.15999999999999998,\"xanchor\":\"center\",\"xref\":\"paper\",\"y\":0.46499999999999997,\"yanchor\":\"bottom\",\"yref\":\"paper\"},{\"font\":{},\"showarrow\":false,\"text\":\"Major_category=Biology & Life Science\",\"x\":0.49999999999999994,\"xanchor\":\"center\",\"xref\":\"paper\",\"y\":0.46499999999999997,\"yanchor\":\"bottom\",\"yref\":\"paper\"},{\"font\":{},\"showarrow\":false,\"text\":\"Major_category=Education\",\"x\":0.8399999999999999,\"xanchor\":\"center\",\"xref\":\"paper\",\"y\":0.46499999999999997,\"yanchor\":\"bottom\",\"yref\":\"paper\"},{\"font\":{},\"showarrow\":false,\"text\":\"Major_category=Industrial Arts & Consumer Services\",\"x\":0.15999999999999998,\"xanchor\":\"center\",\"xref\":\"paper\",\"y\":0.6433333333333332,\"yanchor\":\"bottom\",\"yref\":\"paper\"},{\"font\":{},\"showarrow\":false,\"text\":\"Major_category=Arts\",\"x\":0.49999999999999994,\"xanchor\":\"center\",\"xref\":\"paper\",\"y\":0.6433333333333332,\"yanchor\":\"bottom\",\"yref\":\"paper\"},{\"font\":{},\"showarrow\":false,\"text\":\"Major_category=Health\",\"x\":0.8399999999999999,\"xanchor\":\"center\",\"xref\":\"paper\",\"y\":0.6433333333333332,\"yanchor\":\"bottom\",\"yref\":\"paper\"},{\"font\":{},\"showarrow\":false,\"text\":\"Major_category=Law & Public Policy\",\"x\":0.15999999999999998,\"xanchor\":\"center\",\"xref\":\"paper\",\"y\":0.8216666666666665,\"yanchor\":\"bottom\",\"yref\":\"paper\"},{\"font\":{},\"showarrow\":false,\"text\":\"Major_category=Computers & Mathematics\",\"x\":0.49999999999999994,\"xanchor\":\"center\",\"xref\":\"paper\",\"y\":0.8216666666666665,\"yanchor\":\"bottom\",\"yref\":\"paper\"},{\"font\":{},\"showarrow\":false,\"text\":\"Major_category=Agriculture & Natural Resources\",\"x\":0.8399999999999999,\"xanchor\":\"center\",\"xref\":\"paper\",\"y\":0.8216666666666665,\"yanchor\":\"bottom\",\"yref\":\"paper\"},{\"font\":{},\"showarrow\":false,\"text\":\"Major_category=Engineering\",\"x\":0.15999999999999998,\"xanchor\":\"center\",\"xref\":\"paper\",\"y\":0.9999999999999999,\"yanchor\":\"bottom\",\"yref\":\"paper\"},{\"font\":{},\"showarrow\":false,\"text\":\"Major_category=Business\",\"x\":0.49999999999999994,\"xanchor\":\"center\",\"xref\":\"paper\",\"y\":0.9999999999999999,\"yanchor\":\"bottom\",\"yref\":\"paper\"},{\"font\":{},\"showarrow\":false,\"text\":\"Major_category=Physical Sciences\",\"x\":0.8399999999999999,\"xanchor\":\"center\",\"xref\":\"paper\",\"y\":0.9999999999999999,\"yanchor\":\"bottom\",\"yref\":\"paper\"}],\"legend\":{\"tracegroupgap\":0},\"margin\":{\"t\":60},\"barmode\":\"relative\",\"autosize\":false,\"width\":1000,\"height\":1600},                        {\"responsive\": true}                    ).then(function(){\n",
       "                            \n",
       "var gd = document.getElementById('3c2cf232-08a1-41b9-81ad-14773aa2852c');\n",
       "var x = new MutationObserver(function (mutations, observer) {{\n",
       "        var display = window.getComputedStyle(gd).display;\n",
       "        if (!display || display === 'none') {{\n",
       "            console.log([gd, 'removed!']);\n",
       "            Plotly.purge(gd);\n",
       "            observer.disconnect();\n",
       "        }}\n",
       "}});\n",
       "\n",
       "// Listen for the removal of the full notebook cells\n",
       "var notebookContainer = gd.closest('#notebook-container');\n",
       "if (notebookContainer) {{\n",
       "    x.observe(notebookContainer, {childList: true});\n",
       "}}\n",
       "\n",
       "// Listen for the clearing of the current output cell\n",
       "var outputEl = gd.closest('.output');\n",
       "if (outputEl) {{\n",
       "    x.observe(outputEl, {childList: true});\n",
       "}}\n",
       "\n",
       "                        })                };                });            </script>        </div>"
      ]
     },
     "metadata": {},
     "output_type": "display_data"
    }
   ],
   "source": [
    "#    * Do some summary statistics using the .group_by() command to see the statistics for each major category.\n",
    "\n",
    "fig = px.histogram(DF_raw,\n",
    "                  x = 'Median',\n",
    "                   nbins = 30,\n",
    "                  facet_col= 'Major_category',\n",
    "                  facet_col_wrap= 3)\n",
    "fig.update_layout(autosize=False,\n",
    "                  width=1000,\n",
    "                  height=1600)\n",
    "\n",
    "fig.show()"
   ]
  },
  {
   "cell_type": "code",
   "execution_count": null,
   "id": "befab4c6-b29d-4470-9e5d-4409ce3cd24f",
   "metadata": {},
   "outputs": [],
   "source": [
    "# which major category has the highest typical median income"
   ]
  },
  {
   "cell_type": "code",
   "execution_count": 275,
   "id": "4f30f622-186f-4d8b-9805-8c0fceb257b9",
   "metadata": {},
   "outputs": [
    {
     "data": {
      "text/html": [
       "<div>\n",
       "<style scoped>\n",
       "    .dataframe tbody tr th:only-of-type {\n",
       "        vertical-align: middle;\n",
       "    }\n",
       "\n",
       "    .dataframe tbody tr th {\n",
       "        vertical-align: top;\n",
       "    }\n",
       "\n",
       "    .dataframe thead th {\n",
       "        text-align: right;\n",
       "    }\n",
       "</style>\n",
       "<table border=\"1\" class=\"dataframe\">\n",
       "  <thead>\n",
       "    <tr style=\"text-align: right;\">\n",
       "      <th></th>\n",
       "      <th>Rank</th>\n",
       "      <th>Major_code</th>\n",
       "      <th>Major</th>\n",
       "      <th>Total</th>\n",
       "      <th>Men</th>\n",
       "      <th>Women</th>\n",
       "      <th>Major_category</th>\n",
       "      <th>ShareWomen</th>\n",
       "      <th>Sample_size</th>\n",
       "      <th>Employed</th>\n",
       "      <th>...</th>\n",
       "      <th>Part_time</th>\n",
       "      <th>Full_time_year_round</th>\n",
       "      <th>Unemployed</th>\n",
       "      <th>Unemployment_rate</th>\n",
       "      <th>Median</th>\n",
       "      <th>P25th</th>\n",
       "      <th>P75th</th>\n",
       "      <th>College_jobs</th>\n",
       "      <th>Non_college_jobs</th>\n",
       "      <th>Low_wage_jobs</th>\n",
       "    </tr>\n",
       "  </thead>\n",
       "  <tbody>\n",
       "    <tr>\n",
       "      <th>0</th>\n",
       "      <td>1</td>\n",
       "      <td>2419</td>\n",
       "      <td>PETROLEUM ENGINEERING</td>\n",
       "      <td>2339.0</td>\n",
       "      <td>2057.0</td>\n",
       "      <td>282.0</td>\n",
       "      <td>Engineering</td>\n",
       "      <td>0.120564</td>\n",
       "      <td>36</td>\n",
       "      <td>1976</td>\n",
       "      <td>...</td>\n",
       "      <td>270</td>\n",
       "      <td>1207</td>\n",
       "      <td>37</td>\n",
       "      <td>0.018381</td>\n",
       "      <td>110000</td>\n",
       "      <td>95000</td>\n",
       "      <td>125000</td>\n",
       "      <td>1534</td>\n",
       "      <td>364</td>\n",
       "      <td>193</td>\n",
       "    </tr>\n",
       "    <tr>\n",
       "      <th>1</th>\n",
       "      <td>2</td>\n",
       "      <td>2416</td>\n",
       "      <td>MINING AND MINERAL ENGINEERING</td>\n",
       "      <td>756.0</td>\n",
       "      <td>679.0</td>\n",
       "      <td>77.0</td>\n",
       "      <td>Engineering</td>\n",
       "      <td>0.101852</td>\n",
       "      <td>7</td>\n",
       "      <td>640</td>\n",
       "      <td>...</td>\n",
       "      <td>170</td>\n",
       "      <td>388</td>\n",
       "      <td>85</td>\n",
       "      <td>0.117241</td>\n",
       "      <td>75000</td>\n",
       "      <td>55000</td>\n",
       "      <td>90000</td>\n",
       "      <td>350</td>\n",
       "      <td>257</td>\n",
       "      <td>50</td>\n",
       "    </tr>\n",
       "    <tr>\n",
       "      <th>2</th>\n",
       "      <td>3</td>\n",
       "      <td>2415</td>\n",
       "      <td>METALLURGICAL ENGINEERING</td>\n",
       "      <td>856.0</td>\n",
       "      <td>725.0</td>\n",
       "      <td>131.0</td>\n",
       "      <td>Engineering</td>\n",
       "      <td>0.153037</td>\n",
       "      <td>3</td>\n",
       "      <td>648</td>\n",
       "      <td>...</td>\n",
       "      <td>133</td>\n",
       "      <td>340</td>\n",
       "      <td>16</td>\n",
       "      <td>0.024096</td>\n",
       "      <td>73000</td>\n",
       "      <td>50000</td>\n",
       "      <td>105000</td>\n",
       "      <td>456</td>\n",
       "      <td>176</td>\n",
       "      <td>0</td>\n",
       "    </tr>\n",
       "    <tr>\n",
       "      <th>3</th>\n",
       "      <td>4</td>\n",
       "      <td>2417</td>\n",
       "      <td>NAVAL ARCHITECTURE AND MARINE ENGINEERING</td>\n",
       "      <td>1258.0</td>\n",
       "      <td>1123.0</td>\n",
       "      <td>135.0</td>\n",
       "      <td>Engineering</td>\n",
       "      <td>0.107313</td>\n",
       "      <td>16</td>\n",
       "      <td>758</td>\n",
       "      <td>...</td>\n",
       "      <td>150</td>\n",
       "      <td>692</td>\n",
       "      <td>40</td>\n",
       "      <td>0.050125</td>\n",
       "      <td>70000</td>\n",
       "      <td>43000</td>\n",
       "      <td>80000</td>\n",
       "      <td>529</td>\n",
       "      <td>102</td>\n",
       "      <td>0</td>\n",
       "    </tr>\n",
       "    <tr>\n",
       "      <th>4</th>\n",
       "      <td>5</td>\n",
       "      <td>2405</td>\n",
       "      <td>CHEMICAL ENGINEERING</td>\n",
       "      <td>32260.0</td>\n",
       "      <td>21239.0</td>\n",
       "      <td>11021.0</td>\n",
       "      <td>Engineering</td>\n",
       "      <td>0.341631</td>\n",
       "      <td>289</td>\n",
       "      <td>25694</td>\n",
       "      <td>...</td>\n",
       "      <td>5180</td>\n",
       "      <td>16697</td>\n",
       "      <td>1672</td>\n",
       "      <td>0.061098</td>\n",
       "      <td>65000</td>\n",
       "      <td>50000</td>\n",
       "      <td>75000</td>\n",
       "      <td>18314</td>\n",
       "      <td>4440</td>\n",
       "      <td>972</td>\n",
       "    </tr>\n",
       "    <tr>\n",
       "      <th>...</th>\n",
       "      <td>...</td>\n",
       "      <td>...</td>\n",
       "      <td>...</td>\n",
       "      <td>...</td>\n",
       "      <td>...</td>\n",
       "      <td>...</td>\n",
       "      <td>...</td>\n",
       "      <td>...</td>\n",
       "      <td>...</td>\n",
       "      <td>...</td>\n",
       "      <td>...</td>\n",
       "      <td>...</td>\n",
       "      <td>...</td>\n",
       "      <td>...</td>\n",
       "      <td>...</td>\n",
       "      <td>...</td>\n",
       "      <td>...</td>\n",
       "      <td>...</td>\n",
       "      <td>...</td>\n",
       "      <td>...</td>\n",
       "      <td>...</td>\n",
       "    </tr>\n",
       "    <tr>\n",
       "      <th>168</th>\n",
       "      <td>169</td>\n",
       "      <td>3609</td>\n",
       "      <td>ZOOLOGY</td>\n",
       "      <td>8409.0</td>\n",
       "      <td>3050.0</td>\n",
       "      <td>5359.0</td>\n",
       "      <td>Biology &amp; Life Science</td>\n",
       "      <td>0.637293</td>\n",
       "      <td>47</td>\n",
       "      <td>6259</td>\n",
       "      <td>...</td>\n",
       "      <td>2190</td>\n",
       "      <td>3602</td>\n",
       "      <td>304</td>\n",
       "      <td>0.046320</td>\n",
       "      <td>26000</td>\n",
       "      <td>20000</td>\n",
       "      <td>39000</td>\n",
       "      <td>2771</td>\n",
       "      <td>2947</td>\n",
       "      <td>743</td>\n",
       "    </tr>\n",
       "    <tr>\n",
       "      <th>169</th>\n",
       "      <td>170</td>\n",
       "      <td>5201</td>\n",
       "      <td>EDUCATIONAL PSYCHOLOGY</td>\n",
       "      <td>2854.0</td>\n",
       "      <td>522.0</td>\n",
       "      <td>2332.0</td>\n",
       "      <td>Psychology &amp; Social Work</td>\n",
       "      <td>0.817099</td>\n",
       "      <td>7</td>\n",
       "      <td>2125</td>\n",
       "      <td>...</td>\n",
       "      <td>572</td>\n",
       "      <td>1211</td>\n",
       "      <td>148</td>\n",
       "      <td>0.065112</td>\n",
       "      <td>25000</td>\n",
       "      <td>24000</td>\n",
       "      <td>34000</td>\n",
       "      <td>1488</td>\n",
       "      <td>615</td>\n",
       "      <td>82</td>\n",
       "    </tr>\n",
       "    <tr>\n",
       "      <th>170</th>\n",
       "      <td>171</td>\n",
       "      <td>5202</td>\n",
       "      <td>CLINICAL PSYCHOLOGY</td>\n",
       "      <td>2838.0</td>\n",
       "      <td>568.0</td>\n",
       "      <td>2270.0</td>\n",
       "      <td>Psychology &amp; Social Work</td>\n",
       "      <td>0.799859</td>\n",
       "      <td>13</td>\n",
       "      <td>2101</td>\n",
       "      <td>...</td>\n",
       "      <td>648</td>\n",
       "      <td>1293</td>\n",
       "      <td>368</td>\n",
       "      <td>0.149048</td>\n",
       "      <td>25000</td>\n",
       "      <td>25000</td>\n",
       "      <td>40000</td>\n",
       "      <td>986</td>\n",
       "      <td>870</td>\n",
       "      <td>622</td>\n",
       "    </tr>\n",
       "    <tr>\n",
       "      <th>171</th>\n",
       "      <td>172</td>\n",
       "      <td>5203</td>\n",
       "      <td>COUNSELING PSYCHOLOGY</td>\n",
       "      <td>4626.0</td>\n",
       "      <td>931.0</td>\n",
       "      <td>3695.0</td>\n",
       "      <td>Psychology &amp; Social Work</td>\n",
       "      <td>0.798746</td>\n",
       "      <td>21</td>\n",
       "      <td>3777</td>\n",
       "      <td>...</td>\n",
       "      <td>965</td>\n",
       "      <td>2738</td>\n",
       "      <td>214</td>\n",
       "      <td>0.053621</td>\n",
       "      <td>23400</td>\n",
       "      <td>19200</td>\n",
       "      <td>26000</td>\n",
       "      <td>2403</td>\n",
       "      <td>1245</td>\n",
       "      <td>308</td>\n",
       "    </tr>\n",
       "    <tr>\n",
       "      <th>172</th>\n",
       "      <td>173</td>\n",
       "      <td>3501</td>\n",
       "      <td>LIBRARY SCIENCE</td>\n",
       "      <td>1098.0</td>\n",
       "      <td>134.0</td>\n",
       "      <td>964.0</td>\n",
       "      <td>Education</td>\n",
       "      <td>0.877960</td>\n",
       "      <td>2</td>\n",
       "      <td>742</td>\n",
       "      <td>...</td>\n",
       "      <td>237</td>\n",
       "      <td>410</td>\n",
       "      <td>87</td>\n",
       "      <td>0.104946</td>\n",
       "      <td>22000</td>\n",
       "      <td>20000</td>\n",
       "      <td>22000</td>\n",
       "      <td>288</td>\n",
       "      <td>338</td>\n",
       "      <td>192</td>\n",
       "    </tr>\n",
       "  </tbody>\n",
       "</table>\n",
       "<p>173 rows × 21 columns</p>\n",
       "</div>"
      ],
      "text/plain": [
       "     Rank  Major_code                                      Major    Total  \\\n",
       "0       1        2419                      PETROLEUM ENGINEERING   2339.0   \n",
       "1       2        2416             MINING AND MINERAL ENGINEERING    756.0   \n",
       "2       3        2415                  METALLURGICAL ENGINEERING    856.0   \n",
       "3       4        2417  NAVAL ARCHITECTURE AND MARINE ENGINEERING   1258.0   \n",
       "4       5        2405                       CHEMICAL ENGINEERING  32260.0   \n",
       "..    ...         ...                                        ...      ...   \n",
       "168   169        3609                                    ZOOLOGY   8409.0   \n",
       "169   170        5201                     EDUCATIONAL PSYCHOLOGY   2854.0   \n",
       "170   171        5202                        CLINICAL PSYCHOLOGY   2838.0   \n",
       "171   172        5203                      COUNSELING PSYCHOLOGY   4626.0   \n",
       "172   173        3501                            LIBRARY SCIENCE   1098.0   \n",
       "\n",
       "         Men    Women            Major_category  ShareWomen  Sample_size  \\\n",
       "0     2057.0    282.0               Engineering    0.120564           36   \n",
       "1      679.0     77.0               Engineering    0.101852            7   \n",
       "2      725.0    131.0               Engineering    0.153037            3   \n",
       "3     1123.0    135.0               Engineering    0.107313           16   \n",
       "4    21239.0  11021.0               Engineering    0.341631          289   \n",
       "..       ...      ...                       ...         ...          ...   \n",
       "168   3050.0   5359.0    Biology & Life Science    0.637293           47   \n",
       "169    522.0   2332.0  Psychology & Social Work    0.817099            7   \n",
       "170    568.0   2270.0  Psychology & Social Work    0.799859           13   \n",
       "171    931.0   3695.0  Psychology & Social Work    0.798746           21   \n",
       "172    134.0    964.0                 Education    0.877960            2   \n",
       "\n",
       "     Employed  ...  Part_time  Full_time_year_round  Unemployed  \\\n",
       "0        1976  ...        270                  1207          37   \n",
       "1         640  ...        170                   388          85   \n",
       "2         648  ...        133                   340          16   \n",
       "3         758  ...        150                   692          40   \n",
       "4       25694  ...       5180                 16697        1672   \n",
       "..        ...  ...        ...                   ...         ...   \n",
       "168      6259  ...       2190                  3602         304   \n",
       "169      2125  ...        572                  1211         148   \n",
       "170      2101  ...        648                  1293         368   \n",
       "171      3777  ...        965                  2738         214   \n",
       "172       742  ...        237                   410          87   \n",
       "\n",
       "     Unemployment_rate  Median  P25th   P75th  College_jobs  Non_college_jobs  \\\n",
       "0             0.018381  110000  95000  125000          1534               364   \n",
       "1             0.117241   75000  55000   90000           350               257   \n",
       "2             0.024096   73000  50000  105000           456               176   \n",
       "3             0.050125   70000  43000   80000           529               102   \n",
       "4             0.061098   65000  50000   75000         18314              4440   \n",
       "..                 ...     ...    ...     ...           ...               ...   \n",
       "168           0.046320   26000  20000   39000          2771              2947   \n",
       "169           0.065112   25000  24000   34000          1488               615   \n",
       "170           0.149048   25000  25000   40000           986               870   \n",
       "171           0.053621   23400  19200   26000          2403              1245   \n",
       "172           0.104946   22000  20000   22000           288               338   \n",
       "\n",
       "     Low_wage_jobs  \n",
       "0              193  \n",
       "1               50  \n",
       "2                0  \n",
       "3                0  \n",
       "4              972  \n",
       "..             ...  \n",
       "168            743  \n",
       "169             82  \n",
       "170            622  \n",
       "171            308  \n",
       "172            192  \n",
       "\n",
       "[173 rows x 21 columns]"
      ]
     },
     "execution_count": 275,
     "metadata": {},
     "output_type": "execute_result"
    }
   ],
   "source": [
    "DF_raw"
   ]
  },
  {
   "cell_type": "code",
   "execution_count": 312,
   "id": "939a302a-c434-468a-96fb-3049c18cbf19",
   "metadata": {},
   "outputs": [
    {
     "data": {
      "text/html": [
       "<div>\n",
       "<style scoped>\n",
       "    .dataframe tbody tr th:only-of-type {\n",
       "        vertical-align: middle;\n",
       "    }\n",
       "\n",
       "    .dataframe tbody tr th {\n",
       "        vertical-align: top;\n",
       "    }\n",
       "\n",
       "    .dataframe thead th {\n",
       "        text-align: right;\n",
       "    }\n",
       "</style>\n",
       "<table border=\"1\" class=\"dataframe\">\n",
       "  <thead>\n",
       "    <tr style=\"text-align: right;\">\n",
       "      <th></th>\n",
       "      <th>Median</th>\n",
       "    </tr>\n",
       "    <tr>\n",
       "      <th>Major_category</th>\n",
       "      <th></th>\n",
       "    </tr>\n",
       "  </thead>\n",
       "  <tbody>\n",
       "    <tr>\n",
       "      <th>Engineering</th>\n",
       "      <td>57382.758621</td>\n",
       "    </tr>\n",
       "    <tr>\n",
       "      <th>Business</th>\n",
       "      <td>43538.461538</td>\n",
       "    </tr>\n",
       "    <tr>\n",
       "      <th>Computers &amp; Mathematics</th>\n",
       "      <td>42745.454545</td>\n",
       "    </tr>\n",
       "    <tr>\n",
       "      <th>Law &amp; Public Policy</th>\n",
       "      <td>42200.000000</td>\n",
       "    </tr>\n",
       "    <tr>\n",
       "      <th>Physical Sciences</th>\n",
       "      <td>41890.000000</td>\n",
       "    </tr>\n",
       "    <tr>\n",
       "      <th>Social Science</th>\n",
       "      <td>37344.444444</td>\n",
       "    </tr>\n",
       "    <tr>\n",
       "      <th>Agriculture &amp; Natural Resources</th>\n",
       "      <td>36900.000000</td>\n",
       "    </tr>\n",
       "    <tr>\n",
       "      <th>Health</th>\n",
       "      <td>36825.000000</td>\n",
       "    </tr>\n",
       "    <tr>\n",
       "      <th>Biology &amp; Life Science</th>\n",
       "      <td>36421.428571</td>\n",
       "    </tr>\n",
       "    <tr>\n",
       "      <th>Industrial Arts &amp; Consumer Services</th>\n",
       "      <td>36342.857143</td>\n",
       "    </tr>\n",
       "    <tr>\n",
       "      <th>Interdisciplinary</th>\n",
       "      <td>35000.000000</td>\n",
       "    </tr>\n",
       "    <tr>\n",
       "      <th>Communications &amp; Journalism</th>\n",
       "      <td>34500.000000</td>\n",
       "    </tr>\n",
       "    <tr>\n",
       "      <th>Arts</th>\n",
       "      <td>33062.500000</td>\n",
       "    </tr>\n",
       "    <tr>\n",
       "      <th>Education</th>\n",
       "      <td>32350.000000</td>\n",
       "    </tr>\n",
       "    <tr>\n",
       "      <th>Humanities &amp; Liberal Arts</th>\n",
       "      <td>31913.333333</td>\n",
       "    </tr>\n",
       "    <tr>\n",
       "      <th>Psychology &amp; Social Work</th>\n",
       "      <td>30100.000000</td>\n",
       "    </tr>\n",
       "  </tbody>\n",
       "</table>\n",
       "</div>"
      ],
      "text/plain": [
       "                                           Median\n",
       "Major_category                                   \n",
       "Engineering                          57382.758621\n",
       "Business                             43538.461538\n",
       "Computers & Mathematics              42745.454545\n",
       "Law & Public Policy                  42200.000000\n",
       "Physical Sciences                    41890.000000\n",
       "Social Science                       37344.444444\n",
       "Agriculture & Natural Resources      36900.000000\n",
       "Health                               36825.000000\n",
       "Biology & Life Science               36421.428571\n",
       "Industrial Arts & Consumer Services  36342.857143\n",
       "Interdisciplinary                    35000.000000\n",
       "Communications & Journalism          34500.000000\n",
       "Arts                                 33062.500000\n",
       "Education                            32350.000000\n",
       "Humanities & Liberal Arts            31913.333333\n",
       "Psychology & Social Work             30100.000000"
      ]
     },
     "execution_count": 312,
     "metadata": {},
     "output_type": "execute_result"
    }
   ],
   "source": [
    "my_columns = ['Major_category','Median']\n",
    "DF_meep = DF_raw[my_columns].groupby('Major_category').mean()\n",
    "DF_meep.sort_values('Median' , ascending=False)\n",
    "\n"
   ]
  },
  {
   "cell_type": "code",
   "execution_count": 273,
   "id": "a595e3c3-8b12-4917-905a-486a305b6baa",
   "metadata": {},
   "outputs": [
    {
     "data": {
      "text/html": [
       "<div>\n",
       "<style scoped>\n",
       "    .dataframe tbody tr th:only-of-type {\n",
       "        vertical-align: middle;\n",
       "    }\n",
       "\n",
       "    .dataframe tbody tr th {\n",
       "        vertical-align: top;\n",
       "    }\n",
       "\n",
       "    .dataframe thead th {\n",
       "        text-align: right;\n",
       "    }\n",
       "</style>\n",
       "<table border=\"1\" class=\"dataframe\">\n",
       "  <thead>\n",
       "    <tr style=\"text-align: right;\">\n",
       "      <th></th>\n",
       "      <th>Rank</th>\n",
       "      <th>Major_code</th>\n",
       "      <th>Median</th>\n",
       "      <th>Unemployment_rate</th>\n",
       "    </tr>\n",
       "  </thead>\n",
       "  <tbody>\n",
       "    <tr>\n",
       "      <th>20</th>\n",
       "      <td>21</td>\n",
       "      <td>2102</td>\n",
       "      <td>53000</td>\n",
       "      <td>0.063173</td>\n",
       "    </tr>\n",
       "  </tbody>\n",
       "</table>\n",
       "</div>"
      ],
      "text/plain": [
       "    Rank  Major_code  Median  Unemployment_rate\n",
       "20    21        2102   53000           0.063173"
      ]
     },
     "execution_count": 273,
     "metadata": {},
     "output_type": "execute_result"
    }
   ],
   "source": [
    "my_columns= ['Rank' , 'Major_code' , 'Median', 'Unemployment_rate' ]\n",
    "DF_new = DF_raw[my_columns]\n",
    "mask = DF_new['Major_code'] == 2102\n",
    "\n",
    "DF_new[mask] "
   ]
  },
  {
   "cell_type": "markdown",
   "id": "04306ea4-b398-411c-b91e-86a68d24a8d6",
   "metadata": {},
   "source": [
    "**(Click Here to Explain your Results)**"
   ]
  },
  {
   "cell_type": "markdown",
   "id": "39d4118e-26d8-4f81-8d65-569c4b6d97d1",
   "metadata": {},
   "source": [
    "### 3. More complicated questions\n",
    "\n",
    "* Are all STEM fields the same in terms job opportunities?\n",
    "    * Assume the following are STEM major categories\n",
    "    \n",
    "  ``` [\"Biology & Life Science\", \"Computers & Mathematics\", \"Engineering\",\"Physical Sciences\"]```\n",
    "  \n",
    "    * Create a DataFrame (using a mask) so you only look at STEM majors.\n",
    "    * Which STEM majors have median salaries equal to or less than the median for all majors' median earnings?\n",
    "* What types of majors do women tend to major in?\n",
    "    * Create a scatterplot of median income vs. proportion of women in that major, coloured by whether the major is in a STEM field or not."
   ]
  },
  {
   "cell_type": "code",
   "execution_count": 21,
   "id": "1639bd96-4f56-4ccb-b28c-51b09b961ae4",
   "metadata": {},
   "outputs": [],
   "source": [
    "#"
   ]
  },
  {
   "cell_type": "code",
   "execution_count": 22,
   "id": "4e0a96d0-07ee-4693-8972-829ab3518125",
   "metadata": {},
   "outputs": [],
   "source": [
    "#"
   ]
  },
  {
   "cell_type": "code",
   "execution_count": 23,
   "id": "be654ff2-e684-4eda-8843-4ac9f07a74ae",
   "metadata": {},
   "outputs": [],
   "source": [
    "#"
   ]
  },
  {
   "cell_type": "markdown",
   "id": "b9f65c22-2c17-495a-be1e-66e1dd2e183a",
   "metadata": {},
   "source": [
    "**(Click Here to Explain your Results)**"
   ]
  },
  {
   "cell_type": "markdown",
   "id": "b3df8412-b946-4812-ba3b-873fb0eb8d7c",
   "metadata": {},
   "source": [
    "### 4. Ask a question of interest to you."
   ]
  },
  {
   "cell_type": "code",
   "execution_count": 24,
   "id": "25a08e99-946a-4003-a477-1dc941e4357e",
   "metadata": {},
   "outputs": [],
   "source": [
    "#"
   ]
  },
  {
   "cell_type": "markdown",
   "id": "0940ef30-6ee7-42c8-8747-80f4b2bb8e3f",
   "metadata": {},
   "source": [
    "**(Click Here to Explain your Results)**"
   ]
  },
  {
   "cell_type": "markdown",
   "id": "f3d04f7b-94a9-4a1e-bbaf-e26029bdfed1",
   "metadata": {},
   "source": []
  },
  {
   "cell_type": "code",
   "execution_count": null,
   "id": "8569acec-f8ab-4866-81f3-2313770daa96",
   "metadata": {},
   "outputs": [],
   "source": []
  }
 ],
 "metadata": {
  "kernelspec": {
   "display_name": "Python 3 (ipykernel)",
   "language": "python",
   "name": "python3"
  },
  "language_info": {
   "codemirror_mode": {
    "name": "ipython",
    "version": 3
   },
   "file_extension": ".py",
   "mimetype": "text/x-python",
   "name": "python",
   "nbconvert_exporter": "python",
   "pygments_lexer": "ipython3",
   "version": "3.12.2"
  }
 },
 "nbformat": 4,
 "nbformat_minor": 5
}
